{
 "cells": [
  {
   "cell_type": "code",
   "execution_count": 22,
   "metadata": {},
   "outputs": [
    {
     "data": {
      "text/html": "<div>\n<style scoped>\n    .dataframe tbody tr th:only-of-type {\n        vertical-align: middle;\n    }\n\n    .dataframe tbody tr th {\n        vertical-align: top;\n    }\n\n    .dataframe thead th {\n        text-align: right;\n    }\n</style>\n<table border=\"1\" class=\"dataframe\">\n  <thead>\n    <tr style=\"text-align: right;\">\n      <th></th>\n      <th>code_module</th>\n      <th>code_presentation</th>\n      <th>id_student</th>\n      <th>assessments</th>\n      <th>vles</th>\n      <th>gender</th>\n      <th>region</th>\n      <th>highest_education</th>\n      <th>imd_band</th>\n      <th>age_band</th>\n      <th>num_of_prev_attempts</th>\n      <th>studied_credits</th>\n      <th>disability</th>\n      <th>final_result</th>\n      <th>date_registration</th>\n      <th>date_unregistration</th>\n      <th>module_presentation_length</th>\n    </tr>\n  </thead>\n  <tbody>\n    <tr>\n      <th>0</th>\n      <td>AAA</td>\n      <td>2013J</td>\n      <td>11391</td>\n      <td>[[1752, 18, 78.0, TMA, 19.0, 10.0], [1753, 53,...</td>\n      <td>[[546614, -5, homepage, 7], [546614, 0, homepa...</td>\n      <td>M</td>\n      <td>East Anglian Region</td>\n      <td>HE Qualification</td>\n      <td>90-100%</td>\n      <td>55&lt;=</td>\n      <td>0</td>\n      <td>240</td>\n      <td>N</td>\n      <td>Pass</td>\n      <td>-159.0</td>\n      <td>NaN</td>\n      <td>268</td>\n    </tr>\n    <tr>\n      <th>1</th>\n      <td>AAA</td>\n      <td>2013J</td>\n      <td>28400</td>\n      <td>[[1752, 22, 70.0, TMA, 19.0, 10.0], [1753, 52,...</td>\n      <td>[[546614, -10, homepage, 11], [546614, -8, hom...</td>\n      <td>F</td>\n      <td>Scotland</td>\n      <td>HE Qualification</td>\n      <td>20-30%</td>\n      <td>35-55</td>\n      <td>0</td>\n      <td>60</td>\n      <td>N</td>\n      <td>Pass</td>\n      <td>-53.0</td>\n      <td>NaN</td>\n      <td>268</td>\n    </tr>\n    <tr>\n      <th>2</th>\n      <td>AAA</td>\n      <td>2013J</td>\n      <td>31604</td>\n      <td>[[1752, 17, 72.0, TMA, 19.0, 10.0], [1753, 51,...</td>\n      <td>[[546614, -10, homepage, 11], [546614, -9, hom...</td>\n      <td>F</td>\n      <td>South East Region</td>\n      <td>A Level or Equivalent</td>\n      <td>50-60%</td>\n      <td>35-55</td>\n      <td>0</td>\n      <td>60</td>\n      <td>N</td>\n      <td>Pass</td>\n      <td>-52.0</td>\n      <td>NaN</td>\n      <td>268</td>\n    </tr>\n    <tr>\n      <th>3</th>\n      <td>AAA</td>\n      <td>2013J</td>\n      <td>32885</td>\n      <td>[[1752, 26, 69.0, TMA, 19.0, 10.0], [1753, 75,...</td>\n      <td>[[546614, -10, homepage, 13], [546614, -9, hom...</td>\n      <td>F</td>\n      <td>West Midlands Region</td>\n      <td>Lower Than A Level</td>\n      <td>50-60%</td>\n      <td>0-35</td>\n      <td>0</td>\n      <td>60</td>\n      <td>N</td>\n      <td>Pass</td>\n      <td>-176.0</td>\n      <td>NaN</td>\n      <td>268</td>\n    </tr>\n    <tr>\n      <th>4</th>\n      <td>AAA</td>\n      <td>2013J</td>\n      <td>38053</td>\n      <td>[[1752, 19, 79.0, TMA, 19.0, 10.0], [1753, 64,...</td>\n      <td>[[546614, -10, homepage, 13], [546614, -9, hom...</td>\n      <td>M</td>\n      <td>Wales</td>\n      <td>A Level or Equivalent</td>\n      <td>80-90%</td>\n      <td>35-55</td>\n      <td>0</td>\n      <td>60</td>\n      <td>N</td>\n      <td>Pass</td>\n      <td>-110.0</td>\n      <td>NaN</td>\n      <td>268</td>\n    </tr>\n  </tbody>\n</table>\n</div>",
      "text/plain": "  code_module code_presentation  id_student  \\\n0         AAA             2013J       11391   \n1         AAA             2013J       28400   \n2         AAA             2013J       31604   \n3         AAA             2013J       32885   \n4         AAA             2013J       38053   \n\n                                         assessments  \\\n0  [[1752, 18, 78.0, TMA, 19.0, 10.0], [1753, 53,...   \n1  [[1752, 22, 70.0, TMA, 19.0, 10.0], [1753, 52,...   \n2  [[1752, 17, 72.0, TMA, 19.0, 10.0], [1753, 51,...   \n3  [[1752, 26, 69.0, TMA, 19.0, 10.0], [1753, 75,...   \n4  [[1752, 19, 79.0, TMA, 19.0, 10.0], [1753, 64,...   \n\n                                                vles gender  \\\n0  [[546614, -5, homepage, 7], [546614, 0, homepa...      M   \n1  [[546614, -10, homepage, 11], [546614, -8, hom...      F   \n2  [[546614, -10, homepage, 11], [546614, -9, hom...      F   \n3  [[546614, -10, homepage, 13], [546614, -9, hom...      F   \n4  [[546614, -10, homepage, 13], [546614, -9, hom...      M   \n\n                 region      highest_education imd_band age_band  \\\n0   East Anglian Region       HE Qualification  90-100%     55<=   \n1              Scotland       HE Qualification   20-30%    35-55   \n2     South East Region  A Level or Equivalent   50-60%    35-55   \n3  West Midlands Region     Lower Than A Level   50-60%     0-35   \n4                 Wales  A Level or Equivalent   80-90%    35-55   \n\n   num_of_prev_attempts  studied_credits disability final_result  \\\n0                     0              240          N         Pass   \n1                     0               60          N         Pass   \n2                     0               60          N         Pass   \n3                     0               60          N         Pass   \n4                     0               60          N         Pass   \n\n   date_registration  date_unregistration  module_presentation_length  \n0             -159.0                  NaN                         268  \n1              -53.0                  NaN                         268  \n2              -52.0                  NaN                         268  \n3             -176.0                  NaN                         268  \n4             -110.0                  NaN                         268  "
     },
     "execution_count": 22,
     "metadata": {},
     "output_type": "execute_result"
    }
   ],
   "source": [
    "import pandas\n",
    "import pickle\n",
    "import numpy as np\n",
    "\n",
    "merged_data = pandas.read_pickle('../data/data-preperation-output.pickle')\n",
    "merged_data.head()"
   ]
  },
  {
   "cell_type": "code",
   "execution_count": 23,
   "metadata": {},
   "outputs": [
    {
     "data": {
      "text/plain": "count    25793.000000\nmean         6.736091\nstd          3.770717\nmin          1.000000\n25%          4.000000\n50%          7.000000\n75%         10.000000\nmax         14.000000\nName: assessments_amount, dtype: float64"
     },
     "execution_count": 23,
     "metadata": {},
     "output_type": "execute_result"
    }
   ],
   "source": [
    "def calculate_amount_assessments(row):\n",
    "    row['assessments_amount'] = len(row['assessments'])\n",
    "    return row\n",
    "\n",
    "merged_data = merged_data.apply(calculate_amount_assessments, axis=1)\n",
    "merged_data['assessments_amount'].describe()"
   ]
  },
  {
   "cell_type": "code",
   "execution_count": 24,
   "metadata": {},
   "outputs": [
    {
     "data": {
      "text/html": "<div>\n<style scoped>\n    .dataframe tbody tr th:only-of-type {\n        vertical-align: middle;\n    }\n\n    .dataframe tbody tr th {\n        vertical-align: top;\n    }\n\n    .dataframe thead th {\n        text-align: right;\n    }\n</style>\n<table border=\"1\" class=\"dataframe\">\n  <thead>\n    <tr style=\"text-align: right;\">\n      <th></th>\n      <th></th>\n      <th>max_weight</th>\n    </tr>\n    <tr>\n      <th>code_module</th>\n      <th>code_presentation</th>\n      <th></th>\n    </tr>\n  </thead>\n  <tbody>\n    <tr>\n      <th rowspan=\"2\" valign=\"top\">AAA</th>\n      <th>2013J</th>\n      <td>100.0</td>\n    </tr>\n    <tr>\n      <th>2014J</th>\n      <td>100.0</td>\n    </tr>\n    <tr>\n      <th rowspan=\"4\" valign=\"top\">BBB</th>\n      <th>2013B</th>\n      <td>100.0</td>\n    </tr>\n    <tr>\n      <th>2013J</th>\n      <td>100.0</td>\n    </tr>\n    <tr>\n      <th>2014B</th>\n      <td>100.0</td>\n    </tr>\n    <tr>\n      <th>2014J</th>\n      <td>100.0</td>\n    </tr>\n    <tr>\n      <th rowspan=\"2\" valign=\"top\">CCC</th>\n      <th>2014B</th>\n      <td>200.0</td>\n    </tr>\n    <tr>\n      <th>2014J</th>\n      <td>200.0</td>\n    </tr>\n    <tr>\n      <th rowspan=\"4\" valign=\"top\">DDD</th>\n      <th>2013B</th>\n      <td>200.0</td>\n    </tr>\n    <tr>\n      <th>2013J</th>\n      <td>200.0</td>\n    </tr>\n    <tr>\n      <th>2014B</th>\n      <td>200.0</td>\n    </tr>\n    <tr>\n      <th>2014J</th>\n      <td>200.0</td>\n    </tr>\n    <tr>\n      <th rowspan=\"3\" valign=\"top\">EEE</th>\n      <th>2013J</th>\n      <td>100.0</td>\n    </tr>\n    <tr>\n      <th>2014B</th>\n      <td>100.0</td>\n    </tr>\n    <tr>\n      <th>2014J</th>\n      <td>100.0</td>\n    </tr>\n    <tr>\n      <th rowspan=\"4\" valign=\"top\">FFF</th>\n      <th>2013B</th>\n      <td>100.0</td>\n    </tr>\n    <tr>\n      <th>2013J</th>\n      <td>100.0</td>\n    </tr>\n    <tr>\n      <th>2014B</th>\n      <td>100.0</td>\n    </tr>\n    <tr>\n      <th>2014J</th>\n      <td>100.0</td>\n    </tr>\n    <tr>\n      <th rowspan=\"2\" valign=\"top\">GGG</th>\n      <th>2013J</th>\n      <td>0.0</td>\n    </tr>\n    <tr>\n      <th>2014B</th>\n      <td>0.0</td>\n    </tr>\n  </tbody>\n</table>\n</div>",
      "text/plain": "                               max_weight\ncode_module code_presentation            \nAAA         2013J                   100.0\n            2014J                   100.0\nBBB         2013B                   100.0\n            2013J                   100.0\n            2014B                   100.0\n            2014J                   100.0\nCCC         2014B                   200.0\n            2014J                   200.0\nDDD         2013B                   200.0\n            2013J                   200.0\n            2014B                   200.0\n            2014J                   200.0\nEEE         2013J                   100.0\n            2014B                   100.0\n            2014J                   100.0\nFFF         2013B                   100.0\n            2013J                   100.0\n            2014B                   100.0\n            2014J                   100.0\nGGG         2013J                     0.0\n            2014B                     0.0"
     },
     "execution_count": 24,
     "metadata": {},
     "output_type": "execute_result"
    }
   ],
   "source": [
    "import math\n",
    "\n",
    "# analyze the max weight of a course\n",
    "assessment_lists_per_student_per_course = merged_data.groupby(['code_module', 'code_presentation']).agg({\n",
    "    \"assessments\": lambda x: list(x),\n",
    "}).reset_index()\n",
    "\n",
    "def analyze_max_weight_per_course_per_presentation(row):\n",
    "    asessments_of_students = row['assessments']\n",
    "    max_weight = 0\n",
    "    for asessments_of_student in asessments_of_students:\n",
    "        weights = [weight for (id_assessment, date_submitted, score, assessment_type, date, weight) in asessments_of_student]\n",
    "        student_max_weight = sum(weights)\n",
    "        if student_max_weight > max_weight:\n",
    "            max_weight = student_max_weight\n",
    "        \n",
    "\n",
    "    row['max_weight'] = max_weight\n",
    "    return row\n",
    "\n",
    "max_weights_per_course_per_presentation = assessment_lists_per_student_per_course.apply(analyze_max_weight_per_course_per_presentation, axis = 1)\n",
    "max_weights_per_course_per_presentation = max_weights_per_course_per_presentation.drop('assessments', axis=1).set_index(['code_module', 'code_presentation'])\n",
    "max_weights_per_course_per_presentation.head(21)"
   ]
  },
  {
   "cell_type": "code",
   "execution_count": 25,
   "metadata": {},
   "outputs": [
    {
     "data": {
      "text/html": "<div>\n<style scoped>\n    .dataframe tbody tr th:only-of-type {\n        vertical-align: middle;\n    }\n\n    .dataframe tbody tr th {\n        vertical-align: top;\n    }\n\n    .dataframe thead th {\n        text-align: right;\n    }\n</style>\n<table border=\"1\" class=\"dataframe\">\n  <thead>\n    <tr style=\"text-align: right;\">\n      <th></th>\n      <th>code_module</th>\n      <th>code_presentation</th>\n      <th>id_student</th>\n      <th>assessments</th>\n      <th>vles</th>\n      <th>gender</th>\n      <th>region</th>\n      <th>highest_education</th>\n      <th>imd_band</th>\n      <th>age_band</th>\n      <th>num_of_prev_attempts</th>\n      <th>studied_credits</th>\n      <th>disability</th>\n      <th>final_result</th>\n      <th>date_registration</th>\n      <th>date_unregistration</th>\n      <th>module_presentation_length</th>\n      <th>assessments_amount</th>\n      <th>average_score</th>\n    </tr>\n  </thead>\n  <tbody>\n    <tr>\n      <th>0</th>\n      <td>AAA</td>\n      <td>2013J</td>\n      <td>11391</td>\n      <td>[[1752, 18, 78.0, TMA, 19.0, 10.0], [1753, 53,...</td>\n      <td>[[546614, -5, homepage, 7], [546614, 0, homepa...</td>\n      <td>M</td>\n      <td>East Anglian Region</td>\n      <td>HE Qualification</td>\n      <td>90-100%</td>\n      <td>55&lt;=</td>\n      <td>0</td>\n      <td>240</td>\n      <td>N</td>\n      <td>Pass</td>\n      <td>-159.0</td>\n      <td>NaN</td>\n      <td>268</td>\n      <td>5</td>\n      <td>82.4</td>\n    </tr>\n    <tr>\n      <th>1</th>\n      <td>AAA</td>\n      <td>2013J</td>\n      <td>28400</td>\n      <td>[[1752, 22, 70.0, TMA, 19.0, 10.0], [1753, 52,...</td>\n      <td>[[546614, -10, homepage, 11], [546614, -8, hom...</td>\n      <td>F</td>\n      <td>Scotland</td>\n      <td>HE Qualification</td>\n      <td>20-30%</td>\n      <td>35-55</td>\n      <td>0</td>\n      <td>60</td>\n      <td>N</td>\n      <td>Pass</td>\n      <td>-53.0</td>\n      <td>NaN</td>\n      <td>268</td>\n      <td>5</td>\n      <td>65.4</td>\n    </tr>\n    <tr>\n      <th>2</th>\n      <td>AAA</td>\n      <td>2013J</td>\n      <td>31604</td>\n      <td>[[1752, 17, 72.0, TMA, 19.0, 10.0], [1753, 51,...</td>\n      <td>[[546614, -10, homepage, 11], [546614, -9, hom...</td>\n      <td>F</td>\n      <td>South East Region</td>\n      <td>A Level or Equivalent</td>\n      <td>50-60%</td>\n      <td>35-55</td>\n      <td>0</td>\n      <td>60</td>\n      <td>N</td>\n      <td>Pass</td>\n      <td>-52.0</td>\n      <td>NaN</td>\n      <td>268</td>\n      <td>5</td>\n      <td>76.3</td>\n    </tr>\n    <tr>\n      <th>3</th>\n      <td>AAA</td>\n      <td>2013J</td>\n      <td>32885</td>\n      <td>[[1752, 26, 69.0, TMA, 19.0, 10.0], [1753, 75,...</td>\n      <td>[[546614, -10, homepage, 13], [546614, -9, hom...</td>\n      <td>F</td>\n      <td>West Midlands Region</td>\n      <td>Lower Than A Level</td>\n      <td>50-60%</td>\n      <td>0-35</td>\n      <td>0</td>\n      <td>60</td>\n      <td>N</td>\n      <td>Pass</td>\n      <td>-176.0</td>\n      <td>NaN</td>\n      <td>268</td>\n      <td>5</td>\n      <td>55.0</td>\n    </tr>\n    <tr>\n      <th>4</th>\n      <td>AAA</td>\n      <td>2013J</td>\n      <td>38053</td>\n      <td>[[1752, 19, 79.0, TMA, 19.0, 10.0], [1753, 64,...</td>\n      <td>[[546614, -10, homepage, 13], [546614, -9, hom...</td>\n      <td>M</td>\n      <td>Wales</td>\n      <td>A Level or Equivalent</td>\n      <td>80-90%</td>\n      <td>35-55</td>\n      <td>0</td>\n      <td>60</td>\n      <td>N</td>\n      <td>Pass</td>\n      <td>-110.0</td>\n      <td>NaN</td>\n      <td>268</td>\n      <td>5</td>\n      <td>66.9</td>\n    </tr>\n  </tbody>\n</table>\n</div>",
      "text/plain": "  code_module code_presentation  id_student  \\\n0         AAA             2013J       11391   \n1         AAA             2013J       28400   \n2         AAA             2013J       31604   \n3         AAA             2013J       32885   \n4         AAA             2013J       38053   \n\n                                         assessments  \\\n0  [[1752, 18, 78.0, TMA, 19.0, 10.0], [1753, 53,...   \n1  [[1752, 22, 70.0, TMA, 19.0, 10.0], [1753, 52,...   \n2  [[1752, 17, 72.0, TMA, 19.0, 10.0], [1753, 51,...   \n3  [[1752, 26, 69.0, TMA, 19.0, 10.0], [1753, 75,...   \n4  [[1752, 19, 79.0, TMA, 19.0, 10.0], [1753, 64,...   \n\n                                                vles gender  \\\n0  [[546614, -5, homepage, 7], [546614, 0, homepa...      M   \n1  [[546614, -10, homepage, 11], [546614, -8, hom...      F   \n2  [[546614, -10, homepage, 11], [546614, -9, hom...      F   \n3  [[546614, -10, homepage, 13], [546614, -9, hom...      F   \n4  [[546614, -10, homepage, 13], [546614, -9, hom...      M   \n\n                 region      highest_education imd_band age_band  \\\n0   East Anglian Region       HE Qualification  90-100%     55<=   \n1              Scotland       HE Qualification   20-30%    35-55   \n2     South East Region  A Level or Equivalent   50-60%    35-55   \n3  West Midlands Region     Lower Than A Level   50-60%     0-35   \n4                 Wales  A Level or Equivalent   80-90%    35-55   \n\n   num_of_prev_attempts  studied_credits disability final_result  \\\n0                     0              240          N         Pass   \n1                     0               60          N         Pass   \n2                     0               60          N         Pass   \n3                     0               60          N         Pass   \n4                     0               60          N         Pass   \n\n   date_registration  date_unregistration  module_presentation_length  \\\n0             -159.0                  NaN                         268   \n1              -53.0                  NaN                         268   \n2              -52.0                  NaN                         268   \n3             -176.0                  NaN                         268   \n4             -110.0                  NaN                         268   \n\n   assessments_amount  average_score  \n0                   5           82.4  \n1                   5           65.4  \n2                   5           76.3  \n3                   5           55.0  \n4                   5           66.9  "
     },
     "execution_count": 25,
     "metadata": {},
     "output_type": "execute_result"
    }
   ],
   "source": [
    "def analyze_average_grade(assessments):\n",
    "    total_weight = 0\n",
    "    total_score = 0\n",
    "\n",
    "    for assessment in assessments:\n",
    "        id_assessment, date_submitted, score, assessment_type, date, weight = assessment\n",
    "        if (not(type(score) == float)):\n",
    "            print(score)\n",
    "        total_weight +=  weight\n",
    "        total_score += score * weight\n",
    "\n",
    "\n",
    "    if total_weight > 0:\n",
    "        average_score = total_score / total_weight\n",
    "        return average_score\n",
    "    else:\n",
    "        # sometimes there are assessments, except there are no weights\n",
    "        if (len(assessments) > 0):\n",
    "            scores = [assessment[2] for assessment in assessments]\n",
    "            return np.mean(scores)\n",
    "            \n",
    "        return math.nan\n",
    "\n",
    "merged_data['average_score'] = merged_data['assessments'].transform(analyze_average_grade)\n",
    "merged_data.head()"
   ]
  },
  {
   "cell_type": "code",
   "execution_count": 26,
   "metadata": {},
   "outputs": [
    {
     "data": {
      "text/html": "<div>\n<style scoped>\n    .dataframe tbody tr th:only-of-type {\n        vertical-align: middle;\n    }\n\n    .dataframe tbody tr th {\n        vertical-align: top;\n    }\n\n    .dataframe thead th {\n        text-align: right;\n    }\n</style>\n<table border=\"1\" class=\"dataframe\">\n  <thead>\n    <tr style=\"text-align: right;\">\n      <th></th>\n      <th>code_module</th>\n      <th>code_presentation</th>\n      <th>id_student</th>\n      <th>assessments</th>\n      <th>vles</th>\n      <th>gender</th>\n      <th>region</th>\n      <th>highest_education</th>\n      <th>imd_band</th>\n      <th>age_band</th>\n      <th>num_of_prev_attempts</th>\n      <th>studied_credits</th>\n      <th>disability</th>\n      <th>final_result</th>\n      <th>date_registration</th>\n      <th>date_unregistration</th>\n      <th>module_presentation_length</th>\n      <th>assessments_amount</th>\n      <th>average_score</th>\n      <th>sum_clicks</th>\n    </tr>\n  </thead>\n  <tbody>\n    <tr>\n      <th>0</th>\n      <td>AAA</td>\n      <td>2013J</td>\n      <td>11391</td>\n      <td>[[1752, 18, 78.0, TMA, 19.0, 10.0], [1753, 53,...</td>\n      <td>[[546614, -5, homepage, 7], [546614, 0, homepa...</td>\n      <td>M</td>\n      <td>East Anglian Region</td>\n      <td>HE Qualification</td>\n      <td>90-100%</td>\n      <td>55&lt;=</td>\n      <td>0</td>\n      <td>240</td>\n      <td>N</td>\n      <td>Pass</td>\n      <td>-159.0</td>\n      <td>NaN</td>\n      <td>268</td>\n      <td>5</td>\n      <td>82.4</td>\n      <td>934</td>\n    </tr>\n    <tr>\n      <th>1</th>\n      <td>AAA</td>\n      <td>2013J</td>\n      <td>28400</td>\n      <td>[[1752, 22, 70.0, TMA, 19.0, 10.0], [1753, 52,...</td>\n      <td>[[546614, -10, homepage, 11], [546614, -8, hom...</td>\n      <td>F</td>\n      <td>Scotland</td>\n      <td>HE Qualification</td>\n      <td>20-30%</td>\n      <td>35-55</td>\n      <td>0</td>\n      <td>60</td>\n      <td>N</td>\n      <td>Pass</td>\n      <td>-53.0</td>\n      <td>NaN</td>\n      <td>268</td>\n      <td>5</td>\n      <td>65.4</td>\n      <td>1435</td>\n    </tr>\n    <tr>\n      <th>2</th>\n      <td>AAA</td>\n      <td>2013J</td>\n      <td>31604</td>\n      <td>[[1752, 17, 72.0, TMA, 19.0, 10.0], [1753, 51,...</td>\n      <td>[[546614, -10, homepage, 11], [546614, -9, hom...</td>\n      <td>F</td>\n      <td>South East Region</td>\n      <td>A Level or Equivalent</td>\n      <td>50-60%</td>\n      <td>35-55</td>\n      <td>0</td>\n      <td>60</td>\n      <td>N</td>\n      <td>Pass</td>\n      <td>-52.0</td>\n      <td>NaN</td>\n      <td>268</td>\n      <td>5</td>\n      <td>76.3</td>\n      <td>2158</td>\n    </tr>\n    <tr>\n      <th>3</th>\n      <td>AAA</td>\n      <td>2013J</td>\n      <td>32885</td>\n      <td>[[1752, 26, 69.0, TMA, 19.0, 10.0], [1753, 75,...</td>\n      <td>[[546614, -10, homepage, 13], [546614, -9, hom...</td>\n      <td>F</td>\n      <td>West Midlands Region</td>\n      <td>Lower Than A Level</td>\n      <td>50-60%</td>\n      <td>0-35</td>\n      <td>0</td>\n      <td>60</td>\n      <td>N</td>\n      <td>Pass</td>\n      <td>-176.0</td>\n      <td>NaN</td>\n      <td>268</td>\n      <td>5</td>\n      <td>55.0</td>\n      <td>1034</td>\n    </tr>\n    <tr>\n      <th>4</th>\n      <td>AAA</td>\n      <td>2013J</td>\n      <td>38053</td>\n      <td>[[1752, 19, 79.0, TMA, 19.0, 10.0], [1753, 64,...</td>\n      <td>[[546614, -10, homepage, 13], [546614, -9, hom...</td>\n      <td>M</td>\n      <td>Wales</td>\n      <td>A Level or Equivalent</td>\n      <td>80-90%</td>\n      <td>35-55</td>\n      <td>0</td>\n      <td>60</td>\n      <td>N</td>\n      <td>Pass</td>\n      <td>-110.0</td>\n      <td>NaN</td>\n      <td>268</td>\n      <td>5</td>\n      <td>66.9</td>\n      <td>2445</td>\n    </tr>\n  </tbody>\n</table>\n</div>",
      "text/plain": "  code_module code_presentation  id_student  \\\n0         AAA             2013J       11391   \n1         AAA             2013J       28400   \n2         AAA             2013J       31604   \n3         AAA             2013J       32885   \n4         AAA             2013J       38053   \n\n                                         assessments  \\\n0  [[1752, 18, 78.0, TMA, 19.0, 10.0], [1753, 53,...   \n1  [[1752, 22, 70.0, TMA, 19.0, 10.0], [1753, 52,...   \n2  [[1752, 17, 72.0, TMA, 19.0, 10.0], [1753, 51,...   \n3  [[1752, 26, 69.0, TMA, 19.0, 10.0], [1753, 75,...   \n4  [[1752, 19, 79.0, TMA, 19.0, 10.0], [1753, 64,...   \n\n                                                vles gender  \\\n0  [[546614, -5, homepage, 7], [546614, 0, homepa...      M   \n1  [[546614, -10, homepage, 11], [546614, -8, hom...      F   \n2  [[546614, -10, homepage, 11], [546614, -9, hom...      F   \n3  [[546614, -10, homepage, 13], [546614, -9, hom...      F   \n4  [[546614, -10, homepage, 13], [546614, -9, hom...      M   \n\n                 region      highest_education imd_band age_band  \\\n0   East Anglian Region       HE Qualification  90-100%     55<=   \n1              Scotland       HE Qualification   20-30%    35-55   \n2     South East Region  A Level or Equivalent   50-60%    35-55   \n3  West Midlands Region     Lower Than A Level   50-60%     0-35   \n4                 Wales  A Level or Equivalent   80-90%    35-55   \n\n   num_of_prev_attempts  studied_credits disability final_result  \\\n0                     0              240          N         Pass   \n1                     0               60          N         Pass   \n2                     0               60          N         Pass   \n3                     0               60          N         Pass   \n4                     0               60          N         Pass   \n\n   date_registration  date_unregistration  module_presentation_length  \\\n0             -159.0                  NaN                         268   \n1              -53.0                  NaN                         268   \n2              -52.0                  NaN                         268   \n3             -176.0                  NaN                         268   \n4             -110.0                  NaN                         268   \n\n   assessments_amount  average_score  sum_clicks  \n0                   5           82.4         934  \n1                   5           65.4        1435  \n2                   5           76.3        2158  \n3                   5           55.0        1034  \n4                   5           66.9        2445  "
     },
     "execution_count": 26,
     "metadata": {},
     "output_type": "execute_result"
    }
   ],
   "source": [
    "# jort\n",
    "# sum of all clicks\n",
    "\n",
    "def sum_clicks_vles(vles):\n",
    "    sum_clicks = 0\n",
    "    for [id_site, date, activity_type, sum_click] in vles:\n",
    "        sum_clicks += sum_click\n",
    "    return sum_clicks\n",
    "\n",
    "merged_data[\"sum_clicks\"] = merged_data[\"vles\"].transform(sum_clicks_vles)\n",
    "merged_data.head()"
   ]
  },
  {
   "cell_type": "code",
   "execution_count": 27,
   "metadata": {},
   "outputs": [
    {
     "data": {
      "text/html": "<div>\n<style scoped>\n    .dataframe tbody tr th:only-of-type {\n        vertical-align: middle;\n    }\n\n    .dataframe tbody tr th {\n        vertical-align: top;\n    }\n\n    .dataframe thead th {\n        text-align: right;\n    }\n</style>\n<table border=\"1\" class=\"dataframe\">\n  <thead>\n    <tr style=\"text-align: right;\">\n      <th></th>\n      <th>code_module</th>\n      <th>code_presentation</th>\n      <th>course_difficulty</th>\n    </tr>\n  </thead>\n  <tbody>\n    <tr>\n      <th>0</th>\n      <td>AAA</td>\n      <td>2013J</td>\n      <td>68.432979</td>\n    </tr>\n    <tr>\n      <th>1</th>\n      <td>AAA</td>\n      <td>2014J</td>\n      <td>67.741056</td>\n    </tr>\n    <tr>\n      <th>2</th>\n      <td>BBB</td>\n      <td>2013B</td>\n      <td>70.885545</td>\n    </tr>\n    <tr>\n      <th>3</th>\n      <td>BBB</td>\n      <td>2013J</td>\n      <td>70.831964</td>\n    </tr>\n    <tr>\n      <th>4</th>\n      <td>BBB</td>\n      <td>2014B</td>\n      <td>71.575226</td>\n    </tr>\n    <tr>\n      <th>5</th>\n      <td>BBB</td>\n      <td>2014J</td>\n      <td>65.722549</td>\n    </tr>\n    <tr>\n      <th>6</th>\n      <td>CCC</td>\n      <td>2014B</td>\n      <td>61.591866</td>\n    </tr>\n    <tr>\n      <th>7</th>\n      <td>CCC</td>\n      <td>2014J</td>\n      <td>66.713463</td>\n    </tr>\n    <tr>\n      <th>8</th>\n      <td>DDD</td>\n      <td>2013B</td>\n      <td>60.755244</td>\n    </tr>\n    <tr>\n      <th>9</th>\n      <td>DDD</td>\n      <td>2013J</td>\n      <td>64.730415</td>\n    </tr>\n    <tr>\n      <th>10</th>\n      <td>DDD</td>\n      <td>2014B</td>\n      <td>65.186683</td>\n    </tr>\n    <tr>\n      <th>11</th>\n      <td>DDD</td>\n      <td>2014J</td>\n      <td>66.226058</td>\n    </tr>\n    <tr>\n      <th>12</th>\n      <td>EEE</td>\n      <td>2013J</td>\n      <td>79.173575</td>\n    </tr>\n    <tr>\n      <th>13</th>\n      <td>EEE</td>\n      <td>2014B</td>\n      <td>77.885026</td>\n    </tr>\n    <tr>\n      <th>14</th>\n      <td>EEE</td>\n      <td>2014J</td>\n      <td>80.649205</td>\n    </tr>\n    <tr>\n      <th>15</th>\n      <td>FFF</td>\n      <td>2013B</td>\n      <td>74.035197</td>\n    </tr>\n    <tr>\n      <th>16</th>\n      <td>FFF</td>\n      <td>2013J</td>\n      <td>72.234484</td>\n    </tr>\n    <tr>\n      <th>17</th>\n      <td>FFF</td>\n      <td>2014B</td>\n      <td>72.517677</td>\n    </tr>\n    <tr>\n      <th>18</th>\n      <td>FFF</td>\n      <td>2014J</td>\n      <td>74.332075</td>\n    </tr>\n    <tr>\n      <th>19</th>\n      <td>GGG</td>\n      <td>2013J</td>\n      <td>78.202075</td>\n    </tr>\n    <tr>\n      <th>20</th>\n      <td>GGG</td>\n      <td>2014B</td>\n      <td>77.363231</td>\n    </tr>\n    <tr>\n      <th>21</th>\n      <td>GGG</td>\n      <td>2014J</td>\n      <td>76.604361</td>\n    </tr>\n  </tbody>\n</table>\n</div>",
      "text/plain": "   code_module code_presentation  course_difficulty\n0          AAA             2013J          68.432979\n1          AAA             2014J          67.741056\n2          BBB             2013B          70.885545\n3          BBB             2013J          70.831964\n4          BBB             2014B          71.575226\n5          BBB             2014J          65.722549\n6          CCC             2014B          61.591866\n7          CCC             2014J          66.713463\n8          DDD             2013B          60.755244\n9          DDD             2013J          64.730415\n10         DDD             2014B          65.186683\n11         DDD             2014J          66.226058\n12         EEE             2013J          79.173575\n13         EEE             2014B          77.885026\n14         EEE             2014J          80.649205\n15         FFF             2013B          74.035197\n16         FFF             2013J          72.234484\n17         FFF             2014B          72.517677\n18         FFF             2014J          74.332075\n19         GGG             2013J          78.202075\n20         GGG             2014B          77.363231\n21         GGG             2014J          76.604361"
     },
     "execution_count": 27,
     "metadata": {},
     "output_type": "execute_result"
    }
   ],
   "source": [
    "# calculate course difficulty\n",
    "import statistics\n",
    "\n",
    "average_scores_per_course = merged_data.groupby(['code_module', 'code_presentation']).agg({\n",
    "    \"average_score\": lambda x: list(x),\n",
    "}).reset_index()\n",
    "\n",
    "def calculate_course_average_score(row):\n",
    "    average_scores = np.array(row['average_score'])\n",
    "    average_score_without_nan = average_scores[~np.isnan(average_scores)]\n",
    "    if (len(average_score_without_nan) == 0):\n",
    "        row['course_difficulty'] = np.NaN\n",
    "    else:\n",
    "        row['course_difficulty'] = np.mean(average_score_without_nan)\n",
    "    return row\n",
    "    \n",
    "average_scores_per_course = average_scores_per_course.apply(calculate_course_average_score, axis=1)\n",
    "average_scores_per_course = average_scores_per_course.drop(['average_score'], axis=1)\n",
    "average_scores_per_course"
   ]
  },
  {
   "cell_type": "code",
   "execution_count": 28,
   "metadata": {},
   "outputs": [
    {
     "data": {
      "text/html": "<div>\n<style scoped>\n    .dataframe tbody tr th:only-of-type {\n        vertical-align: middle;\n    }\n\n    .dataframe tbody tr th {\n        vertical-align: top;\n    }\n\n    .dataframe thead th {\n        text-align: right;\n    }\n</style>\n<table border=\"1\" class=\"dataframe\">\n  <thead>\n    <tr style=\"text-align: right;\">\n      <th></th>\n      <th>code_module</th>\n      <th>code_presentation</th>\n      <th>id_student</th>\n      <th>assessments</th>\n      <th>vles</th>\n      <th>gender</th>\n      <th>region</th>\n      <th>highest_education</th>\n      <th>imd_band</th>\n      <th>age_band</th>\n      <th>...</th>\n      <th>studied_credits</th>\n      <th>disability</th>\n      <th>final_result</th>\n      <th>date_registration</th>\n      <th>date_unregistration</th>\n      <th>module_presentation_length</th>\n      <th>assessments_amount</th>\n      <th>average_score</th>\n      <th>sum_clicks</th>\n      <th>course_difficulty</th>\n    </tr>\n  </thead>\n  <tbody>\n    <tr>\n      <th>0</th>\n      <td>AAA</td>\n      <td>2013J</td>\n      <td>11391</td>\n      <td>[[1752, 18, 78.0, TMA, 19.0, 10.0], [1753, 53,...</td>\n      <td>[[546614, -5, homepage, 7], [546614, 0, homepa...</td>\n      <td>M</td>\n      <td>East Anglian Region</td>\n      <td>HE Qualification</td>\n      <td>90-100%</td>\n      <td>55&lt;=</td>\n      <td>...</td>\n      <td>240</td>\n      <td>N</td>\n      <td>Pass</td>\n      <td>-159.0</td>\n      <td>NaN</td>\n      <td>268</td>\n      <td>5</td>\n      <td>82.4</td>\n      <td>934</td>\n      <td>68.432979</td>\n    </tr>\n    <tr>\n      <th>1</th>\n      <td>AAA</td>\n      <td>2013J</td>\n      <td>28400</td>\n      <td>[[1752, 22, 70.0, TMA, 19.0, 10.0], [1753, 52,...</td>\n      <td>[[546614, -10, homepage, 11], [546614, -8, hom...</td>\n      <td>F</td>\n      <td>Scotland</td>\n      <td>HE Qualification</td>\n      <td>20-30%</td>\n      <td>35-55</td>\n      <td>...</td>\n      <td>60</td>\n      <td>N</td>\n      <td>Pass</td>\n      <td>-53.0</td>\n      <td>NaN</td>\n      <td>268</td>\n      <td>5</td>\n      <td>65.4</td>\n      <td>1435</td>\n      <td>68.432979</td>\n    </tr>\n    <tr>\n      <th>2</th>\n      <td>AAA</td>\n      <td>2013J</td>\n      <td>31604</td>\n      <td>[[1752, 17, 72.0, TMA, 19.0, 10.0], [1753, 51,...</td>\n      <td>[[546614, -10, homepage, 11], [546614, -9, hom...</td>\n      <td>F</td>\n      <td>South East Region</td>\n      <td>A Level or Equivalent</td>\n      <td>50-60%</td>\n      <td>35-55</td>\n      <td>...</td>\n      <td>60</td>\n      <td>N</td>\n      <td>Pass</td>\n      <td>-52.0</td>\n      <td>NaN</td>\n      <td>268</td>\n      <td>5</td>\n      <td>76.3</td>\n      <td>2158</td>\n      <td>68.432979</td>\n    </tr>\n    <tr>\n      <th>3</th>\n      <td>AAA</td>\n      <td>2013J</td>\n      <td>32885</td>\n      <td>[[1752, 26, 69.0, TMA, 19.0, 10.0], [1753, 75,...</td>\n      <td>[[546614, -10, homepage, 13], [546614, -9, hom...</td>\n      <td>F</td>\n      <td>West Midlands Region</td>\n      <td>Lower Than A Level</td>\n      <td>50-60%</td>\n      <td>0-35</td>\n      <td>...</td>\n      <td>60</td>\n      <td>N</td>\n      <td>Pass</td>\n      <td>-176.0</td>\n      <td>NaN</td>\n      <td>268</td>\n      <td>5</td>\n      <td>55.0</td>\n      <td>1034</td>\n      <td>68.432979</td>\n    </tr>\n    <tr>\n      <th>4</th>\n      <td>AAA</td>\n      <td>2013J</td>\n      <td>38053</td>\n      <td>[[1752, 19, 79.0, TMA, 19.0, 10.0], [1753, 64,...</td>\n      <td>[[546614, -10, homepage, 13], [546614, -9, hom...</td>\n      <td>M</td>\n      <td>Wales</td>\n      <td>A Level or Equivalent</td>\n      <td>80-90%</td>\n      <td>35-55</td>\n      <td>...</td>\n      <td>60</td>\n      <td>N</td>\n      <td>Pass</td>\n      <td>-110.0</td>\n      <td>NaN</td>\n      <td>268</td>\n      <td>5</td>\n      <td>66.9</td>\n      <td>2445</td>\n      <td>68.432979</td>\n    </tr>\n  </tbody>\n</table>\n<p>5 rows × 21 columns</p>\n</div>",
      "text/plain": "  code_module code_presentation  id_student  \\\n0         AAA             2013J       11391   \n1         AAA             2013J       28400   \n2         AAA             2013J       31604   \n3         AAA             2013J       32885   \n4         AAA             2013J       38053   \n\n                                         assessments  \\\n0  [[1752, 18, 78.0, TMA, 19.0, 10.0], [1753, 53,...   \n1  [[1752, 22, 70.0, TMA, 19.0, 10.0], [1753, 52,...   \n2  [[1752, 17, 72.0, TMA, 19.0, 10.0], [1753, 51,...   \n3  [[1752, 26, 69.0, TMA, 19.0, 10.0], [1753, 75,...   \n4  [[1752, 19, 79.0, TMA, 19.0, 10.0], [1753, 64,...   \n\n                                                vles gender  \\\n0  [[546614, -5, homepage, 7], [546614, 0, homepa...      M   \n1  [[546614, -10, homepage, 11], [546614, -8, hom...      F   \n2  [[546614, -10, homepage, 11], [546614, -9, hom...      F   \n3  [[546614, -10, homepage, 13], [546614, -9, hom...      F   \n4  [[546614, -10, homepage, 13], [546614, -9, hom...      M   \n\n                 region      highest_education imd_band age_band  ...  \\\n0   East Anglian Region       HE Qualification  90-100%     55<=  ...   \n1              Scotland       HE Qualification   20-30%    35-55  ...   \n2     South East Region  A Level or Equivalent   50-60%    35-55  ...   \n3  West Midlands Region     Lower Than A Level   50-60%     0-35  ...   \n4                 Wales  A Level or Equivalent   80-90%    35-55  ...   \n\n   studied_credits  disability final_result date_registration  \\\n0              240           N         Pass            -159.0   \n1               60           N         Pass             -53.0   \n2               60           N         Pass             -52.0   \n3               60           N         Pass            -176.0   \n4               60           N         Pass            -110.0   \n\n   date_unregistration  module_presentation_length  assessments_amount  \\\n0                  NaN                         268                   5   \n1                  NaN                         268                   5   \n2                  NaN                         268                   5   \n3                  NaN                         268                   5   \n4                  NaN                         268                   5   \n\n   average_score  sum_clicks  course_difficulty  \n0           82.4         934          68.432979  \n1           65.4        1435          68.432979  \n2           76.3        2158          68.432979  \n3           55.0        1034          68.432979  \n4           66.9        2445          68.432979  \n\n[5 rows x 21 columns]"
     },
     "execution_count": 28,
     "metadata": {},
     "output_type": "execute_result"
    }
   ],
   "source": [
    "# merge difficulty course with the data\n",
    "merged_data = pandas.merge(merged_data, average_scores_per_course, on=['code_module', 'code_presentation'])\n",
    "merged_data.head()"
   ]
  },
  {
   "cell_type": "code",
   "execution_count": 29,
   "metadata": {},
   "outputs": [
    {
     "data": {
      "text/html": "<div>\n<style scoped>\n    .dataframe tbody tr th:only-of-type {\n        vertical-align: middle;\n    }\n\n    .dataframe tbody tr th {\n        vertical-align: top;\n    }\n\n    .dataframe thead th {\n        text-align: right;\n    }\n</style>\n<table border=\"1\" class=\"dataframe\">\n  <thead>\n    <tr style=\"text-align: right;\">\n      <th></th>\n      <th>age_band</th>\n      <th>assessment_1_score</th>\n      <th>assessment_2_score</th>\n      <th>assessment_3_score</th>\n      <th>assessment_4_score</th>\n      <th>assessment_5_score</th>\n      <th>assessment_6_score</th>\n      <th>assessment_7_score</th>\n      <th>assessments</th>\n      <th>assessments_amount</th>\n      <th>...</th>\n      <th>gender</th>\n      <th>highest_education</th>\n      <th>id_student</th>\n      <th>imd_band</th>\n      <th>module_presentation_length</th>\n      <th>num_of_prev_attempts</th>\n      <th>region</th>\n      <th>studied_credits</th>\n      <th>sum_clicks</th>\n      <th>vles</th>\n    </tr>\n  </thead>\n  <tbody>\n    <tr>\n      <th>0</th>\n      <td>55&lt;=</td>\n      <td>78.0</td>\n      <td>85.0</td>\n      <td>80.0</td>\n      <td>85.0</td>\n      <td>82.0</td>\n      <td>NaN</td>\n      <td>NaN</td>\n      <td>[[1752, 18, 78.0, TMA, 19.0, 10.0], [1753, 53,...</td>\n      <td>5</td>\n      <td>...</td>\n      <td>M</td>\n      <td>HE Qualification</td>\n      <td>11391</td>\n      <td>90-100%</td>\n      <td>268</td>\n      <td>0</td>\n      <td>East Anglian Region</td>\n      <td>240</td>\n      <td>934</td>\n      <td>[[546614, -5, homepage, 7], [546614, 0, homepa...</td>\n    </tr>\n    <tr>\n      <th>1</th>\n      <td>35-55</td>\n      <td>70.0</td>\n      <td>68.0</td>\n      <td>70.0</td>\n      <td>64.0</td>\n      <td>60.0</td>\n      <td>NaN</td>\n      <td>NaN</td>\n      <td>[[1752, 22, 70.0, TMA, 19.0, 10.0], [1753, 52,...</td>\n      <td>5</td>\n      <td>...</td>\n      <td>F</td>\n      <td>HE Qualification</td>\n      <td>28400</td>\n      <td>20-30%</td>\n      <td>268</td>\n      <td>0</td>\n      <td>Scotland</td>\n      <td>60</td>\n      <td>1435</td>\n      <td>[[546614, -10, homepage, 11], [546614, -8, hom...</td>\n    </tr>\n    <tr>\n      <th>2</th>\n      <td>35-55</td>\n      <td>72.0</td>\n      <td>71.0</td>\n      <td>74.0</td>\n      <td>88.0</td>\n      <td>75.0</td>\n      <td>NaN</td>\n      <td>NaN</td>\n      <td>[[1752, 17, 72.0, TMA, 19.0, 10.0], [1753, 51,...</td>\n      <td>5</td>\n      <td>...</td>\n      <td>F</td>\n      <td>A Level or Equivalent</td>\n      <td>31604</td>\n      <td>50-60%</td>\n      <td>268</td>\n      <td>0</td>\n      <td>South East Region</td>\n      <td>60</td>\n      <td>2158</td>\n      <td>[[546614, -10, homepage, 11], [546614, -9, hom...</td>\n    </tr>\n    <tr>\n      <th>3</th>\n      <td>0-35</td>\n      <td>69.0</td>\n      <td>30.0</td>\n      <td>63.0</td>\n      <td>35.0</td>\n      <td>75.0</td>\n      <td>NaN</td>\n      <td>NaN</td>\n      <td>[[1752, 26, 69.0, TMA, 19.0, 10.0], [1753, 75,...</td>\n      <td>5</td>\n      <td>...</td>\n      <td>F</td>\n      <td>Lower Than A Level</td>\n      <td>32885</td>\n      <td>50-60%</td>\n      <td>268</td>\n      <td>0</td>\n      <td>West Midlands Region</td>\n      <td>60</td>\n      <td>1034</td>\n      <td>[[546614, -10, homepage, 13], [546614, -9, hom...</td>\n    </tr>\n    <tr>\n      <th>4</th>\n      <td>35-55</td>\n      <td>79.0</td>\n      <td>69.0</td>\n      <td>74.0</td>\n      <td>50.0</td>\n      <td>68.0</td>\n      <td>NaN</td>\n      <td>NaN</td>\n      <td>[[1752, 19, 79.0, TMA, 19.0, 10.0], [1753, 64,...</td>\n      <td>5</td>\n      <td>...</td>\n      <td>M</td>\n      <td>A Level or Equivalent</td>\n      <td>38053</td>\n      <td>80-90%</td>\n      <td>268</td>\n      <td>0</td>\n      <td>Wales</td>\n      <td>60</td>\n      <td>2445</td>\n      <td>[[546614, -10, homepage, 13], [546614, -9, hom...</td>\n    </tr>\n  </tbody>\n</table>\n<p>5 rows × 28 columns</p>\n</div>",
      "text/plain": "  age_band  assessment_1_score  assessment_2_score  assessment_3_score  \\\n0     55<=                78.0                85.0                80.0   \n1    35-55                70.0                68.0                70.0   \n2    35-55                72.0                71.0                74.0   \n3     0-35                69.0                30.0                63.0   \n4    35-55                79.0                69.0                74.0   \n\n   assessment_4_score  assessment_5_score  assessment_6_score  \\\n0                85.0                82.0                 NaN   \n1                64.0                60.0                 NaN   \n2                88.0                75.0                 NaN   \n3                35.0                75.0                 NaN   \n4                50.0                68.0                 NaN   \n\n   assessment_7_score                                        assessments  \\\n0                 NaN  [[1752, 18, 78.0, TMA, 19.0, 10.0], [1753, 53,...   \n1                 NaN  [[1752, 22, 70.0, TMA, 19.0, 10.0], [1753, 52,...   \n2                 NaN  [[1752, 17, 72.0, TMA, 19.0, 10.0], [1753, 51,...   \n3                 NaN  [[1752, 26, 69.0, TMA, 19.0, 10.0], [1753, 75,...   \n4                 NaN  [[1752, 19, 79.0, TMA, 19.0, 10.0], [1753, 64,...   \n\n   assessments_amount  ...  gender      highest_education id_student  \\\n0                   5  ...       M       HE Qualification      11391   \n1                   5  ...       F       HE Qualification      28400   \n2                   5  ...       F  A Level or Equivalent      31604   \n3                   5  ...       F     Lower Than A Level      32885   \n4                   5  ...       M  A Level or Equivalent      38053   \n\n   imd_band  module_presentation_length  num_of_prev_attempts  \\\n0   90-100%                         268                     0   \n1    20-30%                         268                     0   \n2    50-60%                         268                     0   \n3    50-60%                         268                     0   \n4    80-90%                         268                     0   \n\n                 region studied_credits sum_clicks  \\\n0   East Anglian Region             240        934   \n1              Scotland              60       1435   \n2     South East Region              60       2158   \n3  West Midlands Region              60       1034   \n4                 Wales              60       2445   \n\n                                                vles  \n0  [[546614, -5, homepage, 7], [546614, 0, homepa...  \n1  [[546614, -10, homepage, 11], [546614, -8, hom...  \n2  [[546614, -10, homepage, 11], [546614, -9, hom...  \n3  [[546614, -10, homepage, 13], [546614, -9, hom...  \n4  [[546614, -10, homepage, 13], [546614, -9, hom...  \n\n[5 rows x 28 columns]"
     },
     "execution_count": 29,
     "metadata": {},
     "output_type": "execute_result"
    }
   ],
   "source": [
    "import itertools\n",
    "\n",
    "assessment_columns = ['id_assessment', 'date_submitted', 'score', 'assessment_type', 'date', 'weight']\n",
    "def create_columns_for_assessments(row):\n",
    "    assessments = row['assessments']\n",
    "    amount_of_assessments_to_put_in_data = 7\n",
    "    assessments_to_process = assessments[:amount_of_assessments_to_put_in_data]\n",
    "    for index, assessment in enumerate(assessments_to_process, start=1):\n",
    "        id_assessment, date_submitted, score, assessment_type, date, weight = assessment\n",
    "        assessment_score_column_name = f'assessment_{index}_score'\n",
    "        row[assessment_score_column_name] = score\n",
    "        # assessment_weight_column_name = f'assessment_{index}_weight'\n",
    "        # row[assessment_weight_column_name] = weight\n",
    "\n",
    "    return row\n",
    "    \n",
    "merged_data = merged_data.apply(create_columns_for_assessments, axis=1)\n",
    "merged_data.head()"
   ]
  },
  {
   "cell_type": "code",
   "execution_count": 30,
   "metadata": {},
   "outputs": [
    {
     "data": {
      "text/html": "<div>\n<style scoped>\n    .dataframe tbody tr th:only-of-type {\n        vertical-align: middle;\n    }\n\n    .dataframe tbody tr th {\n        vertical-align: top;\n    }\n\n    .dataframe thead th {\n        text-align: right;\n    }\n</style>\n<table border=\"1\" class=\"dataframe\">\n  <thead>\n    <tr style=\"text-align: right;\">\n      <th></th>\n      <th>age_band</th>\n      <th>assessment_1_score</th>\n      <th>assessment_2_score</th>\n      <th>assessment_3_score</th>\n      <th>assessment_4_score</th>\n      <th>assessment_5_score</th>\n      <th>assessment_6_score</th>\n      <th>assessment_7_score</th>\n      <th>assessments</th>\n      <th>assessments_amount</th>\n      <th>...</th>\n      <th>studied_credits</th>\n      <th>sum_clicks</th>\n      <th>vles</th>\n      <th>vle_click_month_1</th>\n      <th>vle_click_month_2</th>\n      <th>vle_click_month_3</th>\n      <th>vle_click_month_4</th>\n      <th>vle_click_month_5</th>\n      <th>vle_click_month_6</th>\n      <th>vle_click_month_7</th>\n    </tr>\n  </thead>\n  <tbody>\n    <tr>\n      <th>0</th>\n      <td>55&lt;=</td>\n      <td>78.0</td>\n      <td>85.0</td>\n      <td>80.0</td>\n      <td>85.0</td>\n      <td>82.0</td>\n      <td>NaN</td>\n      <td>NaN</td>\n      <td>[[1752, 18, 78.0, TMA, 19.0, 10.0], [1753, 53,...</td>\n      <td>5</td>\n      <td>...</td>\n      <td>240</td>\n      <td>934</td>\n      <td>[[546614, -5, homepage, 7], [546614, 0, homepa...</td>\n      <td>419</td>\n      <td>110</td>\n      <td>58</td>\n      <td>41</td>\n      <td>82</td>\n      <td>3</td>\n      <td>35</td>\n    </tr>\n    <tr>\n      <th>1</th>\n      <td>35-55</td>\n      <td>70.0</td>\n      <td>68.0</td>\n      <td>70.0</td>\n      <td>64.0</td>\n      <td>60.0</td>\n      <td>NaN</td>\n      <td>NaN</td>\n      <td>[[1752, 22, 70.0, TMA, 19.0, 10.0], [1753, 52,...</td>\n      <td>5</td>\n      <td>...</td>\n      <td>60</td>\n      <td>1435</td>\n      <td>[[546614, -10, homepage, 11], [546614, -8, hom...</td>\n      <td>618</td>\n      <td>51</td>\n      <td>148</td>\n      <td>79</td>\n      <td>111</td>\n      <td>114</td>\n      <td>208</td>\n    </tr>\n    <tr>\n      <th>2</th>\n      <td>35-55</td>\n      <td>72.0</td>\n      <td>71.0</td>\n      <td>74.0</td>\n      <td>88.0</td>\n      <td>75.0</td>\n      <td>NaN</td>\n      <td>NaN</td>\n      <td>[[1752, 17, 72.0, TMA, 19.0, 10.0], [1753, 51,...</td>\n      <td>5</td>\n      <td>...</td>\n      <td>60</td>\n      <td>2158</td>\n      <td>[[546614, -10, homepage, 11], [546614, -9, hom...</td>\n      <td>503</td>\n      <td>301</td>\n      <td>184</td>\n      <td>269</td>\n      <td>202</td>\n      <td>257</td>\n      <td>149</td>\n    </tr>\n    <tr>\n      <th>3</th>\n      <td>0-35</td>\n      <td>69.0</td>\n      <td>30.0</td>\n      <td>63.0</td>\n      <td>35.0</td>\n      <td>75.0</td>\n      <td>NaN</td>\n      <td>NaN</td>\n      <td>[[1752, 26, 69.0, TMA, 19.0, 10.0], [1753, 75,...</td>\n      <td>5</td>\n      <td>...</td>\n      <td>60</td>\n      <td>1034</td>\n      <td>[[546614, -10, homepage, 13], [546614, -9, hom...</td>\n      <td>567</td>\n      <td>35</td>\n      <td>81</td>\n      <td>64</td>\n      <td>78</td>\n      <td>13</td>\n      <td>75</td>\n    </tr>\n    <tr>\n      <th>4</th>\n      <td>35-55</td>\n      <td>79.0</td>\n      <td>69.0</td>\n      <td>74.0</td>\n      <td>50.0</td>\n      <td>68.0</td>\n      <td>NaN</td>\n      <td>NaN</td>\n      <td>[[1752, 19, 79.0, TMA, 19.0, 10.0], [1753, 64,...</td>\n      <td>5</td>\n      <td>...</td>\n      <td>60</td>\n      <td>2445</td>\n      <td>[[546614, -10, homepage, 13], [546614, -9, hom...</td>\n      <td>727</td>\n      <td>277</td>\n      <td>56</td>\n      <td>215</td>\n      <td>110</td>\n      <td>162</td>\n      <td>225</td>\n    </tr>\n  </tbody>\n</table>\n<p>5 rows × 35 columns</p>\n</div>",
      "text/plain": "  age_band  assessment_1_score  assessment_2_score  assessment_3_score  \\\n0     55<=                78.0                85.0                80.0   \n1    35-55                70.0                68.0                70.0   \n2    35-55                72.0                71.0                74.0   \n3     0-35                69.0                30.0                63.0   \n4    35-55                79.0                69.0                74.0   \n\n   assessment_4_score  assessment_5_score  assessment_6_score  \\\n0                85.0                82.0                 NaN   \n1                64.0                60.0                 NaN   \n2                88.0                75.0                 NaN   \n3                35.0                75.0                 NaN   \n4                50.0                68.0                 NaN   \n\n   assessment_7_score                                        assessments  \\\n0                 NaN  [[1752, 18, 78.0, TMA, 19.0, 10.0], [1753, 53,...   \n1                 NaN  [[1752, 22, 70.0, TMA, 19.0, 10.0], [1753, 52,...   \n2                 NaN  [[1752, 17, 72.0, TMA, 19.0, 10.0], [1753, 51,...   \n3                 NaN  [[1752, 26, 69.0, TMA, 19.0, 10.0], [1753, 75,...   \n4                 NaN  [[1752, 19, 79.0, TMA, 19.0, 10.0], [1753, 64,...   \n\n   assessments_amount  ...  studied_credits sum_clicks  \\\n0                   5  ...              240        934   \n1                   5  ...               60       1435   \n2                   5  ...               60       2158   \n3                   5  ...               60       1034   \n4                   5  ...               60       2445   \n\n                                                vles  vle_click_month_1  \\\n0  [[546614, -5, homepage, 7], [546614, 0, homepa...                419   \n1  [[546614, -10, homepage, 11], [546614, -8, hom...                618   \n2  [[546614, -10, homepage, 11], [546614, -9, hom...                503   \n3  [[546614, -10, homepage, 13], [546614, -9, hom...                567   \n4  [[546614, -10, homepage, 13], [546614, -9, hom...                727   \n\n   vle_click_month_2  vle_click_month_3 vle_click_month_4 vle_click_month_5  \\\n0                110                 58                41                82   \n1                 51                148                79               111   \n2                301                184               269               202   \n3                 35                 81                64                78   \n4                277                 56               215               110   \n\n  vle_click_month_6 vle_click_month_7  \n0                 3                35  \n1               114               208  \n2               257               149  \n3                13                75  \n4               162               225  \n\n[5 rows x 35 columns]"
     },
     "execution_count": 30,
     "metadata": {},
     "output_type": "execute_result"
    }
   ],
   "source": [
    "vle_columns = ['id_site', 'date', 'activity_type', 'sum_click']\n",
    "def create_columns_for_clicks_per_month (row):\n",
    "    vles = row['vles']\n",
    "    vles_df = pandas.DataFrame(vles, columns=vle_columns)\n",
    "    group_by_amount_of_days = 30\n",
    "    column_name = 'month_number'\n",
    "    vles_df[column_name] = (np.floor(np.clip(vles_df['date'] / group_by_amount_of_days, 0, None)) + 1).astype(int)\n",
    "    clicks_per_week = vles_df.groupby([column_name])['sum_click'].agg('sum')\n",
    "\n",
    "    for month_number in range(1, 8):\n",
    "        if month_number in clicks_per_week.index:\n",
    "            row[f'vle_click_month_{month_number}'] = clicks_per_week[month_number]\n",
    "        else:\n",
    "            row[f'vle_click_month_{month_number}'] = 0\n",
    "\n",
    "    return row\n",
    "    \n",
    "merged_data = merged_data.apply(create_columns_for_clicks_per_month , axis=1)\n",
    "merged_data.head()"
   ]
  },
  {
   "cell_type": "code",
   "execution_count": 31,
   "metadata": {},
   "outputs": [
    {
     "data": {
      "text/plain": "age_band                                                                   55<=\nassessment_1_score                                                         78.0\nassessment_2_score                                                         85.0\nassessment_3_score                                                         80.0\nassessment_4_score                                                         85.0\nassessment_5_score                                                         82.0\nassessment_6_score                                                          NaN\nassessment_7_score                                                          NaN\nassessments                   [[1752, 18, 78.0, TMA, 19.0, 10.0], [1753, 53,...\nassessments_amount                                                            5\naverage_score                                                              82.4\ncode_module                                                                 AAA\ncode_presentation                                                         2013J\ncourse_difficulty                                                     68.432979\ndate_registration                                                        -159.0\ndate_unregistration                                                         NaN\ndisability                                                                    N\nfinal_result                                                               Pass\ngender                                                                        M\nhighest_education                                              HE Qualification\nid_student                                                                11391\nimd_band                                                                90-100%\nmodule_presentation_length                                                  268\nnum_of_prev_attempts                                                          0\nregion                                                      East Anglian Region\nstudied_credits                                                             240\nsum_clicks                                                                  934\nvles                          [[546614, -5, homepage, 7], [546614, 0, homepa...\nvle_click_month_1                                                           419\nvle_click_month_2                                                           110\nvle_click_month_3                                                            58\nvle_click_month_4                                                            41\nvle_click_month_5                                                            82\nvle_click_month_6                                                             3\nvle_click_month_7                                                            35\nName: 0, dtype: object"
     },
     "execution_count": 31,
     "metadata": {},
     "output_type": "execute_result"
    }
   ],
   "source": [
    "merged_data.loc[0]"
   ]
  },
  {
   "cell_type": "code",
   "execution_count": 32,
   "metadata": {},
   "outputs": [],
   "source": [
    "\n",
    "final_data = merged_data.drop(\n",
    "    [\n",
    "        \"assessments\", \n",
    "        \"vles\",\n",
    "    ], \n",
    "    axis=1\n",
    ")\n",
    "final_data.to_pickle(\"../data/data-extension-output.pickle\")\n",
    "\n",
    "# assesments per month - done\n",
    "# clicks per month - done\n",
    "# todo filter out average score\n",
    "# remove code module\n",
    "# remove presentation year\n",
    "# remove student number"
   ]
  }
 ],
 "metadata": {
  "interpreter": {
   "hash": "e475ca911d037dd20b3a468ef59286c04ab37dedf18160dcce0c9f36ca56fa54"
  },
  "kernelspec": {
   "display_name": "Python 3.8.2 64-bit ('early-warning-system-nnLHG7cG': pipenv)",
   "name": "python382jvsc74a57bd0cff5a8f6dd3ed775c315eb40de64e3bf8a1f3cba953295923790192aa7678752"
  },
  "language_info": {
   "codemirror_mode": {
    "name": "ipython",
    "version": 3
   },
   "file_extension": ".py",
   "mimetype": "text/x-python",
   "name": "python",
   "nbconvert_exporter": "python",
   "pygments_lexer": "ipython3",
   "version": "3.8.2"
  },
  "metadata": {
   "interpreter": {
    "hash": "aee8b7b246df8f9039afb4144a1f6fd8d2ca17a180786b69acc140d282b71a49"
   }
  },
  "orig_nbformat": 3
 },
 "nbformat": 4,
 "nbformat_minor": 2
}