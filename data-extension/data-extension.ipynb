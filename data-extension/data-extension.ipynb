{
 "cells": [
  {
   "cell_type": "code",
   "execution_count": 1,
   "metadata": {},
   "outputs": [
    {
     "data": {
      "text/html": "<div>\n<style scoped>\n    .dataframe tbody tr th:only-of-type {\n        vertical-align: middle;\n    }\n\n    .dataframe tbody tr th {\n        vertical-align: top;\n    }\n\n    .dataframe thead th {\n        text-align: right;\n    }\n</style>\n<table border=\"1\" class=\"dataframe\">\n  <thead>\n    <tr style=\"text-align: right;\">\n      <th></th>\n      <th>code_module</th>\n      <th>code_presentation</th>\n      <th>id_student</th>\n      <th>assessments</th>\n      <th>vles</th>\n      <th>gender</th>\n      <th>region</th>\n      <th>highest_education</th>\n      <th>imd_band</th>\n      <th>age_band</th>\n      <th>num_of_prev_attempts</th>\n      <th>studied_credits</th>\n      <th>disability</th>\n      <th>final_result</th>\n      <th>date_registration</th>\n      <th>date_unregistration</th>\n      <th>module_presentation_length</th>\n    </tr>\n  </thead>\n  <tbody>\n    <tr>\n      <th>0</th>\n      <td>AAA</td>\n      <td>2013J</td>\n      <td>11391</td>\n      <td>[[1752, 18, 78.0, TMA, 19.0, 10.0], [1753, 53,...</td>\n      <td>[[546614, -5, homepage, 7], [546614, 0, homepa...</td>\n      <td>M</td>\n      <td>East Anglian Region</td>\n      <td>HE Qualification</td>\n      <td>90-100%</td>\n      <td>55&lt;=</td>\n      <td>0</td>\n      <td>240</td>\n      <td>N</td>\n      <td>Pass</td>\n      <td>-159.0</td>\n      <td>NaN</td>\n      <td>268</td>\n    </tr>\n    <tr>\n      <th>1</th>\n      <td>AAA</td>\n      <td>2013J</td>\n      <td>28400</td>\n      <td>[[1752, 22, 70.0, TMA, 19.0, 10.0], [1753, 52,...</td>\n      <td>[[546614, -10, homepage, 11], [546614, -8, hom...</td>\n      <td>F</td>\n      <td>Scotland</td>\n      <td>HE Qualification</td>\n      <td>20-30%</td>\n      <td>35-55</td>\n      <td>0</td>\n      <td>60</td>\n      <td>N</td>\n      <td>Pass</td>\n      <td>-53.0</td>\n      <td>NaN</td>\n      <td>268</td>\n    </tr>\n    <tr>\n      <th>2</th>\n      <td>AAA</td>\n      <td>2013J</td>\n      <td>31604</td>\n      <td>[[1752, 17, 72.0, TMA, 19.0, 10.0], [1753, 51,...</td>\n      <td>[[546614, -10, homepage, 11], [546614, -9, hom...</td>\n      <td>F</td>\n      <td>South East Region</td>\n      <td>A Level or Equivalent</td>\n      <td>50-60%</td>\n      <td>35-55</td>\n      <td>0</td>\n      <td>60</td>\n      <td>N</td>\n      <td>Pass</td>\n      <td>-52.0</td>\n      <td>NaN</td>\n      <td>268</td>\n    </tr>\n    <tr>\n      <th>3</th>\n      <td>AAA</td>\n      <td>2013J</td>\n      <td>32885</td>\n      <td>[[1752, 26, 69.0, TMA, 19.0, 10.0], [1753, 75,...</td>\n      <td>[[546614, -10, homepage, 13], [546614, -9, hom...</td>\n      <td>F</td>\n      <td>West Midlands Region</td>\n      <td>Lower Than A Level</td>\n      <td>50-60%</td>\n      <td>0-35</td>\n      <td>0</td>\n      <td>60</td>\n      <td>N</td>\n      <td>Pass</td>\n      <td>-176.0</td>\n      <td>NaN</td>\n      <td>268</td>\n    </tr>\n    <tr>\n      <th>4</th>\n      <td>AAA</td>\n      <td>2013J</td>\n      <td>38053</td>\n      <td>[[1752, 19, 79.0, TMA, 19.0, 10.0], [1753, 64,...</td>\n      <td>[[546614, -10, homepage, 13], [546614, -9, hom...</td>\n      <td>M</td>\n      <td>Wales</td>\n      <td>A Level or Equivalent</td>\n      <td>80-90%</td>\n      <td>35-55</td>\n      <td>0</td>\n      <td>60</td>\n      <td>N</td>\n      <td>Pass</td>\n      <td>-110.0</td>\n      <td>NaN</td>\n      <td>268</td>\n    </tr>\n  </tbody>\n</table>\n</div>",
      "text/plain": "  code_module code_presentation  id_student  \\\n0         AAA             2013J       11391   \n1         AAA             2013J       28400   \n2         AAA             2013J       31604   \n3         AAA             2013J       32885   \n4         AAA             2013J       38053   \n\n                                         assessments  \\\n0  [[1752, 18, 78.0, TMA, 19.0, 10.0], [1753, 53,...   \n1  [[1752, 22, 70.0, TMA, 19.0, 10.0], [1753, 52,...   \n2  [[1752, 17, 72.0, TMA, 19.0, 10.0], [1753, 51,...   \n3  [[1752, 26, 69.0, TMA, 19.0, 10.0], [1753, 75,...   \n4  [[1752, 19, 79.0, TMA, 19.0, 10.0], [1753, 64,...   \n\n                                                vles gender  \\\n0  [[546614, -5, homepage, 7], [546614, 0, homepa...      M   \n1  [[546614, -10, homepage, 11], [546614, -8, hom...      F   \n2  [[546614, -10, homepage, 11], [546614, -9, hom...      F   \n3  [[546614, -10, homepage, 13], [546614, -9, hom...      F   \n4  [[546614, -10, homepage, 13], [546614, -9, hom...      M   \n\n                 region      highest_education imd_band age_band  \\\n0   East Anglian Region       HE Qualification  90-100%     55<=   \n1              Scotland       HE Qualification   20-30%    35-55   \n2     South East Region  A Level or Equivalent   50-60%    35-55   \n3  West Midlands Region     Lower Than A Level   50-60%     0-35   \n4                 Wales  A Level or Equivalent   80-90%    35-55   \n\n   num_of_prev_attempts  studied_credits disability final_result  \\\n0                     0              240          N         Pass   \n1                     0               60          N         Pass   \n2                     0               60          N         Pass   \n3                     0               60          N         Pass   \n4                     0               60          N         Pass   \n\n   date_registration  date_unregistration  module_presentation_length  \n0             -159.0                  NaN                         268  \n1              -53.0                  NaN                         268  \n2              -52.0                  NaN                         268  \n3             -176.0                  NaN                         268  \n4             -110.0                  NaN                         268  "
     },
     "execution_count": 1,
     "metadata": {},
     "output_type": "execute_result"
    }
   ],
   "source": [
    "import pandas\n",
    "import pickle\n",
    "\n",
    "merged_data = pandas.read_pickle('../data/merged_data.pickle')\n",
    "merged_data.head()"
   ]
  },
  {
   "cell_type": "code",
   "execution_count": 2,
   "metadata": {},
   "outputs": [
    {
     "data": {
      "text/html": "<div>\n<style scoped>\n    .dataframe tbody tr th:only-of-type {\n        vertical-align: middle;\n    }\n\n    .dataframe tbody tr th {\n        vertical-align: top;\n    }\n\n    .dataframe thead th {\n        text-align: right;\n    }\n</style>\n<table border=\"1\" class=\"dataframe\">\n  <thead>\n    <tr style=\"text-align: right;\">\n      <th></th>\n      <th></th>\n      <th>max_weight</th>\n    </tr>\n    <tr>\n      <th>code_module</th>\n      <th>code_presentation</th>\n      <th></th>\n    </tr>\n  </thead>\n  <tbody>\n    <tr>\n      <th rowspan=\"2\" valign=\"top\">AAA</th>\n      <th>2013J</th>\n      <td>100.0</td>\n    </tr>\n    <tr>\n      <th>2014J</th>\n      <td>100.0</td>\n    </tr>\n    <tr>\n      <th rowspan=\"4\" valign=\"top\">BBB</th>\n      <th>2013B</th>\n      <td>100.0</td>\n    </tr>\n    <tr>\n      <th>2013J</th>\n      <td>100.0</td>\n    </tr>\n    <tr>\n      <th>2014B</th>\n      <td>100.0</td>\n    </tr>\n    <tr>\n      <th>2014J</th>\n      <td>100.0</td>\n    </tr>\n    <tr>\n      <th rowspan=\"2\" valign=\"top\">CCC</th>\n      <th>2014B</th>\n      <td>200.0</td>\n    </tr>\n    <tr>\n      <th>2014J</th>\n      <td>200.0</td>\n    </tr>\n    <tr>\n      <th rowspan=\"4\" valign=\"top\">DDD</th>\n      <th>2013B</th>\n      <td>200.0</td>\n    </tr>\n    <tr>\n      <th>2013J</th>\n      <td>200.0</td>\n    </tr>\n    <tr>\n      <th>2014B</th>\n      <td>200.0</td>\n    </tr>\n    <tr>\n      <th>2014J</th>\n      <td>200.0</td>\n    </tr>\n    <tr>\n      <th rowspan=\"3\" valign=\"top\">EEE</th>\n      <th>2013J</th>\n      <td>100.0</td>\n    </tr>\n    <tr>\n      <th>2014B</th>\n      <td>100.0</td>\n    </tr>\n    <tr>\n      <th>2014J</th>\n      <td>100.0</td>\n    </tr>\n    <tr>\n      <th rowspan=\"4\" valign=\"top\">FFF</th>\n      <th>2013B</th>\n      <td>100.0</td>\n    </tr>\n    <tr>\n      <th>2013J</th>\n      <td>100.0</td>\n    </tr>\n    <tr>\n      <th>2014B</th>\n      <td>100.0</td>\n    </tr>\n    <tr>\n      <th>2014J</th>\n      <td>100.0</td>\n    </tr>\n    <tr>\n      <th rowspan=\"2\" valign=\"top\">GGG</th>\n      <th>2013J</th>\n      <td>0.0</td>\n    </tr>\n    <tr>\n      <th>2014B</th>\n      <td>0.0</td>\n    </tr>\n  </tbody>\n</table>\n</div>",
      "text/plain": "                               max_weight\ncode_module code_presentation            \nAAA         2013J                   100.0\n            2014J                   100.0\nBBB         2013B                   100.0\n            2013J                   100.0\n            2014B                   100.0\n            2014J                   100.0\nCCC         2014B                   200.0\n            2014J                   200.0\nDDD         2013B                   200.0\n            2013J                   200.0\n            2014B                   200.0\n            2014J                   200.0\nEEE         2013J                   100.0\n            2014B                   100.0\n            2014J                   100.0\nFFF         2013B                   100.0\n            2013J                   100.0\n            2014B                   100.0\n            2014J                   100.0\nGGG         2013J                     0.0\n            2014B                     0.0"
     },
     "execution_count": 2,
     "metadata": {},
     "output_type": "execute_result"
    }
   ],
   "source": [
    "import math\n",
    "\n",
    "# analyze the max weight of a course\n",
    "assessment_lists_per_student_per_course = merged_data.groupby(['code_module', 'code_presentation']).agg({\n",
    "    \"assessments\": lambda x: list(x),\n",
    "}).reset_index()\n",
    "\n",
    "def analyze_max_weight_per_course_per_presentation(row):\n",
    "    asessments_of_students = row['assessments']\n",
    "    max_weight = 0\n",
    "    for asessments_of_student in asessments_of_students:\n",
    "        weights = [weight for (id_assessment, date_submitted, score, assessment_type, date, weight) in asessments_of_student]\n",
    "        student_max_weight = sum(weights)\n",
    "        if student_max_weight > max_weight:\n",
    "            max_weight = student_max_weight\n",
    "        \n",
    "\n",
    "    row['max_weight'] = max_weight\n",
    "    return row\n",
    "\n",
    "max_weights_per_course_per_presentation = assessment_lists_per_student_per_course.apply(analyze_max_weight_per_course_per_presentation, axis = 1)\n",
    "max_weights_per_course_per_presentation = max_weights_per_course_per_presentation.drop('assessments', axis=1).set_index(['code_module', 'code_presentation'])\n",
    "max_weights_per_course_per_presentation.head(21)"
   ]
  },
  {
   "cell_type": "code",
   "execution_count": 3,
   "metadata": {},
   "outputs": [
    {
     "data": {
      "text/html": "<div>\n<style scoped>\n    .dataframe tbody tr th:only-of-type {\n        vertical-align: middle;\n    }\n\n    .dataframe tbody tr th {\n        vertical-align: top;\n    }\n\n    .dataframe thead th {\n        text-align: right;\n    }\n</style>\n<table border=\"1\" class=\"dataframe\">\n  <thead>\n    <tr style=\"text-align: right;\">\n      <th></th>\n      <th>code_module</th>\n      <th>code_presentation</th>\n      <th>id_student</th>\n      <th>assessments</th>\n      <th>vles</th>\n      <th>gender</th>\n      <th>region</th>\n      <th>highest_education</th>\n      <th>imd_band</th>\n      <th>age_band</th>\n      <th>num_of_prev_attempts</th>\n      <th>studied_credits</th>\n      <th>disability</th>\n      <th>final_result</th>\n      <th>date_registration</th>\n      <th>date_unregistration</th>\n      <th>module_presentation_length</th>\n      <th>average_score</th>\n    </tr>\n  </thead>\n  <tbody>\n    <tr>\n      <th>0</th>\n      <td>AAA</td>\n      <td>2013J</td>\n      <td>11391</td>\n      <td>[[1752, 18, 78.0, TMA, 19.0, 10.0], [1753, 53,...</td>\n      <td>[[546614, -5, homepage, 7], [546614, 0, homepa...</td>\n      <td>M</td>\n      <td>East Anglian Region</td>\n      <td>HE Qualification</td>\n      <td>90-100%</td>\n      <td>55&lt;=</td>\n      <td>0</td>\n      <td>240</td>\n      <td>N</td>\n      <td>Pass</td>\n      <td>-159.0</td>\n      <td>NaN</td>\n      <td>268</td>\n      <td>82.4</td>\n    </tr>\n    <tr>\n      <th>1</th>\n      <td>AAA</td>\n      <td>2013J</td>\n      <td>28400</td>\n      <td>[[1752, 22, 70.0, TMA, 19.0, 10.0], [1753, 52,...</td>\n      <td>[[546614, -10, homepage, 11], [546614, -8, hom...</td>\n      <td>F</td>\n      <td>Scotland</td>\n      <td>HE Qualification</td>\n      <td>20-30%</td>\n      <td>35-55</td>\n      <td>0</td>\n      <td>60</td>\n      <td>N</td>\n      <td>Pass</td>\n      <td>-53.0</td>\n      <td>NaN</td>\n      <td>268</td>\n      <td>65.4</td>\n    </tr>\n    <tr>\n      <th>2</th>\n      <td>AAA</td>\n      <td>2013J</td>\n      <td>31604</td>\n      <td>[[1752, 17, 72.0, TMA, 19.0, 10.0], [1753, 51,...</td>\n      <td>[[546614, -10, homepage, 11], [546614, -9, hom...</td>\n      <td>F</td>\n      <td>South East Region</td>\n      <td>A Level or Equivalent</td>\n      <td>50-60%</td>\n      <td>35-55</td>\n      <td>0</td>\n      <td>60</td>\n      <td>N</td>\n      <td>Pass</td>\n      <td>-52.0</td>\n      <td>NaN</td>\n      <td>268</td>\n      <td>76.3</td>\n    </tr>\n    <tr>\n      <th>3</th>\n      <td>AAA</td>\n      <td>2013J</td>\n      <td>32885</td>\n      <td>[[1752, 26, 69.0, TMA, 19.0, 10.0], [1753, 75,...</td>\n      <td>[[546614, -10, homepage, 13], [546614, -9, hom...</td>\n      <td>F</td>\n      <td>West Midlands Region</td>\n      <td>Lower Than A Level</td>\n      <td>50-60%</td>\n      <td>0-35</td>\n      <td>0</td>\n      <td>60</td>\n      <td>N</td>\n      <td>Pass</td>\n      <td>-176.0</td>\n      <td>NaN</td>\n      <td>268</td>\n      <td>55.0</td>\n    </tr>\n    <tr>\n      <th>4</th>\n      <td>AAA</td>\n      <td>2013J</td>\n      <td>38053</td>\n      <td>[[1752, 19, 79.0, TMA, 19.0, 10.0], [1753, 64,...</td>\n      <td>[[546614, -10, homepage, 13], [546614, -9, hom...</td>\n      <td>M</td>\n      <td>Wales</td>\n      <td>A Level or Equivalent</td>\n      <td>80-90%</td>\n      <td>35-55</td>\n      <td>0</td>\n      <td>60</td>\n      <td>N</td>\n      <td>Pass</td>\n      <td>-110.0</td>\n      <td>NaN</td>\n      <td>268</td>\n      <td>66.9</td>\n    </tr>\n  </tbody>\n</table>\n</div>",
      "text/plain": "  code_module code_presentation  id_student  \\\n0         AAA             2013J       11391   \n1         AAA             2013J       28400   \n2         AAA             2013J       31604   \n3         AAA             2013J       32885   \n4         AAA             2013J       38053   \n\n                                         assessments  \\\n0  [[1752, 18, 78.0, TMA, 19.0, 10.0], [1753, 53,...   \n1  [[1752, 22, 70.0, TMA, 19.0, 10.0], [1753, 52,...   \n2  [[1752, 17, 72.0, TMA, 19.0, 10.0], [1753, 51,...   \n3  [[1752, 26, 69.0, TMA, 19.0, 10.0], [1753, 75,...   \n4  [[1752, 19, 79.0, TMA, 19.0, 10.0], [1753, 64,...   \n\n                                                vles gender  \\\n0  [[546614, -5, homepage, 7], [546614, 0, homepa...      M   \n1  [[546614, -10, homepage, 11], [546614, -8, hom...      F   \n2  [[546614, -10, homepage, 11], [546614, -9, hom...      F   \n3  [[546614, -10, homepage, 13], [546614, -9, hom...      F   \n4  [[546614, -10, homepage, 13], [546614, -9, hom...      M   \n\n                 region      highest_education imd_band age_band  \\\n0   East Anglian Region       HE Qualification  90-100%     55<=   \n1              Scotland       HE Qualification   20-30%    35-55   \n2     South East Region  A Level or Equivalent   50-60%    35-55   \n3  West Midlands Region     Lower Than A Level   50-60%     0-35   \n4                 Wales  A Level or Equivalent   80-90%    35-55   \n\n   num_of_prev_attempts  studied_credits disability final_result  \\\n0                     0              240          N         Pass   \n1                     0               60          N         Pass   \n2                     0               60          N         Pass   \n3                     0               60          N         Pass   \n4                     0               60          N         Pass   \n\n   date_registration  date_unregistration  module_presentation_length  \\\n0             -159.0                  NaN                         268   \n1              -53.0                  NaN                         268   \n2              -52.0                  NaN                         268   \n3             -176.0                  NaN                         268   \n4             -110.0                  NaN                         268   \n\n   average_score  \n0           82.4  \n1           65.4  \n2           76.3  \n3           55.0  \n4           66.9  "
     },
     "execution_count": 3,
     "metadata": {},
     "output_type": "execute_result"
    }
   ],
   "source": [
    "def analyze_average_grade(assessments):\n",
    "    total_weight = 0\n",
    "    total_score = 0\n",
    "\n",
    "    for assessment in assessments:\n",
    "        id_assessment, date_submitted, score, assessment_type, date, weight = assessment\n",
    "        if (not(type(score) == float)):\n",
    "            print(score)\n",
    "        total_weight +=  weight\n",
    "        total_score += score * weight\n",
    "\n",
    "\n",
    "    if total_weight > 0:\n",
    "        average_score = total_score / total_weight\n",
    "        return average_score\n",
    "    else:\n",
    "        return math.nan\n",
    "\n",
    "merged_data['average_score'] = merged_data['assessments'].transform(analyze_average_grade)\n",
    "merged_data.head()"
   ]
  },
  {
   "cell_type": "code",
   "execution_count": 4,
   "metadata": {},
   "outputs": [
    {
     "data": {
      "text/html": "<div>\n<style scoped>\n    .dataframe tbody tr th:only-of-type {\n        vertical-align: middle;\n    }\n\n    .dataframe tbody tr th {\n        vertical-align: top;\n    }\n\n    .dataframe thead th {\n        text-align: right;\n    }\n</style>\n<table border=\"1\" class=\"dataframe\">\n  <thead>\n    <tr style=\"text-align: right;\">\n      <th></th>\n      <th>code_module</th>\n      <th>code_presentation</th>\n      <th>id_student</th>\n      <th>assessments</th>\n      <th>vles</th>\n      <th>gender</th>\n      <th>region</th>\n      <th>highest_education</th>\n      <th>imd_band</th>\n      <th>age_band</th>\n      <th>num_of_prev_attempts</th>\n      <th>studied_credits</th>\n      <th>disability</th>\n      <th>final_result</th>\n      <th>date_registration</th>\n      <th>date_unregistration</th>\n      <th>module_presentation_length</th>\n      <th>average_score</th>\n      <th>sum_clicks</th>\n    </tr>\n  </thead>\n  <tbody>\n    <tr>\n      <th>0</th>\n      <td>AAA</td>\n      <td>2013J</td>\n      <td>11391</td>\n      <td>[[1752, 18, 78.0, TMA, 19.0, 10.0], [1753, 53,...</td>\n      <td>[[546614, -5, homepage, 7], [546614, 0, homepa...</td>\n      <td>M</td>\n      <td>East Anglian Region</td>\n      <td>HE Qualification</td>\n      <td>90-100%</td>\n      <td>55&lt;=</td>\n      <td>0</td>\n      <td>240</td>\n      <td>N</td>\n      <td>Pass</td>\n      <td>-159.0</td>\n      <td>NaN</td>\n      <td>268</td>\n      <td>82.4</td>\n      <td>934</td>\n    </tr>\n    <tr>\n      <th>1</th>\n      <td>AAA</td>\n      <td>2013J</td>\n      <td>28400</td>\n      <td>[[1752, 22, 70.0, TMA, 19.0, 10.0], [1753, 52,...</td>\n      <td>[[546614, -10, homepage, 11], [546614, -8, hom...</td>\n      <td>F</td>\n      <td>Scotland</td>\n      <td>HE Qualification</td>\n      <td>20-30%</td>\n      <td>35-55</td>\n      <td>0</td>\n      <td>60</td>\n      <td>N</td>\n      <td>Pass</td>\n      <td>-53.0</td>\n      <td>NaN</td>\n      <td>268</td>\n      <td>65.4</td>\n      <td>1435</td>\n    </tr>\n    <tr>\n      <th>2</th>\n      <td>AAA</td>\n      <td>2013J</td>\n      <td>31604</td>\n      <td>[[1752, 17, 72.0, TMA, 19.0, 10.0], [1753, 51,...</td>\n      <td>[[546614, -10, homepage, 11], [546614, -9, hom...</td>\n      <td>F</td>\n      <td>South East Region</td>\n      <td>A Level or Equivalent</td>\n      <td>50-60%</td>\n      <td>35-55</td>\n      <td>0</td>\n      <td>60</td>\n      <td>N</td>\n      <td>Pass</td>\n      <td>-52.0</td>\n      <td>NaN</td>\n      <td>268</td>\n      <td>76.3</td>\n      <td>2158</td>\n    </tr>\n    <tr>\n      <th>3</th>\n      <td>AAA</td>\n      <td>2013J</td>\n      <td>32885</td>\n      <td>[[1752, 26, 69.0, TMA, 19.0, 10.0], [1753, 75,...</td>\n      <td>[[546614, -10, homepage, 13], [546614, -9, hom...</td>\n      <td>F</td>\n      <td>West Midlands Region</td>\n      <td>Lower Than A Level</td>\n      <td>50-60%</td>\n      <td>0-35</td>\n      <td>0</td>\n      <td>60</td>\n      <td>N</td>\n      <td>Pass</td>\n      <td>-176.0</td>\n      <td>NaN</td>\n      <td>268</td>\n      <td>55.0</td>\n      <td>1034</td>\n    </tr>\n    <tr>\n      <th>4</th>\n      <td>AAA</td>\n      <td>2013J</td>\n      <td>38053</td>\n      <td>[[1752, 19, 79.0, TMA, 19.0, 10.0], [1753, 64,...</td>\n      <td>[[546614, -10, homepage, 13], [546614, -9, hom...</td>\n      <td>M</td>\n      <td>Wales</td>\n      <td>A Level or Equivalent</td>\n      <td>80-90%</td>\n      <td>35-55</td>\n      <td>0</td>\n      <td>60</td>\n      <td>N</td>\n      <td>Pass</td>\n      <td>-110.0</td>\n      <td>NaN</td>\n      <td>268</td>\n      <td>66.9</td>\n      <td>2445</td>\n    </tr>\n  </tbody>\n</table>\n</div>",
      "text/plain": "  code_module code_presentation  id_student  \\\n0         AAA             2013J       11391   \n1         AAA             2013J       28400   \n2         AAA             2013J       31604   \n3         AAA             2013J       32885   \n4         AAA             2013J       38053   \n\n                                         assessments  \\\n0  [[1752, 18, 78.0, TMA, 19.0, 10.0], [1753, 53,...   \n1  [[1752, 22, 70.0, TMA, 19.0, 10.0], [1753, 52,...   \n2  [[1752, 17, 72.0, TMA, 19.0, 10.0], [1753, 51,...   \n3  [[1752, 26, 69.0, TMA, 19.0, 10.0], [1753, 75,...   \n4  [[1752, 19, 79.0, TMA, 19.0, 10.0], [1753, 64,...   \n\n                                                vles gender  \\\n0  [[546614, -5, homepage, 7], [546614, 0, homepa...      M   \n1  [[546614, -10, homepage, 11], [546614, -8, hom...      F   \n2  [[546614, -10, homepage, 11], [546614, -9, hom...      F   \n3  [[546614, -10, homepage, 13], [546614, -9, hom...      F   \n4  [[546614, -10, homepage, 13], [546614, -9, hom...      M   \n\n                 region      highest_education imd_band age_band  \\\n0   East Anglian Region       HE Qualification  90-100%     55<=   \n1              Scotland       HE Qualification   20-30%    35-55   \n2     South East Region  A Level or Equivalent   50-60%    35-55   \n3  West Midlands Region     Lower Than A Level   50-60%     0-35   \n4                 Wales  A Level or Equivalent   80-90%    35-55   \n\n   num_of_prev_attempts  studied_credits disability final_result  \\\n0                     0              240          N         Pass   \n1                     0               60          N         Pass   \n2                     0               60          N         Pass   \n3                     0               60          N         Pass   \n4                     0               60          N         Pass   \n\n   date_registration  date_unregistration  module_presentation_length  \\\n0             -159.0                  NaN                         268   \n1              -53.0                  NaN                         268   \n2              -52.0                  NaN                         268   \n3             -176.0                  NaN                         268   \n4             -110.0                  NaN                         268   \n\n   average_score  sum_clicks  \n0           82.4         934  \n1           65.4        1435  \n2           76.3        2158  \n3           55.0        1034  \n4           66.9        2445  "
     },
     "execution_count": 4,
     "metadata": {},
     "output_type": "execute_result"
    }
   ],
   "source": [
    "# jort\n",
    "# sum of all clicks\n",
    "\n",
    "def sum_clicks_vles(vles):\n",
    "    sum_clicks = 0\n",
    "    for [id_site, date, activity_type, sum_click] in vles:\n",
    "        sum_clicks += sum_click\n",
    "    return sum_clicks\n",
    "\n",
    "merged_data[\"sum_clicks\"] = merged_data[\"vles\"].transform(sum_clicks_vles)\n",
    "merged_data.head()"
   ]
  }
 ],
 "metadata": {
  "language_info": {},
  "orig_nbformat": 3
 },
 "nbformat": 4,
 "nbformat_minor": 2
}