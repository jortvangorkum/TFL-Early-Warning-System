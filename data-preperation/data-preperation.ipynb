{
 "cells": [
  {
   "cell_type": "markdown",
   "source": [
    "# Data preperation"
   ],
   "metadata": {}
  },
  {
   "cell_type": "code",
   "execution_count": 1,
   "source": [
    "import pandas\n",
    "from IPython.display import display\n",
    "\n",
    "def read_data(file_name):\n",
    "    csv_file = pandas.read_csv(f'../data/{file_name}.csv')\n",
    "    return csv_file\n",
    "\n",
    "student_course_identifier = [\"code_module\", \"code_presentation\", \"id_student\"]\n",
    "\n",
    "student_info = read_data('studentInfo')\n",
    "student_info.loc[0]"
   ],
   "outputs": [
    {
     "output_type": "execute_result",
     "data": {
      "text/plain": [
       "code_module                             AAA\n",
       "code_presentation                     2013J\n",
       "id_student                            11391\n",
       "gender                                    M\n",
       "region                  East Anglian Region\n",
       "highest_education          HE Qualification\n",
       "imd_band                            90-100%\n",
       "age_band                               55<=\n",
       "num_of_prev_attempts                      0\n",
       "studied_credits                         240\n",
       "disability                                N\n",
       "final_result                           Pass\n",
       "Name: 0, dtype: object"
      ]
     },
     "metadata": {},
     "execution_count": 1
    }
   ],
   "metadata": {}
  },
  {
   "cell_type": "markdown",
   "source": [
    "\\pagebreak\n",
    "## Merge 1\n",
    "merge: studentinfo\\\n",
    "with: studentRegistration"
   ],
   "metadata": {}
  },
  {
   "cell_type": "code",
   "execution_count": 2,
   "source": [
    "# merge studentinfo \n",
    "# with studentRegistration\n",
    "student_registration = read_data(\"studentRegistration\")\n",
    "students_merged_step_1 = pandas.merge(student_info, student_registration, on=student_course_identifier)\n",
    "students_merged_step_1.loc[0]"
   ],
   "outputs": [
    {
     "output_type": "execute_result",
     "data": {
      "text/plain": [
       "code_module                             AAA\n",
       "code_presentation                     2013J\n",
       "id_student                            11391\n",
       "gender                                    M\n",
       "region                  East Anglian Region\n",
       "highest_education          HE Qualification\n",
       "imd_band                            90-100%\n",
       "age_band                               55<=\n",
       "num_of_prev_attempts                      0\n",
       "studied_credits                         240\n",
       "disability                                N\n",
       "final_result                           Pass\n",
       "date_registration                    -159.0\n",
       "date_unregistration                     NaN\n",
       "Name: 0, dtype: object"
      ]
     },
     "metadata": {},
     "execution_count": 2
    }
   ],
   "metadata": {}
  },
  {
   "cell_type": "markdown",
   "source": [
    "\\pagebreak\n",
    "## Merge 2\n",
    "merge: studentinfo and studentRegistration\\\n",
    "with: courses"
   ],
   "metadata": {}
  },
  {
   "cell_type": "code",
   "execution_count": 3,
   "source": [
    "courses = read_data(\"courses\")\n",
    "students_merged_step_2 = pandas.merge(students_merged_step_1, courses, on=['code_module', 'code_presentation'])\n",
    "students_merged_step_2.loc[0]"
   ],
   "outputs": [
    {
     "output_type": "execute_result",
     "data": {
      "text/plain": [
       "code_module                                   AAA\n",
       "code_presentation                           2013J\n",
       "id_student                                  11391\n",
       "gender                                          M\n",
       "region                        East Anglian Region\n",
       "highest_education                HE Qualification\n",
       "imd_band                                  90-100%\n",
       "age_band                                     55<=\n",
       "num_of_prev_attempts                            0\n",
       "studied_credits                               240\n",
       "disability                                      N\n",
       "final_result                                 Pass\n",
       "date_registration                          -159.0\n",
       "date_unregistration                           NaN\n",
       "module_presentation_length                    268\n",
       "Name: 0, dtype: object"
      ]
     },
     "metadata": {},
     "execution_count": 3
    }
   ],
   "metadata": {}
  },
  {
   "cell_type": "markdown",
   "source": [
    "\\pagebreak\n",
    "## Merge 3\n",
    "merge: studentinfo, studentRegistration and courses\\\n",
    "with: vles and studentvles"
   ],
   "metadata": {}
  },
  {
   "cell_type": "code",
   "execution_count": 4,
   "source": [
    "# prepare vles for merging later\n",
    "vles = pandas.merge(read_data(\"vle\"), read_data(\"studentVle\"), on=['code_module', 'code_presentation', 'id_site'])\n",
    "\n",
    "# group vle clicks per day\n",
    "grouped_vles_per_day = vles.groupby([\"code_module\", \"code_presentation\", \"id_student\", \"id_site\", \"date\", \"activity_type\"]).agg({\n",
    "    \"sum_click\": \"sum\"\n",
    "}).reset_index()\n",
    "\n",
    "# combine vle data as a single column value\n",
    "grouped_vles_per_day[\"vles\"] = grouped_vles_per_day[[\"id_site\", \"date\", \"activity_type\", \"sum_click\"]].values.tolist()     \n",
    "grouped_vles_per_day.head()\n",
    "\n",
    "# combine all seperate from rows to a single row with a list\n",
    "grouped_vles_per_student = grouped_vles_per_day.groupby(student_course_identifier, as_index=False).agg({\n",
    "    \"vles\": lambda x: list(x)\n",
    "})"
   ],
   "outputs": [],
   "metadata": {}
  },
  {
   "cell_type": "code",
   "execution_count": 5,
   "source": [
    "students_merged_step_3 = pandas.merge(grouped_vles_per_student, students_merged_step_2, on=student_course_identifier)\n",
    "students_merged_step_3.loc[0]"
   ],
   "outputs": [
    {
     "output_type": "execute_result",
     "data": {
      "text/plain": [
       "code_module                                                                 AAA\n",
       "code_presentation                                                         2013J\n",
       "id_student                                                                11391\n",
       "vles                          [[546614, -5, homepage, 7], [546614, 0, homepa...\n",
       "gender                                                                        M\n",
       "region                                                      East Anglian Region\n",
       "highest_education                                              HE Qualification\n",
       "imd_band                                                                90-100%\n",
       "age_band                                                                   55<=\n",
       "num_of_prev_attempts                                                          0\n",
       "studied_credits                                                             240\n",
       "disability                                                                    N\n",
       "final_result                                                               Pass\n",
       "date_registration                                                        -159.0\n",
       "date_unregistration                                                         NaN\n",
       "module_presentation_length                                                  268\n",
       "Name: 0, dtype: object"
      ]
     },
     "metadata": {},
     "execution_count": 5
    }
   ],
   "metadata": {}
  },
  {
   "cell_type": "markdown",
   "source": [
    "\\pagebreak\n",
    "## Merge 4\n",
    "merge: studentinfo, studentRegistration, courses, vles and studentvles\\\n",
    "with: assessments"
   ],
   "metadata": {}
  },
  {
   "cell_type": "code",
   "execution_count": 6,
   "source": [
    "assessments_bm = read_data(\"assessments\")\n",
    "student_assessments_bm = read_data(\"studentAssessment\")\n",
    "# couple assesment info to student assesment info\n",
    "student_assessments = pandas.merge(student_assessments_bm, assessments_bm, on=['id_assessment'])\n",
    "student_assessments[\"assessments\"] = student_assessments[[\"id_assessment\", \"date_submitted\", \"score\", \"assessment_type\", \"date\", \"weight\"]].values.tolist()     \n",
    "# group per student their assessments\n",
    "student_assessments_per_student = student_assessments.groupby(student_course_identifier, as_index=False).agg({\n",
    "    \"assessments\": lambda x: list(x)\n",
    "})\n",
    "student_assessments_per_student.loc[0]"
   ],
   "outputs": [
    {
     "output_type": "execute_result",
     "data": {
      "text/plain": [
       "code_module                                                        AAA\n",
       "code_presentation                                                2013J\n",
       "id_student                                                       11391\n",
       "assessments          [[1752, 18, 78.0, TMA, 19.0, 10.0], [1753, 53,...\n",
       "Name: 0, dtype: object"
      ]
     },
     "metadata": {},
     "execution_count": 6
    }
   ],
   "metadata": {}
  },
  {
   "cell_type": "code",
   "execution_count": 7,
   "source": [
    "students_merged_step_4 = pandas.merge(student_assessments_per_student, students_merged_step_3, on=student_course_identifier)\n",
    "students_merged_step_4.loc[0]"
   ],
   "outputs": [
    {
     "output_type": "execute_result",
     "data": {
      "text/plain": [
       "code_module                                                                 AAA\n",
       "code_presentation                                                         2013J\n",
       "id_student                                                                11391\n",
       "assessments                   [[1752, 18, 78.0, TMA, 19.0, 10.0], [1753, 53,...\n",
       "vles                          [[546614, -5, homepage, 7], [546614, 0, homepa...\n",
       "gender                                                                        M\n",
       "region                                                      East Anglian Region\n",
       "highest_education                                              HE Qualification\n",
       "imd_band                                                                90-100%\n",
       "age_band                                                                   55<=\n",
       "num_of_prev_attempts                                                          0\n",
       "studied_credits                                                             240\n",
       "disability                                                                    N\n",
       "final_result                                                               Pass\n",
       "date_registration                                                        -159.0\n",
       "date_unregistration                                                         NaN\n",
       "module_presentation_length                                                  268\n",
       "Name: 0, dtype: object"
      ]
     },
     "metadata": {},
     "execution_count": 7
    }
   ],
   "metadata": {}
  },
  {
   "cell_type": "markdown",
   "source": [
    "## Save Dataframe to CSV file and Feather file"
   ],
   "metadata": {}
  },
  {
   "cell_type": "code",
   "execution_count": 11,
   "source": [
    "students_merged_step_4.to_csv(\"../data/merged_data.csv\")\n",
    "students_merged_step_4.to_pickle(\"../data/merged_data.pickle\")"
   ],
   "outputs": [],
   "metadata": {}
  }
 ],
 "metadata": {
  "kernelspec": {
   "name": "python3",
   "display_name": "Python 3.8.10 64-bit ('TFL-Early-Warning-System-Dk1ikBfz': pipenv)"
  },
  "language_info": {
   "name": "python",
   "version": "3.8.10",
   "mimetype": "text/x-python",
   "codemirror_mode": {
    "name": "ipython",
    "version": 3
   },
   "pygments_lexer": "ipython3",
   "nbconvert_exporter": "python",
   "file_extension": ".py"
  },
  "metadata": {
   "interpreter": {
    "hash": "aee8b7b246df8f9039afb4144a1f6fd8d2ca17a180786b69acc140d282b71a49"
   }
  },
  "orig_nbformat": 3,
  "interpreter": {
   "hash": "e475ca911d037dd20b3a468ef59286c04ab37dedf18160dcce0c9f36ca56fa54"
  }
 },
 "nbformat": 4,
 "nbformat_minor": 2
}