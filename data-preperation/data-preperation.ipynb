{
 "cells": [
  {
   "cell_type": "markdown",
   "metadata": {},
   "source": [
    "# Data preperation"
   ]
  },
  {
   "cell_type": "code",
   "execution_count": 32,
   "metadata": {},
   "outputs": [
    {
     "data": {
      "text/plain": "code_module                             AAA\ncode_presentation                     2013J\nid_student                            11391\ngender                                    M\nregion                  East Anglian Region\nhighest_education          HE Qualification\nimd_band                            90-100%\nage_band                               55<=\nnum_of_prev_attempts                      0\nstudied_credits                         240\ndisability                                N\nfinal_result                           Pass\nName: 0, dtype: object"
     },
     "execution_count": 32,
     "metadata": {},
     "output_type": "execute_result"
    }
   ],
   "source": [
    "import pandas\n",
    "from IPython.display import display\n",
    "\n",
    "def read_data(file_name):\n",
    "    csv_file = pandas.read_csv(f'../data/{file_name}.csv')\n",
    "    return csv_file\n",
    "\n",
    "student_course_identifier = [\"code_module\", \"code_presentation\", \"id_student\"]\n",
    "\n",
    "student_info = read_data('studentInfo')\n",
    "student_info.loc[0]"
   ]
  },
  {
   "cell_type": "markdown",
   "metadata": {},
   "source": [
    "\\pagebreak\n",
    "## Merge 1\n",
    "merge: studentinfo\\\n",
    "with: studentRegistration"
   ]
  },
  {
   "cell_type": "code",
   "execution_count": 33,
   "metadata": {},
   "outputs": [
    {
     "data": {
      "text/plain": "code_module                             AAA\ncode_presentation                     2013J\nid_student                            11391\ngender                                    M\nregion                  East Anglian Region\nhighest_education          HE Qualification\nimd_band                            90-100%\nage_band                               55<=\nnum_of_prev_attempts                      0\nstudied_credits                         240\ndisability                                N\nfinal_result                           Pass\ndate_registration                    -159.0\ndate_unregistration                     NaN\nName: 0, dtype: object"
     },
     "execution_count": 33,
     "metadata": {},
     "output_type": "execute_result"
    }
   ],
   "source": [
    "# merge studentinfo \n",
    "# with studentRegistration\n",
    "student_registration = read_data(\"studentRegistration\")\n",
    "students_merged_step_1 = pandas.merge(student_info, student_registration, on=student_course_identifier)\n",
    "students_merged_step_1.loc[0]"
   ]
  },
  {
   "cell_type": "markdown",
   "metadata": {},
   "source": [
    "\\pagebreak\n",
    "## Merge 2\n",
    "merge: studentinfo and studentRegistration\\\n",
    "with: courses"
   ]
  },
  {
   "cell_type": "code",
   "execution_count": 34,
   "metadata": {},
   "outputs": [
    {
     "data": {
      "text/plain": "code_module                                   AAA\ncode_presentation                           2013J\nid_student                                  11391\ngender                                          M\nregion                        East Anglian Region\nhighest_education                HE Qualification\nimd_band                                  90-100%\nage_band                                     55<=\nnum_of_prev_attempts                            0\nstudied_credits                               240\ndisability                                      N\nfinal_result                                 Pass\ndate_registration                          -159.0\ndate_unregistration                           NaN\nmodule_presentation_length                    268\nName: 0, dtype: object"
     },
     "execution_count": 34,
     "metadata": {},
     "output_type": "execute_result"
    }
   ],
   "source": [
    "courses = read_data(\"courses\")\n",
    "students_merged_step_2 = pandas.merge(students_merged_step_1, courses, on=['code_module', 'code_presentation'])\n",
    "students_merged_step_2.loc[0]"
   ]
  },
  {
   "cell_type": "markdown",
   "metadata": {},
   "source": [
    "\\pagebreak\n",
    "## Merge 3\n",
    "merge: studentinfo, studentRegistration and courses\\\n",
    "with: vles and studentvles"
   ]
  },
  {
   "cell_type": "code",
   "execution_count": 35,
   "metadata": {},
   "outputs": [],
   "source": [
    "# prepare vles for merging later\n",
    "vles = pandas.merge(read_data(\"vle\"), read_data(\"studentVle\"), on=['code_module', 'code_presentation', 'id_site'])\n",
    "\n",
    "# group vle clicks per day\n",
    "grouped_vles_per_day = vles.groupby([\"code_module\", \"code_presentation\", \"id_student\", \"id_site\", \"date\", \"activity_type\"]).agg({\n",
    "    \"sum_click\": \"sum\"\n",
    "}).reset_index()\n",
    "\n",
    "# combine vle data as a single column value\n",
    "grouped_vles_per_day[\"vles\"] = grouped_vles_per_day[[\"id_site\", \"date\", \"activity_type\", \"sum_click\"]].values.tolist()     \n",
    "grouped_vles_per_day.head()\n",
    "\n",
    "# combine all seperate from rows to a single row with a list\n",
    "grouped_vles_per_student = grouped_vles_per_day.groupby(student_course_identifier, as_index=False).agg({\n",
    "    \"vles\": lambda x: list(x)\n",
    "})"
   ]
  },
  {
   "cell_type": "code",
   "execution_count": 36,
   "metadata": {},
   "outputs": [
    {
     "data": {
      "text/plain": "code_module                                                                 AAA\ncode_presentation                                                         2013J\nid_student                                                                11391\nvles                          [[546614, -5, homepage, 7], [546614, 0, homepa...\ngender                                                                        M\nregion                                                      East Anglian Region\nhighest_education                                              HE Qualification\nimd_band                                                                90-100%\nage_band                                                                   55<=\nnum_of_prev_attempts                                                          0\nstudied_credits                                                             240\ndisability                                                                    N\nfinal_result                                                               Pass\ndate_registration                                                        -159.0\ndate_unregistration                                                         NaN\nmodule_presentation_length                                                  268\nName: 0, dtype: object"
     },
     "execution_count": 36,
     "metadata": {},
     "output_type": "execute_result"
    }
   ],
   "source": [
    "students_merged_step_3 = pandas.merge(grouped_vles_per_student, students_merged_step_2, on=student_course_identifier)\n",
    "students_merged_step_3.loc[0]"
   ]
  }
 ],
 "metadata": {
  "kernelspec": {
   "display_name": "Python 3.9.5 64-bit",
   "name": "python395jvsc74a57bd0aee8b7b246df8f9039afb4144a1f6fd8d2ca17a180786b69acc140d282b71a49"
  },
  "language_info": {
   "name": "python",
   "version": ""
  },
  "metadata": {
   "interpreter": {
    "hash": "aee8b7b246df8f9039afb4144a1f6fd8d2ca17a180786b69acc140d282b71a49"
   }
  },
  "orig_nbformat": 3
 },
 "nbformat": 4,
 "nbformat_minor": 2
}