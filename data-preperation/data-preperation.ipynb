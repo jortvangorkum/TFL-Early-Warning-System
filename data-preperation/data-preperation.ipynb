{
 "cells": [
  {
   "cell_type": "code",
   "execution_count": 26,
   "metadata": {},
   "outputs": [
    {
     "data": {
      "text/html": "<div>\n<style scoped>\n    .dataframe tbody tr th:only-of-type {\n        vertical-align: middle;\n    }\n\n    .dataframe tbody tr th {\n        vertical-align: top;\n    }\n\n    .dataframe thead th {\n        text-align: right;\n    }\n</style>\n<table border=\"1\" class=\"dataframe\">\n  <thead>\n    <tr style=\"text-align: right;\">\n      <th></th>\n      <th>code_module</th>\n      <th>code_presentation</th>\n      <th>id_student</th>\n      <th>gender</th>\n      <th>region</th>\n      <th>highest_education</th>\n      <th>imd_band</th>\n      <th>age_band</th>\n      <th>num_of_prev_attempts</th>\n      <th>studied_credits</th>\n      <th>disability</th>\n      <th>final_result</th>\n    </tr>\n  </thead>\n  <tbody>\n    <tr>\n      <th>0</th>\n      <td>AAA</td>\n      <td>2013J</td>\n      <td>11391</td>\n      <td>M</td>\n      <td>East Anglian Region</td>\n      <td>HE Qualification</td>\n      <td>90-100%</td>\n      <td>55&lt;=</td>\n      <td>0</td>\n      <td>240</td>\n      <td>N</td>\n      <td>Pass</td>\n    </tr>\n    <tr>\n      <th>1</th>\n      <td>AAA</td>\n      <td>2013J</td>\n      <td>28400</td>\n      <td>F</td>\n      <td>Scotland</td>\n      <td>HE Qualification</td>\n      <td>20-30%</td>\n      <td>35-55</td>\n      <td>0</td>\n      <td>60</td>\n      <td>N</td>\n      <td>Pass</td>\n    </tr>\n    <tr>\n      <th>2</th>\n      <td>AAA</td>\n      <td>2013J</td>\n      <td>30268</td>\n      <td>F</td>\n      <td>North Western Region</td>\n      <td>A Level or Equivalent</td>\n      <td>30-40%</td>\n      <td>35-55</td>\n      <td>0</td>\n      <td>60</td>\n      <td>Y</td>\n      <td>Withdrawn</td>\n    </tr>\n    <tr>\n      <th>3</th>\n      <td>AAA</td>\n      <td>2013J</td>\n      <td>31604</td>\n      <td>F</td>\n      <td>South East Region</td>\n      <td>A Level or Equivalent</td>\n      <td>50-60%</td>\n      <td>35-55</td>\n      <td>0</td>\n      <td>60</td>\n      <td>N</td>\n      <td>Pass</td>\n    </tr>\n    <tr>\n      <th>4</th>\n      <td>AAA</td>\n      <td>2013J</td>\n      <td>32885</td>\n      <td>F</td>\n      <td>West Midlands Region</td>\n      <td>Lower Than A Level</td>\n      <td>50-60%</td>\n      <td>0-35</td>\n      <td>0</td>\n      <td>60</td>\n      <td>N</td>\n      <td>Pass</td>\n    </tr>\n  </tbody>\n</table>\n</div>",
      "text/plain": "  code_module code_presentation  id_student gender                region  \\\n0         AAA             2013J       11391      M   East Anglian Region   \n1         AAA             2013J       28400      F              Scotland   \n2         AAA             2013J       30268      F  North Western Region   \n3         AAA             2013J       31604      F     South East Region   \n4         AAA             2013J       32885      F  West Midlands Region   \n\n       highest_education imd_band age_band  num_of_prev_attempts  \\\n0       HE Qualification  90-100%     55<=                     0   \n1       HE Qualification   20-30%    35-55                     0   \n2  A Level or Equivalent   30-40%    35-55                     0   \n3  A Level or Equivalent   50-60%    35-55                     0   \n4     Lower Than A Level   50-60%     0-35                     0   \n\n   studied_credits disability final_result  \n0              240          N         Pass  \n1               60          N         Pass  \n2               60          Y    Withdrawn  \n3               60          N         Pass  \n4               60          N         Pass  "
     },
     "execution_count": 26,
     "metadata": {},
     "output_type": "execute_result"
    }
   ],
   "source": [
    "import pandas\n",
    "from IPython.display import display\n",
    "\n",
    "def read_data(file_name):\n",
    "    csv_file = pandas.read_csv(f'../data/{file_name}.csv')\n",
    "    return csv_file\n",
    "\n",
    "student_course_identifier = [\"code_module\", \"code_presentation\", \"id_student\"]\n",
    "\n",
    "student_info = read_data('studentInfo')\n",
    "student_info.head()"
   ]
  },
  {
   "cell_type": "code",
   "execution_count": 27,
   "metadata": {},
   "outputs": [
    {
     "data": {
      "text/html": "<div>\n<style scoped>\n    .dataframe tbody tr th:only-of-type {\n        vertical-align: middle;\n    }\n\n    .dataframe tbody tr th {\n        vertical-align: top;\n    }\n\n    .dataframe thead th {\n        text-align: right;\n    }\n</style>\n<table border=\"1\" class=\"dataframe\">\n  <thead>\n    <tr style=\"text-align: right;\">\n      <th></th>\n      <th>code_module</th>\n      <th>code_presentation</th>\n      <th>id_student</th>\n      <th>gender</th>\n      <th>region</th>\n      <th>highest_education</th>\n      <th>imd_band</th>\n      <th>age_band</th>\n      <th>num_of_prev_attempts</th>\n      <th>studied_credits</th>\n      <th>disability</th>\n      <th>final_result</th>\n      <th>date_registration</th>\n      <th>date_unregistration</th>\n    </tr>\n  </thead>\n  <tbody>\n    <tr>\n      <th>0</th>\n      <td>AAA</td>\n      <td>2013J</td>\n      <td>11391</td>\n      <td>M</td>\n      <td>East Anglian Region</td>\n      <td>HE Qualification</td>\n      <td>90-100%</td>\n      <td>55&lt;=</td>\n      <td>0</td>\n      <td>240</td>\n      <td>N</td>\n      <td>Pass</td>\n      <td>-159.0</td>\n      <td>NaN</td>\n    </tr>\n    <tr>\n      <th>1</th>\n      <td>AAA</td>\n      <td>2013J</td>\n      <td>28400</td>\n      <td>F</td>\n      <td>Scotland</td>\n      <td>HE Qualification</td>\n      <td>20-30%</td>\n      <td>35-55</td>\n      <td>0</td>\n      <td>60</td>\n      <td>N</td>\n      <td>Pass</td>\n      <td>-53.0</td>\n      <td>NaN</td>\n    </tr>\n    <tr>\n      <th>2</th>\n      <td>AAA</td>\n      <td>2013J</td>\n      <td>30268</td>\n      <td>F</td>\n      <td>North Western Region</td>\n      <td>A Level or Equivalent</td>\n      <td>30-40%</td>\n      <td>35-55</td>\n      <td>0</td>\n      <td>60</td>\n      <td>Y</td>\n      <td>Withdrawn</td>\n      <td>-92.0</td>\n      <td>12.0</td>\n    </tr>\n    <tr>\n      <th>3</th>\n      <td>AAA</td>\n      <td>2013J</td>\n      <td>31604</td>\n      <td>F</td>\n      <td>South East Region</td>\n      <td>A Level or Equivalent</td>\n      <td>50-60%</td>\n      <td>35-55</td>\n      <td>0</td>\n      <td>60</td>\n      <td>N</td>\n      <td>Pass</td>\n      <td>-52.0</td>\n      <td>NaN</td>\n    </tr>\n    <tr>\n      <th>4</th>\n      <td>AAA</td>\n      <td>2013J</td>\n      <td>32885</td>\n      <td>F</td>\n      <td>West Midlands Region</td>\n      <td>Lower Than A Level</td>\n      <td>50-60%</td>\n      <td>0-35</td>\n      <td>0</td>\n      <td>60</td>\n      <td>N</td>\n      <td>Pass</td>\n      <td>-176.0</td>\n      <td>NaN</td>\n    </tr>\n  </tbody>\n</table>\n</div>",
      "text/plain": "  code_module code_presentation  id_student gender                region  \\\n0         AAA             2013J       11391      M   East Anglian Region   \n1         AAA             2013J       28400      F              Scotland   \n2         AAA             2013J       30268      F  North Western Region   \n3         AAA             2013J       31604      F     South East Region   \n4         AAA             2013J       32885      F  West Midlands Region   \n\n       highest_education imd_band age_band  num_of_prev_attempts  \\\n0       HE Qualification  90-100%     55<=                     0   \n1       HE Qualification   20-30%    35-55                     0   \n2  A Level or Equivalent   30-40%    35-55                     0   \n3  A Level or Equivalent   50-60%    35-55                     0   \n4     Lower Than A Level   50-60%     0-35                     0   \n\n   studied_credits disability final_result  date_registration  \\\n0              240          N         Pass             -159.0   \n1               60          N         Pass              -53.0   \n2               60          Y    Withdrawn              -92.0   \n3               60          N         Pass              -52.0   \n4               60          N         Pass             -176.0   \n\n   date_unregistration  \n0                  NaN  \n1                  NaN  \n2                 12.0  \n3                  NaN  \n4                  NaN  "
     },
     "execution_count": 27,
     "metadata": {},
     "output_type": "execute_result"
    }
   ],
   "source": [
    "# merge studentinfo \n",
    "# with studentRegistration\n",
    "student_registration = read_data(\"studentRegistration\")\n",
    "students_merged_step_1 = pandas.merge(student_info, student_registration, on=student_course_identifier)\n",
    "students_merged_step_1.head()"
   ]
  },
  {
   "cell_type": "code",
   "execution_count": 28,
   "metadata": {},
   "outputs": [
    {
     "data": {
      "text/html": "<div>\n<style scoped>\n    .dataframe tbody tr th:only-of-type {\n        vertical-align: middle;\n    }\n\n    .dataframe tbody tr th {\n        vertical-align: top;\n    }\n\n    .dataframe thead th {\n        text-align: right;\n    }\n</style>\n<table border=\"1\" class=\"dataframe\">\n  <thead>\n    <tr style=\"text-align: right;\">\n      <th></th>\n      <th>code_module</th>\n      <th>code_presentation</th>\n      <th>id_student</th>\n      <th>gender</th>\n      <th>region</th>\n      <th>highest_education</th>\n      <th>imd_band</th>\n      <th>age_band</th>\n      <th>num_of_prev_attempts</th>\n      <th>studied_credits</th>\n      <th>disability</th>\n      <th>final_result</th>\n      <th>date_registration</th>\n      <th>date_unregistration</th>\n      <th>module_presentation_length</th>\n    </tr>\n  </thead>\n  <tbody>\n    <tr>\n      <th>0</th>\n      <td>AAA</td>\n      <td>2013J</td>\n      <td>11391</td>\n      <td>M</td>\n      <td>East Anglian Region</td>\n      <td>HE Qualification</td>\n      <td>90-100%</td>\n      <td>55&lt;=</td>\n      <td>0</td>\n      <td>240</td>\n      <td>N</td>\n      <td>Pass</td>\n      <td>-159.0</td>\n      <td>NaN</td>\n      <td>268</td>\n    </tr>\n    <tr>\n      <th>1</th>\n      <td>AAA</td>\n      <td>2013J</td>\n      <td>28400</td>\n      <td>F</td>\n      <td>Scotland</td>\n      <td>HE Qualification</td>\n      <td>20-30%</td>\n      <td>35-55</td>\n      <td>0</td>\n      <td>60</td>\n      <td>N</td>\n      <td>Pass</td>\n      <td>-53.0</td>\n      <td>NaN</td>\n      <td>268</td>\n    </tr>\n    <tr>\n      <th>2</th>\n      <td>AAA</td>\n      <td>2013J</td>\n      <td>30268</td>\n      <td>F</td>\n      <td>North Western Region</td>\n      <td>A Level or Equivalent</td>\n      <td>30-40%</td>\n      <td>35-55</td>\n      <td>0</td>\n      <td>60</td>\n      <td>Y</td>\n      <td>Withdrawn</td>\n      <td>-92.0</td>\n      <td>12.0</td>\n      <td>268</td>\n    </tr>\n    <tr>\n      <th>3</th>\n      <td>AAA</td>\n      <td>2013J</td>\n      <td>31604</td>\n      <td>F</td>\n      <td>South East Region</td>\n      <td>A Level or Equivalent</td>\n      <td>50-60%</td>\n      <td>35-55</td>\n      <td>0</td>\n      <td>60</td>\n      <td>N</td>\n      <td>Pass</td>\n      <td>-52.0</td>\n      <td>NaN</td>\n      <td>268</td>\n    </tr>\n    <tr>\n      <th>4</th>\n      <td>AAA</td>\n      <td>2013J</td>\n      <td>32885</td>\n      <td>F</td>\n      <td>West Midlands Region</td>\n      <td>Lower Than A Level</td>\n      <td>50-60%</td>\n      <td>0-35</td>\n      <td>0</td>\n      <td>60</td>\n      <td>N</td>\n      <td>Pass</td>\n      <td>-176.0</td>\n      <td>NaN</td>\n      <td>268</td>\n    </tr>\n  </tbody>\n</table>\n</div>",
      "text/plain": "  code_module code_presentation  id_student gender                region  \\\n0         AAA             2013J       11391      M   East Anglian Region   \n1         AAA             2013J       28400      F              Scotland   \n2         AAA             2013J       30268      F  North Western Region   \n3         AAA             2013J       31604      F     South East Region   \n4         AAA             2013J       32885      F  West Midlands Region   \n\n       highest_education imd_band age_band  num_of_prev_attempts  \\\n0       HE Qualification  90-100%     55<=                     0   \n1       HE Qualification   20-30%    35-55                     0   \n2  A Level or Equivalent   30-40%    35-55                     0   \n3  A Level or Equivalent   50-60%    35-55                     0   \n4     Lower Than A Level   50-60%     0-35                     0   \n\n   studied_credits disability final_result  date_registration  \\\n0              240          N         Pass             -159.0   \n1               60          N         Pass              -53.0   \n2               60          Y    Withdrawn              -92.0   \n3               60          N         Pass              -52.0   \n4               60          N         Pass             -176.0   \n\n   date_unregistration  module_presentation_length  \n0                  NaN                         268  \n1                  NaN                         268  \n2                 12.0                         268  \n3                  NaN                         268  \n4                  NaN                         268  "
     },
     "execution_count": 28,
     "metadata": {},
     "output_type": "execute_result"
    }
   ],
   "source": [
    "# merge studentinfo and studentRegistration\n",
    "# with courses\n",
    "courses = read_data(\"courses\")\n",
    "students_merged_step_2 = pandas.merge(students_merged_step_1, courses, on=['code_module', 'code_presentation'])\n",
    "students_merged_step_2.head()"
   ]
  },
  {
   "cell_type": "code",
   "execution_count": 29,
   "metadata": {},
   "outputs": [
    {
     "data": {
      "text/html": "<div>\n<style scoped>\n    .dataframe tbody tr th:only-of-type {\n        vertical-align: middle;\n    }\n\n    .dataframe tbody tr th {\n        vertical-align: top;\n    }\n\n    .dataframe thead th {\n        text-align: right;\n    }\n</style>\n<table border=\"1\" class=\"dataframe\">\n  <thead>\n    <tr style=\"text-align: right;\">\n      <th></th>\n      <th>id_site</th>\n      <th>code_module</th>\n      <th>code_presentation</th>\n      <th>activity_type</th>\n      <th>week_from</th>\n      <th>week_to</th>\n      <th>id_student</th>\n      <th>date</th>\n      <th>sum_click</th>\n    </tr>\n  </thead>\n  <tbody>\n    <tr>\n      <th>0</th>\n      <td>546943</td>\n      <td>AAA</td>\n      <td>2013J</td>\n      <td>resource</td>\n      <td>NaN</td>\n      <td>NaN</td>\n      <td>75091</td>\n      <td>-10</td>\n      <td>1</td>\n    </tr>\n    <tr>\n      <th>1</th>\n      <td>546943</td>\n      <td>AAA</td>\n      <td>2013J</td>\n      <td>resource</td>\n      <td>NaN</td>\n      <td>NaN</td>\n      <td>186149</td>\n      <td>-10</td>\n      <td>1</td>\n    </tr>\n    <tr>\n      <th>2</th>\n      <td>546943</td>\n      <td>AAA</td>\n      <td>2013J</td>\n      <td>resource</td>\n      <td>NaN</td>\n      <td>NaN</td>\n      <td>205350</td>\n      <td>-10</td>\n      <td>2</td>\n    </tr>\n    <tr>\n      <th>3</th>\n      <td>546943</td>\n      <td>AAA</td>\n      <td>2013J</td>\n      <td>resource</td>\n      <td>NaN</td>\n      <td>NaN</td>\n      <td>1626710</td>\n      <td>-9</td>\n      <td>1</td>\n    </tr>\n    <tr>\n      <th>4</th>\n      <td>546943</td>\n      <td>AAA</td>\n      <td>2013J</td>\n      <td>resource</td>\n      <td>NaN</td>\n      <td>NaN</td>\n      <td>2643002</td>\n      <td>-8</td>\n      <td>1</td>\n    </tr>\n  </tbody>\n</table>\n</div>",
      "text/plain": "   id_site code_module code_presentation activity_type  week_from  week_to  \\\n0   546943         AAA             2013J      resource        NaN      NaN   \n1   546943         AAA             2013J      resource        NaN      NaN   \n2   546943         AAA             2013J      resource        NaN      NaN   \n3   546943         AAA             2013J      resource        NaN      NaN   \n4   546943         AAA             2013J      resource        NaN      NaN   \n\n   id_student  date  sum_click  \n0       75091   -10          1  \n1      186149   -10          1  \n2      205350   -10          2  \n3     1626710    -9          1  \n4     2643002    -8          1  "
     },
     "execution_count": 29,
     "metadata": {},
     "output_type": "execute_result"
    }
   ],
   "source": [
    "# prepare vles for merging later\n",
    "vles = pandas.merge(read_data(\"vle\"), read_data(\"studentVle\"), on=['code_module', 'code_presentation', 'id_site'])\n",
    "vles.head()"
   ]
  },
  {
   "cell_type": "code",
   "execution_count": 30,
   "metadata": {},
   "outputs": [],
   "source": [
    "# group vle clicks per day\n",
    "grouped_vles_per_day = vles.groupby([\"code_module\", \"code_presentation\", \"id_student\", \"id_site\", \"date\", \"activity_type\"]).agg({\n",
    "    \"sum_click\": \"sum\"\n",
    "}).reset_index()"
   ]
  },
  {
   "cell_type": "code",
   "execution_count": 31,
   "metadata": {},
   "outputs": [
    {
     "data": {
      "text/html": "<div>\n<style scoped>\n    .dataframe tbody tr th:only-of-type {\n        vertical-align: middle;\n    }\n\n    .dataframe tbody tr th {\n        vertical-align: top;\n    }\n\n    .dataframe thead th {\n        text-align: right;\n    }\n</style>\n<table border=\"1\" class=\"dataframe\">\n  <thead>\n    <tr style=\"text-align: right;\">\n      <th></th>\n      <th>code_module</th>\n      <th>code_presentation</th>\n      <th>id_student</th>\n      <th>id_site</th>\n      <th>date</th>\n      <th>activity_type</th>\n      <th>sum_click</th>\n      <th>vles</th>\n    </tr>\n  </thead>\n  <tbody>\n    <tr>\n      <th>0</th>\n      <td>AAA</td>\n      <td>2013J</td>\n      <td>11391</td>\n      <td>546614</td>\n      <td>-5</td>\n      <td>homepage</td>\n      <td>7</td>\n      <td>[546614, -5, homepage, 7]</td>\n    </tr>\n    <tr>\n      <th>1</th>\n      <td>AAA</td>\n      <td>2013J</td>\n      <td>11391</td>\n      <td>546614</td>\n      <td>0</td>\n      <td>homepage</td>\n      <td>10</td>\n      <td>[546614, 0, homepage, 10]</td>\n    </tr>\n    <tr>\n      <th>2</th>\n      <td>AAA</td>\n      <td>2013J</td>\n      <td>11391</td>\n      <td>546614</td>\n      <td>1</td>\n      <td>homepage</td>\n      <td>9</td>\n      <td>[546614, 1, homepage, 9]</td>\n    </tr>\n    <tr>\n      <th>3</th>\n      <td>AAA</td>\n      <td>2013J</td>\n      <td>11391</td>\n      <td>546614</td>\n      <td>2</td>\n      <td>homepage</td>\n      <td>3</td>\n      <td>[546614, 2, homepage, 3]</td>\n    </tr>\n    <tr>\n      <th>4</th>\n      <td>AAA</td>\n      <td>2013J</td>\n      <td>11391</td>\n      <td>546614</td>\n      <td>6</td>\n      <td>homepage</td>\n      <td>1</td>\n      <td>[546614, 6, homepage, 1]</td>\n    </tr>\n  </tbody>\n</table>\n</div>",
      "text/plain": "  code_module code_presentation  id_student  id_site  date activity_type  \\\n0         AAA             2013J       11391   546614    -5      homepage   \n1         AAA             2013J       11391   546614     0      homepage   \n2         AAA             2013J       11391   546614     1      homepage   \n3         AAA             2013J       11391   546614     2      homepage   \n4         AAA             2013J       11391   546614     6      homepage   \n\n   sum_click                       vles  \n0          7  [546614, -5, homepage, 7]  \n1         10  [546614, 0, homepage, 10]  \n2          9   [546614, 1, homepage, 9]  \n3          3   [546614, 2, homepage, 3]  \n4          1   [546614, 6, homepage, 1]  "
     },
     "execution_count": 31,
     "metadata": {},
     "output_type": "execute_result"
    }
   ],
   "source": [
    "# combine vle data as a single column value\n",
    "grouped_vles_per_day[\"vles\"] = grouped_vles_per_day[[\"id_site\", \"date\", \"activity_type\", \"sum_click\"]].values.tolist()     \n",
    "grouped_vles_per_day.head()"
   ]
  },
  {
   "cell_type": "code",
   "execution_count": 32,
   "metadata": {},
   "outputs": [
    {
     "data": {
      "text/html": "<div>\n<style scoped>\n    .dataframe tbody tr th:only-of-type {\n        vertical-align: middle;\n    }\n\n    .dataframe tbody tr th {\n        vertical-align: top;\n    }\n\n    .dataframe thead th {\n        text-align: right;\n    }\n</style>\n<table border=\"1\" class=\"dataframe\">\n  <thead>\n    <tr style=\"text-align: right;\">\n      <th></th>\n      <th>code_module</th>\n      <th>code_presentation</th>\n      <th>id_student</th>\n      <th>vles</th>\n    </tr>\n  </thead>\n  <tbody>\n    <tr>\n      <th>0</th>\n      <td>AAA</td>\n      <td>2013J</td>\n      <td>11391</td>\n      <td>[[546614, -5, homepage, 7], [546614, 0, homepa...</td>\n    </tr>\n    <tr>\n      <th>1</th>\n      <td>AAA</td>\n      <td>2013J</td>\n      <td>28400</td>\n      <td>[[546614, -10, homepage, 11], [546614, -8, hom...</td>\n    </tr>\n    <tr>\n      <th>2</th>\n      <td>AAA</td>\n      <td>2013J</td>\n      <td>30268</td>\n      <td>[[546614, -10, homepage, 3], [546614, -9, home...</td>\n    </tr>\n    <tr>\n      <th>3</th>\n      <td>AAA</td>\n      <td>2013J</td>\n      <td>31604</td>\n      <td>[[546614, -10, homepage, 11], [546614, -9, hom...</td>\n    </tr>\n    <tr>\n      <th>4</th>\n      <td>AAA</td>\n      <td>2013J</td>\n      <td>32885</td>\n      <td>[[546614, -10, homepage, 13], [546614, -9, hom...</td>\n    </tr>\n  </tbody>\n</table>\n</div>",
      "text/plain": "  code_module code_presentation  id_student  \\\n0         AAA             2013J       11391   \n1         AAA             2013J       28400   \n2         AAA             2013J       30268   \n3         AAA             2013J       31604   \n4         AAA             2013J       32885   \n\n                                                vles  \n0  [[546614, -5, homepage, 7], [546614, 0, homepa...  \n1  [[546614, -10, homepage, 11], [546614, -8, hom...  \n2  [[546614, -10, homepage, 3], [546614, -9, home...  \n3  [[546614, -10, homepage, 11], [546614, -9, hom...  \n4  [[546614, -10, homepage, 13], [546614, -9, hom...  "
     },
     "execution_count": 32,
     "metadata": {},
     "output_type": "execute_result"
    }
   ],
   "source": [
    "# combine all seperate from rows to a single row with a list\n",
    "grouped_vles_per_student = grouped_vles_per_day.groupby(student_course_identifier, as_index=False).agg({\n",
    "    \"vles\": lambda x: list(x)\n",
    "})\n",
    "grouped_vles_per_student.head()"
   ]
  },
  {
   "cell_type": "code",
   "execution_count": 34,
   "metadata": {},
   "outputs": [
    {
     "data": {
      "text/plain": "code_module                                                                 AAA\ncode_presentation                                                         2013J\nid_student                                                                11391\nvles                          [[546614, -5, homepage, 7], [546614, 0, homepa...\ngender                                                                        M\nregion                                                      East Anglian Region\nhighest_education                                              HE Qualification\nimd_band                                                                90-100%\nage_band                                                                   55<=\nnum_of_prev_attempts                                                          0\nstudied_credits                                                             240\ndisability                                                                    N\nfinal_result                                                               Pass\ndate_registration                                                        -159.0\ndate_unregistration                                                         NaN\nmodule_presentation_length                                                  268\nName: 0, dtype: object"
     },
     "execution_count": 34,
     "metadata": {},
     "output_type": "execute_result"
    }
   ],
   "source": [
    "# merge studentinfo, studentRegistration and courses\n",
    "# with vles and studentvles\n",
    "students_merged_step_3 = pandas.merge(grouped_vles_per_student, students_merged_step_2, on=student_course_identifier)\n",
    "students_merged_step_3.loc[0]"
   ]
  }
 ],
 "metadata": {
  "language_info": {},
  "orig_nbformat": 3
 },
 "nbformat": 4,
 "nbformat_minor": 2
}