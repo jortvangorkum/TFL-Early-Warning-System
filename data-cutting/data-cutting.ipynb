{
 "cells": [
  {
   "cell_type": "code",
   "execution_count": 10,
   "metadata": {},
   "outputs": [
    {
     "data": {
      "text/plain": "assessment_1_score                                 78.000000\nassessment_2_score                                 85.000000\nassessment_3_score                                 80.000000\nassessment_4_score                                 85.000000\nassessment_5_score                                 82.000000\nassessment_6_score                                       NaN\nassessment_7_score                                       NaN\naverage_score                                      82.400000\ncourse_difficulty                                  68.432979\nmodule_presentation_length                        268.000000\nnum_of_prev_attempts                                0.000000\nstudied_credits                                   240.000000\nsum_clicks                                        934.000000\nvle_click_month_1                                 419.000000\nvle_click_month_2                                 110.000000\nvle_click_month_3                                  58.000000\nvle_click_month_4                                  41.000000\nvle_click_month_5                                  82.000000\nvle_click_month_6                                   3.000000\nvle_click_month_7                                  35.000000\ngender__F                                           0.000000\ngender__M                                           1.000000\nregion__East Anglian Region                         1.000000\nregion__East Midlands Region                        0.000000\nregion__Ireland                                     0.000000\nregion__London Region                               0.000000\nregion__North Region                                0.000000\nregion__North Western Region                        0.000000\nregion__Scotland                                    0.000000\nregion__South East Region                           0.000000\nregion__South Region                                0.000000\nregion__South West Region                           0.000000\nregion__Wales                                       0.000000\nregion__West Midlands Region                        0.000000\nregion__Yorkshire Region                            0.000000\nhighest_education__A Level or Equivalent            0.000000\nhighest_education__HE Qualification                 1.000000\nhighest_education__Lower Than A Level               0.000000\nhighest_education__No Formal quals                  0.000000\nhighest_education__Post Graduate Qualification      0.000000\nimd_band__0-10%                                     0.000000\nimd_band__10-20                                     0.000000\nimd_band__20-30%                                    0.000000\nimd_band__30-40%                                    0.000000\nimd_band__40-50%                                    0.000000\nimd_band__50-60%                                    0.000000\nimd_band__60-70%                                    0.000000\nimd_band__70-80%                                    0.000000\nimd_band__80-90%                                    0.000000\nimd_band__90-100%                                   1.000000\nimd_band__nan                                       0.000000\nage_band__0-35                                      0.000000\nage_band__35-55                                     0.000000\nage_band__55<=                                      1.000000\ndisability__N                                       1.000000\ndisability__Y                                       0.000000\nfinal_result__Distinction                           0.000000\nfinal_result__Fail                                  0.000000\nfinal_result__Pass                                  1.000000\nfinal_result__Withdrawn                             0.000000\nName: 0, dtype: float64"
     },
     "metadata": {},
     "output_type": "display_data"
    },
    {
     "data": {
      "text/plain": "assessment_1_score                                0.780000\nassessment_2_score                                0.850000\nassessment_3_score                                0.800000\nassessment_4_score                                0.850000\nassessment_5_score                                0.820000\nassessment_6_score                                     NaN\nassessment_7_score                                     NaN\naverage_score                                     0.824000\ncourse_difficulty                                 0.385933\nmodule_presentation_length                        0.971429\nnum_of_prev_attempts                              0.000000\nstudied_credits                                   0.350000\nsum_clicks                                        0.038653\nvle_click_month_1                                 0.052864\nvle_click_month_2                                 0.015579\nvle_click_month_3                                 0.012301\nvle_click_month_4                                 0.007773\nvle_click_month_5                                 0.015685\nvle_click_month_6                                 0.000651\nvle_click_month_7                                 0.009042\ngender__F                                         0.000000\ngender__M                                         1.000000\nregion__East Anglian Region                       1.000000\nregion__East Midlands Region                      0.000000\nregion__Ireland                                   0.000000\nregion__London Region                             0.000000\nregion__North Region                              0.000000\nregion__North Western Region                      0.000000\nregion__Scotland                                  0.000000\nregion__South East Region                         0.000000\nregion__South Region                              0.000000\nregion__South West Region                         0.000000\nregion__Wales                                     0.000000\nregion__West Midlands Region                      0.000000\nregion__Yorkshire Region                          0.000000\nhighest_education__A Level or Equivalent          0.000000\nhighest_education__HE Qualification               1.000000\nhighest_education__Lower Than A Level             0.000000\nhighest_education__No Formal quals                0.000000\nhighest_education__Post Graduate Qualification    0.000000\nimd_band__0-10%                                   0.000000\nimd_band__10-20                                   0.000000\nimd_band__20-30%                                  0.000000\nimd_band__30-40%                                  0.000000\nimd_band__40-50%                                  0.000000\nimd_band__50-60%                                  0.000000\nimd_band__60-70%                                  0.000000\nimd_band__70-80%                                  0.000000\nimd_band__80-90%                                  0.000000\nimd_band__90-100%                                 1.000000\nimd_band__nan                                     0.000000\nage_band__0-35                                    0.000000\nage_band__35-55                                   0.000000\nage_band__55<=                                    1.000000\ndisability__N                                     1.000000\ndisability__Y                                     0.000000\nfinal_result__Distinction                         0.000000\nfinal_result__Fail                                0.000000\nfinal_result__Pass                                1.000000\nfinal_result__Withdrawn                           0.000000\nName: 0, dtype: float64"
     },
     "metadata": {},
     "output_type": "display_data"
    }
   ],
   "source": [
    "import pandas\n",
    "import pickle\n",
    "import numpy as np\n",
    "pandas.set_option('display.max_columns', None)\n",
    "pandas.set_option('display.max_rows', None)\n",
    "\n",
    "data_before_normalization = pandas.read_pickle('../data/data-before-normalization-output.pickle')\n",
    "data_after_normalization = pandas.read_pickle('../data/data-after-normalization-output.pickle')\n",
    "# data_before_normalization.head()\n",
    "display(data_before_normalization.loc[0])\n",
    "display(data_after_normalization.loc[0])"
   ]
  },
  {
   "cell_type": "code",
   "execution_count": 11,
   "metadata": {},
   "outputs": [],
   "source": [
    "def cut_dataset(data_set, data_set_name):\n",
    "    data_7_out_7  = data_set.drop(['sum_clicks', 'average_score'], axis=1)\n",
    "    data_6_out_7 = data_7_out_7.drop(['vle_click_month_7', 'assessment_7_score'], axis=1)\n",
    "    data_5_out_7 = data_6_out_7.drop(['vle_click_month_6', 'assessment_6_score'], axis=1)\n",
    "    data_4_out_7 = data_5_out_7.drop(['vle_click_month_5', 'assessment_5_score'], axis=1)\n",
    "    data_3_out_7 = data_4_out_7.drop(['vle_click_month_4', 'assessment_4_score'], axis=1)\n",
    "    data_2_out_7 = data_3_out_7.drop(['vle_click_month_3', 'assessment_3_score'], axis=1)\n",
    "    data_1_out_7 = data_2_out_7.drop(['vle_click_month_2', 'assessment_2_score'], axis=1)\n",
    "\n",
    "    def save_files(data, name):\n",
    "        data.to_pickle(f'../data/splitted/data-{data_set_name}-{name}.pickle')\n",
    "        data.to_csv(f'../data/splitted/data-{data_set_name}-{name}.csv')\n",
    "\n",
    "    save_files(data_7_out_7, '7-out-of-7')\n",
    "    save_files(data_6_out_7, '6-out-of-7')\n",
    "    save_files(data_5_out_7, '5-out-of-7')\n",
    "    save_files(data_4_out_7, '4-out-of-7')\n",
    "    save_files(data_3_out_7, '3-out-of-7')\n",
    "    save_files(data_2_out_7, '2-out-of-7')\n",
    "    save_files(data_1_out_7, '1-out-of-7')\n",
    "\n",
    "cut_dataset(data_before_normalization, 'before-normalization')\n",
    "cut_dataset(data_after_normalization, 'after-normalization')"
   ]
  }
 ],
 "metadata": {
  "kernelspec": {
   "display_name": "Python 3.8.2 64-bit ('early-warning-system-nnLHG7cG': pipenv)",
   "name": "python382jvsc74a57bd0cff5a8f6dd3ed775c315eb40de64e3bf8a1f3cba953295923790192aa7678752"
  },
  "language_info": {
   "codemirror_mode": {
    "name": "ipython",
    "version": 3
   },
   "file_extension": ".py",
   "mimetype": "text/x-python",
   "name": "python",
   "nbconvert_exporter": "python",
   "pygments_lexer": "ipython3",
   "version": "3.8.2"
  },
  "orig_nbformat": 2
 },
 "nbformat": 4,
 "nbformat_minor": 2
}