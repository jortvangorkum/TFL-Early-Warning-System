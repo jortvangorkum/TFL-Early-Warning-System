{
 "cells": [
  {
   "cell_type": "code",
   "execution_count": 44,
   "metadata": {},
   "outputs": [
    {
     "data": {
      "text/html": "<div>\n<style scoped>\n    .dataframe tbody tr th:only-of-type {\n        vertical-align: middle;\n    }\n\n    .dataframe tbody tr th {\n        vertical-align: top;\n    }\n\n    .dataframe thead th {\n        text-align: right;\n    }\n</style>\n<table border=\"1\" class=\"dataframe\">\n  <thead>\n    <tr style=\"text-align: right;\">\n      <th></th>\n      <th>age_band</th>\n      <th>assessment_1_score</th>\n      <th>assessment_2_score</th>\n      <th>assessment_3_score</th>\n      <th>assessment_4_score</th>\n      <th>assessment_5_score</th>\n      <th>assessment_6_score</th>\n      <th>assessment_7_score</th>\n      <th>assessments_amount</th>\n      <th>average_score</th>\n      <th>code_module</th>\n      <th>code_presentation</th>\n      <th>course_difficulty</th>\n      <th>date_registration</th>\n      <th>date_unregistration</th>\n      <th>disability</th>\n      <th>final_result</th>\n      <th>gender</th>\n      <th>highest_education</th>\n      <th>id_student</th>\n      <th>imd_band</th>\n      <th>module_presentation_length</th>\n      <th>num_of_prev_attempts</th>\n      <th>region</th>\n      <th>studied_credits</th>\n      <th>sum_clicks</th>\n      <th>vle_click_month_1</th>\n      <th>vle_click_month_2</th>\n      <th>vle_click_month_3</th>\n      <th>vle_click_month_4</th>\n      <th>vle_click_month_5</th>\n      <th>vle_click_month_6</th>\n      <th>vle_click_month_7</th>\n    </tr>\n  </thead>\n  <tbody>\n    <tr>\n      <th>0</th>\n      <td>55&lt;=</td>\n      <td>78.0</td>\n      <td>85.0</td>\n      <td>80.0</td>\n      <td>85.0</td>\n      <td>82.0</td>\n      <td>NaN</td>\n      <td>NaN</td>\n      <td>5</td>\n      <td>82.4</td>\n      <td>AAA</td>\n      <td>2013J</td>\n      <td>68.432979</td>\n      <td>-159.0</td>\n      <td>NaN</td>\n      <td>N</td>\n      <td>Pass</td>\n      <td>M</td>\n      <td>HE Qualification</td>\n      <td>11391</td>\n      <td>90-100%</td>\n      <td>268</td>\n      <td>0</td>\n      <td>East Anglian Region</td>\n      <td>240</td>\n      <td>934</td>\n      <td>419</td>\n      <td>110</td>\n      <td>58</td>\n      <td>41</td>\n      <td>82</td>\n      <td>3</td>\n      <td>35</td>\n    </tr>\n    <tr>\n      <th>1</th>\n      <td>35-55</td>\n      <td>70.0</td>\n      <td>68.0</td>\n      <td>70.0</td>\n      <td>64.0</td>\n      <td>60.0</td>\n      <td>NaN</td>\n      <td>NaN</td>\n      <td>5</td>\n      <td>65.4</td>\n      <td>AAA</td>\n      <td>2013J</td>\n      <td>68.432979</td>\n      <td>-53.0</td>\n      <td>NaN</td>\n      <td>N</td>\n      <td>Pass</td>\n      <td>F</td>\n      <td>HE Qualification</td>\n      <td>28400</td>\n      <td>20-30%</td>\n      <td>268</td>\n      <td>0</td>\n      <td>Scotland</td>\n      <td>60</td>\n      <td>1435</td>\n      <td>618</td>\n      <td>51</td>\n      <td>148</td>\n      <td>79</td>\n      <td>111</td>\n      <td>114</td>\n      <td>208</td>\n    </tr>\n    <tr>\n      <th>2</th>\n      <td>35-55</td>\n      <td>72.0</td>\n      <td>71.0</td>\n      <td>74.0</td>\n      <td>88.0</td>\n      <td>75.0</td>\n      <td>NaN</td>\n      <td>NaN</td>\n      <td>5</td>\n      <td>76.3</td>\n      <td>AAA</td>\n      <td>2013J</td>\n      <td>68.432979</td>\n      <td>-52.0</td>\n      <td>NaN</td>\n      <td>N</td>\n      <td>Pass</td>\n      <td>F</td>\n      <td>A Level or Equivalent</td>\n      <td>31604</td>\n      <td>50-60%</td>\n      <td>268</td>\n      <td>0</td>\n      <td>South East Region</td>\n      <td>60</td>\n      <td>2158</td>\n      <td>503</td>\n      <td>301</td>\n      <td>184</td>\n      <td>269</td>\n      <td>202</td>\n      <td>257</td>\n      <td>149</td>\n    </tr>\n    <tr>\n      <th>3</th>\n      <td>0-35</td>\n      <td>69.0</td>\n      <td>30.0</td>\n      <td>63.0</td>\n      <td>35.0</td>\n      <td>75.0</td>\n      <td>NaN</td>\n      <td>NaN</td>\n      <td>5</td>\n      <td>55.0</td>\n      <td>AAA</td>\n      <td>2013J</td>\n      <td>68.432979</td>\n      <td>-176.0</td>\n      <td>NaN</td>\n      <td>N</td>\n      <td>Pass</td>\n      <td>F</td>\n      <td>Lower Than A Level</td>\n      <td>32885</td>\n      <td>50-60%</td>\n      <td>268</td>\n      <td>0</td>\n      <td>West Midlands Region</td>\n      <td>60</td>\n      <td>1034</td>\n      <td>567</td>\n      <td>35</td>\n      <td>81</td>\n      <td>64</td>\n      <td>78</td>\n      <td>13</td>\n      <td>75</td>\n    </tr>\n    <tr>\n      <th>4</th>\n      <td>35-55</td>\n      <td>79.0</td>\n      <td>69.0</td>\n      <td>74.0</td>\n      <td>50.0</td>\n      <td>68.0</td>\n      <td>NaN</td>\n      <td>NaN</td>\n      <td>5</td>\n      <td>66.9</td>\n      <td>AAA</td>\n      <td>2013J</td>\n      <td>68.432979</td>\n      <td>-110.0</td>\n      <td>NaN</td>\n      <td>N</td>\n      <td>Pass</td>\n      <td>M</td>\n      <td>A Level or Equivalent</td>\n      <td>38053</td>\n      <td>80-90%</td>\n      <td>268</td>\n      <td>0</td>\n      <td>Wales</td>\n      <td>60</td>\n      <td>2445</td>\n      <td>727</td>\n      <td>277</td>\n      <td>56</td>\n      <td>215</td>\n      <td>110</td>\n      <td>162</td>\n      <td>225</td>\n    </tr>\n  </tbody>\n</table>\n</div>",
      "text/plain": "  age_band  assessment_1_score  assessment_2_score  assessment_3_score  \\\n0     55<=                78.0                85.0                80.0   \n1    35-55                70.0                68.0                70.0   \n2    35-55                72.0                71.0                74.0   \n3     0-35                69.0                30.0                63.0   \n4    35-55                79.0                69.0                74.0   \n\n   assessment_4_score  assessment_5_score  assessment_6_score  \\\n0                85.0                82.0                 NaN   \n1                64.0                60.0                 NaN   \n2                88.0                75.0                 NaN   \n3                35.0                75.0                 NaN   \n4                50.0                68.0                 NaN   \n\n   assessment_7_score  assessments_amount  average_score code_module  \\\n0                 NaN                   5           82.4         AAA   \n1                 NaN                   5           65.4         AAA   \n2                 NaN                   5           76.3         AAA   \n3                 NaN                   5           55.0         AAA   \n4                 NaN                   5           66.9         AAA   \n\n  code_presentation  course_difficulty  date_registration  \\\n0             2013J          68.432979             -159.0   \n1             2013J          68.432979              -53.0   \n2             2013J          68.432979              -52.0   \n3             2013J          68.432979             -176.0   \n4             2013J          68.432979             -110.0   \n\n   date_unregistration disability final_result gender      highest_education  \\\n0                  NaN          N         Pass      M       HE Qualification   \n1                  NaN          N         Pass      F       HE Qualification   \n2                  NaN          N         Pass      F  A Level or Equivalent   \n3                  NaN          N         Pass      F     Lower Than A Level   \n4                  NaN          N         Pass      M  A Level or Equivalent   \n\n   id_student imd_band  module_presentation_length  num_of_prev_attempts  \\\n0       11391  90-100%                         268                     0   \n1       28400   20-30%                         268                     0   \n2       31604   50-60%                         268                     0   \n3       32885   50-60%                         268                     0   \n4       38053   80-90%                         268                     0   \n\n                 region  studied_credits  sum_clicks  vle_click_month_1  \\\n0   East Anglian Region              240         934                419   \n1              Scotland               60        1435                618   \n2     South East Region               60        2158                503   \n3  West Midlands Region               60        1034                567   \n4                 Wales               60        2445                727   \n\n   vle_click_month_2  vle_click_month_3  vle_click_month_4  vle_click_month_5  \\\n0                110                 58                 41                 82   \n1                 51                148                 79                111   \n2                301                184                269                202   \n3                 35                 81                 64                 78   \n4                277                 56                215                110   \n\n   vle_click_month_6  vle_click_month_7  \n0                  3                 35  \n1                114                208  \n2                257                149  \n3                 13                 75  \n4                162                225  "
     },
     "metadata": {},
     "output_type": "display_data"
    },
    {
     "data": {
      "text/plain": "age_band                                     55<=\nassessment_1_score                           78.0\nassessment_2_score                           85.0\nassessment_3_score                           80.0\nassessment_4_score                           85.0\nassessment_5_score                           82.0\nassessment_6_score                            NaN\nassessment_7_score                            NaN\nassessments_amount                              5\naverage_score                                82.4\ncode_module                                   AAA\ncode_presentation                           2013J\ncourse_difficulty                       68.432979\ndate_registration                          -159.0\ndate_unregistration                           NaN\ndisability                                      N\nfinal_result                                 Pass\ngender                                          M\nhighest_education                HE Qualification\nid_student                                  11391\nimd_band                                  90-100%\nmodule_presentation_length                    268\nnum_of_prev_attempts                            0\nregion                        East Anglian Region\nstudied_credits                               240\nsum_clicks                                    934\nvle_click_month_1                             419\nvle_click_month_2                             110\nvle_click_month_3                              58\nvle_click_month_4                              41\nvle_click_month_5                              82\nvle_click_month_6                               3\nvle_click_month_7                              35\nName: 0, dtype: object"
     },
     "metadata": {},
     "output_type": "display_data"
    }
   ],
   "source": [
    "import pandas\n",
    "from sklearn.preprocessing import MinMaxScaler, OneHotEncoder, OrdinalEncoder\n",
    "pandas.set_option('display.max_columns', None)\n",
    "pandas.set_option('display.max_rows', None)\n",
    "\n",
    "data_extension_output = pandas.read_pickle('../data/data-extension-output.pickle')\n",
    "display(data_extension_output.head())\n",
    "display(data_extension_output.loc[0])"
   ]
  },
  {
   "cell_type": "code",
   "execution_count": 45,
   "metadata": {},
   "outputs": [
    {
     "data": {
      "text/html": "<div>\n<style scoped>\n    .dataframe tbody tr th:only-of-type {\n        vertical-align: middle;\n    }\n\n    .dataframe tbody tr th {\n        vertical-align: top;\n    }\n\n    .dataframe thead th {\n        text-align: right;\n    }\n</style>\n<table border=\"1\" class=\"dataframe\">\n  <thead>\n    <tr style=\"text-align: right;\">\n      <th></th>\n      <th>age_band</th>\n      <th>assessment_1_score</th>\n      <th>assessment_2_score</th>\n      <th>assessment_3_score</th>\n      <th>assessment_4_score</th>\n      <th>assessment_5_score</th>\n      <th>assessment_6_score</th>\n      <th>assessment_7_score</th>\n      <th>average_score</th>\n      <th>course_difficulty</th>\n      <th>disability</th>\n      <th>final_result</th>\n      <th>gender</th>\n      <th>highest_education</th>\n      <th>imd_band</th>\n      <th>module_presentation_length</th>\n      <th>num_of_prev_attempts</th>\n      <th>region</th>\n      <th>studied_credits</th>\n      <th>sum_clicks</th>\n      <th>vle_click_month_1</th>\n      <th>vle_click_month_2</th>\n      <th>vle_click_month_3</th>\n      <th>vle_click_month_4</th>\n      <th>vle_click_month_5</th>\n      <th>vle_click_month_6</th>\n      <th>vle_click_month_7</th>\n    </tr>\n  </thead>\n  <tbody>\n    <tr>\n      <th>0</th>\n      <td>55&lt;=</td>\n      <td>78.0</td>\n      <td>85.0</td>\n      <td>80.0</td>\n      <td>85.0</td>\n      <td>82.0</td>\n      <td>NaN</td>\n      <td>NaN</td>\n      <td>82.4</td>\n      <td>68.432979</td>\n      <td>N</td>\n      <td>Pass</td>\n      <td>M</td>\n      <td>HE Qualification</td>\n      <td>90-100%</td>\n      <td>268</td>\n      <td>0</td>\n      <td>East Anglian Region</td>\n      <td>240</td>\n      <td>934</td>\n      <td>419</td>\n      <td>110</td>\n      <td>58</td>\n      <td>41</td>\n      <td>82</td>\n      <td>3</td>\n      <td>35</td>\n    </tr>\n    <tr>\n      <th>1</th>\n      <td>35-55</td>\n      <td>70.0</td>\n      <td>68.0</td>\n      <td>70.0</td>\n      <td>64.0</td>\n      <td>60.0</td>\n      <td>NaN</td>\n      <td>NaN</td>\n      <td>65.4</td>\n      <td>68.432979</td>\n      <td>N</td>\n      <td>Pass</td>\n      <td>F</td>\n      <td>HE Qualification</td>\n      <td>20-30%</td>\n      <td>268</td>\n      <td>0</td>\n      <td>Scotland</td>\n      <td>60</td>\n      <td>1435</td>\n      <td>618</td>\n      <td>51</td>\n      <td>148</td>\n      <td>79</td>\n      <td>111</td>\n      <td>114</td>\n      <td>208</td>\n    </tr>\n    <tr>\n      <th>2</th>\n      <td>35-55</td>\n      <td>72.0</td>\n      <td>71.0</td>\n      <td>74.0</td>\n      <td>88.0</td>\n      <td>75.0</td>\n      <td>NaN</td>\n      <td>NaN</td>\n      <td>76.3</td>\n      <td>68.432979</td>\n      <td>N</td>\n      <td>Pass</td>\n      <td>F</td>\n      <td>A Level or Equivalent</td>\n      <td>50-60%</td>\n      <td>268</td>\n      <td>0</td>\n      <td>South East Region</td>\n      <td>60</td>\n      <td>2158</td>\n      <td>503</td>\n      <td>301</td>\n      <td>184</td>\n      <td>269</td>\n      <td>202</td>\n      <td>257</td>\n      <td>149</td>\n    </tr>\n    <tr>\n      <th>3</th>\n      <td>0-35</td>\n      <td>69.0</td>\n      <td>30.0</td>\n      <td>63.0</td>\n      <td>35.0</td>\n      <td>75.0</td>\n      <td>NaN</td>\n      <td>NaN</td>\n      <td>55.0</td>\n      <td>68.432979</td>\n      <td>N</td>\n      <td>Pass</td>\n      <td>F</td>\n      <td>Lower Than A Level</td>\n      <td>50-60%</td>\n      <td>268</td>\n      <td>0</td>\n      <td>West Midlands Region</td>\n      <td>60</td>\n      <td>1034</td>\n      <td>567</td>\n      <td>35</td>\n      <td>81</td>\n      <td>64</td>\n      <td>78</td>\n      <td>13</td>\n      <td>75</td>\n    </tr>\n    <tr>\n      <th>4</th>\n      <td>35-55</td>\n      <td>79.0</td>\n      <td>69.0</td>\n      <td>74.0</td>\n      <td>50.0</td>\n      <td>68.0</td>\n      <td>NaN</td>\n      <td>NaN</td>\n      <td>66.9</td>\n      <td>68.432979</td>\n      <td>N</td>\n      <td>Pass</td>\n      <td>M</td>\n      <td>A Level or Equivalent</td>\n      <td>80-90%</td>\n      <td>268</td>\n      <td>0</td>\n      <td>Wales</td>\n      <td>60</td>\n      <td>2445</td>\n      <td>727</td>\n      <td>277</td>\n      <td>56</td>\n      <td>215</td>\n      <td>110</td>\n      <td>162</td>\n      <td>225</td>\n    </tr>\n  </tbody>\n</table>\n</div>",
      "text/plain": "  age_band  assessment_1_score  assessment_2_score  assessment_3_score  \\\n0     55<=                78.0                85.0                80.0   \n1    35-55                70.0                68.0                70.0   \n2    35-55                72.0                71.0                74.0   \n3     0-35                69.0                30.0                63.0   \n4    35-55                79.0                69.0                74.0   \n\n   assessment_4_score  assessment_5_score  assessment_6_score  \\\n0                85.0                82.0                 NaN   \n1                64.0                60.0                 NaN   \n2                88.0                75.0                 NaN   \n3                35.0                75.0                 NaN   \n4                50.0                68.0                 NaN   \n\n   assessment_7_score  average_score  course_difficulty disability  \\\n0                 NaN           82.4          68.432979          N   \n1                 NaN           65.4          68.432979          N   \n2                 NaN           76.3          68.432979          N   \n3                 NaN           55.0          68.432979          N   \n4                 NaN           66.9          68.432979          N   \n\n  final_result gender      highest_education imd_band  \\\n0         Pass      M       HE Qualification  90-100%   \n1         Pass      F       HE Qualification   20-30%   \n2         Pass      F  A Level or Equivalent   50-60%   \n3         Pass      F     Lower Than A Level   50-60%   \n4         Pass      M  A Level or Equivalent   80-90%   \n\n   module_presentation_length  num_of_prev_attempts                region  \\\n0                         268                     0   East Anglian Region   \n1                         268                     0              Scotland   \n2                         268                     0     South East Region   \n3                         268                     0  West Midlands Region   \n4                         268                     0                 Wales   \n\n   studied_credits  sum_clicks  vle_click_month_1  vle_click_month_2  \\\n0              240         934                419                110   \n1               60        1435                618                 51   \n2               60        2158                503                301   \n3               60        1034                567                 35   \n4               60        2445                727                277   \n\n   vle_click_month_3  vle_click_month_4  vle_click_month_5  vle_click_month_6  \\\n0                 58                 41                 82                  3   \n1                148                 79                111                114   \n2                184                269                202                257   \n3                 81                 64                 78                 13   \n4                 56                215                110                162   \n\n   vle_click_month_7  \n0                 35  \n1                208  \n2                149  \n3                 75  \n4                225  "
     },
     "metadata": {},
     "output_type": "display_data"
    },
    {
     "data": {
      "text/plain": "age_band                                     55<=\nassessment_1_score                           78.0\nassessment_2_score                           85.0\nassessment_3_score                           80.0\nassessment_4_score                           85.0\nassessment_5_score                           82.0\nassessment_6_score                            NaN\nassessment_7_score                            NaN\naverage_score                                82.4\ncourse_difficulty                       68.432979\ndisability                                      N\nfinal_result                                 Pass\ngender                                          M\nhighest_education                HE Qualification\nimd_band                                  90-100%\nmodule_presentation_length                    268\nnum_of_prev_attempts                            0\nregion                        East Anglian Region\nstudied_credits                               240\nsum_clicks                                    934\nvle_click_month_1                             419\nvle_click_month_2                             110\nvle_click_month_3                              58\nvle_click_month_4                              41\nvle_click_month_5                              82\nvle_click_month_6                               3\nvle_click_month_7                              35\nName: 0, dtype: object"
     },
     "metadata": {},
     "output_type": "display_data"
    }
   ],
   "source": [
    "data_extension_output_cleaned =  data_extension_output.drop([\n",
    "    'id_student', \n",
    "    'code_module', \n",
    "    'code_presentation', \n",
    "    'date_unregistration',\n",
    "    'date_registration',\n",
    "    'assessments_amount',\n",
    "], axis=1)\n",
    "display(data_extension_output_cleaned.head())\n",
    "display(data_extension_output_cleaned.loc[0])"
   ]
  },
  {
   "cell_type": "code",
   "execution_count": 46,
   "metadata": {},
   "outputs": [
    {
     "data": {
      "text/html": "<div>\n<style scoped>\n    .dataframe tbody tr th:only-of-type {\n        vertical-align: middle;\n    }\n\n    .dataframe tbody tr th {\n        vertical-align: top;\n    }\n\n    .dataframe thead th {\n        text-align: right;\n    }\n</style>\n<table border=\"1\" class=\"dataframe\">\n  <thead>\n    <tr style=\"text-align: right;\">\n      <th></th>\n      <th>age_band</th>\n      <th>assessment_1_score</th>\n      <th>assessment_2_score</th>\n      <th>assessment_3_score</th>\n      <th>assessment_4_score</th>\n      <th>assessment_5_score</th>\n      <th>assessment_6_score</th>\n      <th>assessment_7_score</th>\n      <th>average_score</th>\n      <th>course_difficulty</th>\n      <th>disability</th>\n      <th>final_result</th>\n      <th>gender</th>\n      <th>highest_education</th>\n      <th>imd_band</th>\n      <th>module_presentation_length</th>\n      <th>num_of_prev_attempts</th>\n      <th>region</th>\n      <th>studied_credits</th>\n      <th>sum_clicks</th>\n      <th>vle_click_month_1</th>\n      <th>vle_click_month_2</th>\n      <th>vle_click_month_3</th>\n      <th>vle_click_month_4</th>\n      <th>vle_click_month_5</th>\n      <th>vle_click_month_6</th>\n      <th>vle_click_month_7</th>\n    </tr>\n  </thead>\n  <tbody>\n    <tr>\n      <th>0</th>\n      <td>55&lt;=</td>\n      <td>78.0</td>\n      <td>85.0</td>\n      <td>80.0</td>\n      <td>85.0</td>\n      <td>82.0</td>\n      <td>NaN</td>\n      <td>NaN</td>\n      <td>82.4</td>\n      <td>68.432979</td>\n      <td>N</td>\n      <td>Pass</td>\n      <td>M</td>\n      <td>HE Qualification</td>\n      <td>90-100%</td>\n      <td>268</td>\n      <td>0</td>\n      <td>East Anglian Region</td>\n      <td>240</td>\n      <td>934</td>\n      <td>419</td>\n      <td>110</td>\n      <td>58</td>\n      <td>41</td>\n      <td>82</td>\n      <td>3</td>\n      <td>35</td>\n    </tr>\n    <tr>\n      <th>1</th>\n      <td>35-55</td>\n      <td>70.0</td>\n      <td>68.0</td>\n      <td>70.0</td>\n      <td>64.0</td>\n      <td>60.0</td>\n      <td>NaN</td>\n      <td>NaN</td>\n      <td>65.4</td>\n      <td>68.432979</td>\n      <td>N</td>\n      <td>Pass</td>\n      <td>F</td>\n      <td>HE Qualification</td>\n      <td>20-30%</td>\n      <td>268</td>\n      <td>0</td>\n      <td>Scotland</td>\n      <td>60</td>\n      <td>1435</td>\n      <td>618</td>\n      <td>51</td>\n      <td>148</td>\n      <td>79</td>\n      <td>111</td>\n      <td>114</td>\n      <td>208</td>\n    </tr>\n    <tr>\n      <th>2</th>\n      <td>35-55</td>\n      <td>72.0</td>\n      <td>71.0</td>\n      <td>74.0</td>\n      <td>88.0</td>\n      <td>75.0</td>\n      <td>NaN</td>\n      <td>NaN</td>\n      <td>76.3</td>\n      <td>68.432979</td>\n      <td>N</td>\n      <td>Pass</td>\n      <td>F</td>\n      <td>A Level or Equivalent</td>\n      <td>50-60%</td>\n      <td>268</td>\n      <td>0</td>\n      <td>South East Region</td>\n      <td>60</td>\n      <td>2158</td>\n      <td>503</td>\n      <td>301</td>\n      <td>184</td>\n      <td>269</td>\n      <td>202</td>\n      <td>257</td>\n      <td>149</td>\n    </tr>\n    <tr>\n      <th>3</th>\n      <td>0-35</td>\n      <td>69.0</td>\n      <td>30.0</td>\n      <td>63.0</td>\n      <td>35.0</td>\n      <td>75.0</td>\n      <td>NaN</td>\n      <td>NaN</td>\n      <td>55.0</td>\n      <td>68.432979</td>\n      <td>N</td>\n      <td>Pass</td>\n      <td>F</td>\n      <td>Lower Than A Level</td>\n      <td>50-60%</td>\n      <td>268</td>\n      <td>0</td>\n      <td>West Midlands Region</td>\n      <td>60</td>\n      <td>1034</td>\n      <td>567</td>\n      <td>35</td>\n      <td>81</td>\n      <td>64</td>\n      <td>78</td>\n      <td>13</td>\n      <td>75</td>\n    </tr>\n    <tr>\n      <th>4</th>\n      <td>35-55</td>\n      <td>79.0</td>\n      <td>69.0</td>\n      <td>74.0</td>\n      <td>50.0</td>\n      <td>68.0</td>\n      <td>NaN</td>\n      <td>NaN</td>\n      <td>66.9</td>\n      <td>68.432979</td>\n      <td>N</td>\n      <td>Pass</td>\n      <td>M</td>\n      <td>A Level or Equivalent</td>\n      <td>80-90%</td>\n      <td>268</td>\n      <td>0</td>\n      <td>Wales</td>\n      <td>60</td>\n      <td>2445</td>\n      <td>727</td>\n      <td>277</td>\n      <td>56</td>\n      <td>215</td>\n      <td>110</td>\n      <td>162</td>\n      <td>225</td>\n    </tr>\n  </tbody>\n</table>\n</div>",
      "text/plain": "  age_band  assessment_1_score  assessment_2_score  assessment_3_score  \\\n0     55<=                78.0                85.0                80.0   \n1    35-55                70.0                68.0                70.0   \n2    35-55                72.0                71.0                74.0   \n3     0-35                69.0                30.0                63.0   \n4    35-55                79.0                69.0                74.0   \n\n   assessment_4_score  assessment_5_score  assessment_6_score  \\\n0                85.0                82.0                 NaN   \n1                64.0                60.0                 NaN   \n2                88.0                75.0                 NaN   \n3                35.0                75.0                 NaN   \n4                50.0                68.0                 NaN   \n\n   assessment_7_score  average_score  course_difficulty disability  \\\n0                 NaN           82.4          68.432979          N   \n1                 NaN           65.4          68.432979          N   \n2                 NaN           76.3          68.432979          N   \n3                 NaN           55.0          68.432979          N   \n4                 NaN           66.9          68.432979          N   \n\n  final_result gender      highest_education imd_band  \\\n0         Pass      M       HE Qualification  90-100%   \n1         Pass      F       HE Qualification   20-30%   \n2         Pass      F  A Level or Equivalent   50-60%   \n3         Pass      F     Lower Than A Level   50-60%   \n4         Pass      M  A Level or Equivalent   80-90%   \n\n   module_presentation_length  num_of_prev_attempts                region  \\\n0                         268                     0   East Anglian Region   \n1                         268                     0              Scotland   \n2                         268                     0     South East Region   \n3                         268                     0  West Midlands Region   \n4                         268                     0                 Wales   \n\n   studied_credits  sum_clicks  vle_click_month_1  vle_click_month_2  \\\n0              240         934                419                110   \n1               60        1435                618                 51   \n2               60        2158                503                301   \n3               60        1034                567                 35   \n4               60        2445                727                277   \n\n   vle_click_month_3  vle_click_month_4  vle_click_month_5  vle_click_month_6  \\\n0                 58                 41                 82                  3   \n1                148                 79                111                114   \n2                184                269                202                257   \n3                 81                 64                 78                 13   \n4                 56                215                110                162   \n\n   vle_click_month_7  \n0                 35  \n1                208  \n2                149  \n3                 75  \n4                225  "
     },
     "execution_count": 46,
     "metadata": {},
     "output_type": "execute_result"
    }
   ],
   "source": [
    "data_extension_output_filtered = data_extension_output_cleaned[data_extension_output_cleaned['average_score'].notna()]\n",
    "data_extension_output_filtered.head()"
   ]
  },
  {
   "cell_type": "code",
   "execution_count": 47,
   "metadata": {},
   "outputs": [
    {
     "name": "stderr",
     "output_type": "stream",
     "text": [
      "/Users/vincevannoort/.local/share/virtualenvs/early-warning-system-nnLHG7cG/lib/python3.8/site-packages/pandas/core/frame.py:3678: SettingWithCopyWarning: \n",
      "A value is trying to be set on a copy of a slice from a DataFrame.\n",
      "Try using .loc[row_indexer,col_indexer] = value instead\n",
      "\n",
      "See the caveats in the documentation: https://pandas.pydata.org/pandas-docs/stable/user_guide/indexing.html#returning-a-view-versus-a-copy\n",
      "  self[col] = igetitem(value, i)\n"
     ]
    },
    {
     "data": {
      "text/plain": "assessment_1_score                                 78.000000\nassessment_2_score                                 85.000000\nassessment_3_score                                 80.000000\nassessment_4_score                                 85.000000\nassessment_5_score                                 82.000000\nassessment_6_score                                       NaN\nassessment_7_score                                       NaN\naverage_score                                      82.400000\ncourse_difficulty                                  68.432979\nmodule_presentation_length                        268.000000\nnum_of_prev_attempts                                0.000000\nstudied_credits                                   240.000000\nsum_clicks                                        934.000000\nvle_click_month_1                                 419.000000\nvle_click_month_2                                 110.000000\nvle_click_month_3                                  58.000000\nvle_click_month_4                                  41.000000\nvle_click_month_5                                  82.000000\nvle_click_month_6                                   3.000000\nvle_click_month_7                                  35.000000\ngender__F                                           0.000000\ngender__M                                           1.000000\nregion__East Anglian Region                         1.000000\nregion__East Midlands Region                        0.000000\nregion__Ireland                                     0.000000\nregion__London Region                               0.000000\nregion__North Region                                0.000000\nregion__North Western Region                        0.000000\nregion__Scotland                                    0.000000\nregion__South East Region                           0.000000\nregion__South Region                                0.000000\nregion__South West Region                           0.000000\nregion__Wales                                       0.000000\nregion__West Midlands Region                        0.000000\nregion__Yorkshire Region                            0.000000\nhighest_education__A Level or Equivalent            0.000000\nhighest_education__HE Qualification                 1.000000\nhighest_education__Lower Than A Level               0.000000\nhighest_education__No Formal quals                  0.000000\nhighest_education__Post Graduate Qualification      0.000000\nimd_band__0-10%                                     0.000000\nimd_band__10-20                                     0.000000\nimd_band__20-30%                                    0.000000\nimd_band__30-40%                                    0.000000\nimd_band__40-50%                                    0.000000\nimd_band__50-60%                                    0.000000\nimd_band__60-70%                                    0.000000\nimd_band__70-80%                                    0.000000\nimd_band__80-90%                                    0.000000\nimd_band__90-100%                                   1.000000\nimd_band__nan                                       0.000000\nage_band__0-35                                      0.000000\nage_band__35-55                                     0.000000\nage_band__55<=                                      1.000000\ndisability__N                                       1.000000\ndisability__Y                                       0.000000\nfinal_result__Distinction                           0.000000\nfinal_result__Fail                                  0.000000\nfinal_result__Pass                                  1.000000\nfinal_result__Withdrawn                             0.000000\nName: 0, dtype: float64"
     },
     "execution_count": 47,
     "metadata": {},
     "output_type": "execute_result"
    }
   ],
   "source": [
    "one_hot_encoder = OneHotEncoder(handle_unknown='ignore')\n",
    "\n",
    "def normalize_categorical_column(data_frame: pandas.DataFrame, column_name: str) -> pandas.DataFrame:\n",
    "    one_hot_encoder_trained = one_hot_encoder.fit(data_frame[column_name].values.reshape(-1, 1))\n",
    "    data_column_normalized = one_hot_encoder_trained.transform(data_frame[column_name].values.reshape(-1, 1))\n",
    "    categories = [f'{column_name}__{category}' for category in one_hot_encoder_trained.categories_[0]]\n",
    "    # print(categories)\n",
    "    # print(len(one_hot_encoder_trained.categories_))\n",
    "    # print(len(data_column_normalized.toarray()[0]))\n",
    "    data_frame[categories] = data_column_normalized.toarray()\n",
    "    data_frame = data_frame.drop(column_name, axis=1)\n",
    "    return data_frame\n",
    "\n",
    "data_extension_normalized = normalize_categorical_column(data_extension_output_filtered, 'gender')\n",
    "data_extension_normalized = normalize_categorical_column(data_extension_normalized, 'region')\n",
    "data_extension_normalized = normalize_categorical_column(data_extension_normalized, 'highest_education')\n",
    "data_extension_normalized = normalize_categorical_column(data_extension_normalized, 'imd_band')\n",
    "data_extension_normalized = normalize_categorical_column(data_extension_normalized, 'age_band')\n",
    "data_extension_normalized = normalize_categorical_column(data_extension_normalized, 'disability')\n",
    "data_extension_normalized = normalize_categorical_column(data_extension_normalized, 'final_result')\n",
    "data_extension_normalized.loc[0]"
   ]
  },
  {
   "cell_type": "code",
   "execution_count": 48,
   "metadata": {},
   "outputs": [],
   "source": [
    "# save before normalizing numeric values\n",
    "data_extension_normalized.to_pickle(\"../data/data-before-normalization-output.pickle\")\n",
    "data_extension_normalized.to_csv(\"../data/data-before-normalization-output.csv\")"
   ]
  },
  {
   "cell_type": "code",
   "execution_count": 49,
   "metadata": {},
   "outputs": [
    {
     "data": {
      "text/plain": "assessment_1_score                                0.780000\nassessment_2_score                                0.850000\nassessment_3_score                                0.800000\nassessment_4_score                                0.850000\nassessment_5_score                                0.820000\nassessment_6_score                                     NaN\nassessment_7_score                                     NaN\naverage_score                                     0.824000\ncourse_difficulty                                 0.385933\nmodule_presentation_length                        0.971429\nnum_of_prev_attempts                              0.000000\nstudied_credits                                   0.350000\nsum_clicks                                        0.038653\nvle_click_month_1                                 0.052864\nvle_click_month_2                                 0.015579\nvle_click_month_3                                 0.012301\nvle_click_month_4                                 0.007773\nvle_click_month_5                                 0.015685\nvle_click_month_6                                 0.000651\nvle_click_month_7                                 0.009042\ngender__F                                         0.000000\ngender__M                                         1.000000\nregion__East Anglian Region                       1.000000\nregion__East Midlands Region                      0.000000\nregion__Ireland                                   0.000000\nregion__London Region                             0.000000\nregion__North Region                              0.000000\nregion__North Western Region                      0.000000\nregion__Scotland                                  0.000000\nregion__South East Region                         0.000000\nregion__South Region                              0.000000\nregion__South West Region                         0.000000\nregion__Wales                                     0.000000\nregion__West Midlands Region                      0.000000\nregion__Yorkshire Region                          0.000000\nhighest_education__A Level or Equivalent          0.000000\nhighest_education__HE Qualification               1.000000\nhighest_education__Lower Than A Level             0.000000\nhighest_education__No Formal quals                0.000000\nhighest_education__Post Graduate Qualification    0.000000\nimd_band__0-10%                                   0.000000\nimd_band__10-20                                   0.000000\nimd_band__20-30%                                  0.000000\nimd_band__30-40%                                  0.000000\nimd_band__40-50%                                  0.000000\nimd_band__50-60%                                  0.000000\nimd_band__60-70%                                  0.000000\nimd_band__70-80%                                  0.000000\nimd_band__80-90%                                  0.000000\nimd_band__90-100%                                 1.000000\nimd_band__nan                                     0.000000\nage_band__0-35                                    0.000000\nage_band__35-55                                   0.000000\nage_band__55<=                                    1.000000\ndisability__N                                     1.000000\ndisability__Y                                     0.000000\nfinal_result__Distinction                         0.000000\nfinal_result__Fail                                0.000000\nfinal_result__Pass                                1.000000\nfinal_result__Withdrawn                           0.000000\nName: 0, dtype: float64"
     },
     "execution_count": 49,
     "metadata": {},
     "output_type": "execute_result"
    }
   ],
   "source": [
    "\n",
    "min_max_scaler = MinMaxScaler()\n",
    "\n",
    "def normalize_number_column(data_frame: pandas.DataFrame, column_name: str) -> pandas.DataFrame:\n",
    "    data_column_normalized = min_max_scaler.fit_transform(data_frame[column_name].values.reshape(-1, 1))\n",
    "    data_frame[column_name] = data_column_normalized\n",
    "    return data_frame\n",
    "\n",
    "data_extension_normalized = normalize_number_column(data_extension_normalized, 'average_score')\n",
    "data_extension_normalized = normalize_number_column(data_extension_normalized, 'sum_clicks')\n",
    "data_extension_normalized = normalize_number_column(data_extension_normalized, 'module_presentation_length')\n",
    "data_extension_normalized = normalize_number_column(data_extension_normalized, 'studied_credits')\n",
    "data_extension_normalized = normalize_number_column(data_extension_normalized, 'num_of_prev_attempts')\n",
    "data_extension_normalized = normalize_number_column(data_extension_normalized, 'vle_click_month_1')\n",
    "data_extension_normalized = normalize_number_column(data_extension_normalized, 'vle_click_month_2')\n",
    "data_extension_normalized = normalize_number_column(data_extension_normalized, 'vle_click_month_3')\n",
    "data_extension_normalized = normalize_number_column(data_extension_normalized, 'vle_click_month_4')\n",
    "data_extension_normalized = normalize_number_column(data_extension_normalized, 'vle_click_month_5')\n",
    "data_extension_normalized = normalize_number_column(data_extension_normalized, 'vle_click_month_6')\n",
    "data_extension_normalized = normalize_number_column(data_extension_normalized, 'vle_click_month_7')\n",
    "data_extension_normalized = normalize_number_column(data_extension_normalized, 'assessment_1_score')\n",
    "data_extension_normalized = normalize_number_column(data_extension_normalized, 'assessment_2_score')\n",
    "data_extension_normalized = normalize_number_column(data_extension_normalized, 'assessment_3_score')\n",
    "data_extension_normalized = normalize_number_column(data_extension_normalized, 'assessment_4_score')\n",
    "data_extension_normalized = normalize_number_column(data_extension_normalized, 'assessment_5_score')\n",
    "data_extension_normalized = normalize_number_column(data_extension_normalized, 'assessment_6_score')\n",
    "data_extension_normalized = normalize_number_column(data_extension_normalized, 'assessment_7_score')\n",
    "data_extension_normalized = normalize_number_column(data_extension_normalized, 'course_difficulty')\n",
    "\n",
    "data_extension_normalized.loc[0]\n"
   ]
  },
  {
   "cell_type": "code",
   "execution_count": 50,
   "metadata": {},
   "outputs": [],
   "source": [
    "# save after normalizing numeric values\n",
    "data_extension_normalized.to_pickle(\"../data/data-after-normalization-output.pickle\")\n",
    "data_extension_normalized.to_csv(\"../data/data-after-normalization-output.csv\")"
   ]
  },
  {
   "cell_type": "code",
   "execution_count": null,
   "metadata": {},
   "outputs": [],
   "source": []
  }
 ],
 "metadata": {
  "kernelspec": {
   "display_name": "Python 3.8.2 64-bit ('early-warning-system-nnLHG7cG': pipenv)",
   "name": "python382jvsc74a57bd0cff5a8f6dd3ed775c315eb40de64e3bf8a1f3cba953295923790192aa7678752"
  },
  "language_info": {
   "codemirror_mode": {
    "name": "ipython",
    "version": 3
   },
   "file_extension": ".py",
   "mimetype": "text/x-python",
   "name": "python",
   "nbconvert_exporter": "python",
   "pygments_lexer": "ipython3",
   "version": "3.8.2"
  },
  "orig_nbformat": 2
 },
 "nbformat": 4,
 "nbformat_minor": 2
}