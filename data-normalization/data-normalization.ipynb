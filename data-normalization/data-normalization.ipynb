{
 "cells": [
  {
   "cell_type": "code",
   "execution_count": 105,
   "metadata": {},
   "outputs": [
    {
     "data": {
      "text/html": "<div>\n<style scoped>\n    .dataframe tbody tr th:only-of-type {\n        vertical-align: middle;\n    }\n\n    .dataframe tbody tr th {\n        vertical-align: top;\n    }\n\n    .dataframe thead th {\n        text-align: right;\n    }\n</style>\n<table border=\"1\" class=\"dataframe\">\n  <thead>\n    <tr style=\"text-align: right;\">\n      <th></th>\n      <th>code_module</th>\n      <th>code_presentation</th>\n      <th>id_student</th>\n      <th>gender</th>\n      <th>region</th>\n      <th>highest_education</th>\n      <th>imd_band</th>\n      <th>age_band</th>\n      <th>num_of_prev_attempts</th>\n      <th>studied_credits</th>\n      <th>disability</th>\n      <th>final_result</th>\n      <th>date_registration</th>\n      <th>date_unregistration</th>\n      <th>module_presentation_length</th>\n      <th>average_score</th>\n      <th>sum_clicks</th>\n    </tr>\n  </thead>\n  <tbody>\n    <tr>\n      <th>0</th>\n      <td>AAA</td>\n      <td>2013J</td>\n      <td>11391</td>\n      <td>M</td>\n      <td>East Anglian Region</td>\n      <td>HE Qualification</td>\n      <td>90-100%</td>\n      <td>55&lt;=</td>\n      <td>0</td>\n      <td>240</td>\n      <td>N</td>\n      <td>Pass</td>\n      <td>-159.0</td>\n      <td>NaN</td>\n      <td>268</td>\n      <td>82.4</td>\n      <td>934</td>\n    </tr>\n    <tr>\n      <th>1</th>\n      <td>AAA</td>\n      <td>2013J</td>\n      <td>28400</td>\n      <td>F</td>\n      <td>Scotland</td>\n      <td>HE Qualification</td>\n      <td>20-30%</td>\n      <td>35-55</td>\n      <td>0</td>\n      <td>60</td>\n      <td>N</td>\n      <td>Pass</td>\n      <td>-53.0</td>\n      <td>NaN</td>\n      <td>268</td>\n      <td>65.4</td>\n      <td>1435</td>\n    </tr>\n    <tr>\n      <th>2</th>\n      <td>AAA</td>\n      <td>2013J</td>\n      <td>31604</td>\n      <td>F</td>\n      <td>South East Region</td>\n      <td>A Level or Equivalent</td>\n      <td>50-60%</td>\n      <td>35-55</td>\n      <td>0</td>\n      <td>60</td>\n      <td>N</td>\n      <td>Pass</td>\n      <td>-52.0</td>\n      <td>NaN</td>\n      <td>268</td>\n      <td>76.3</td>\n      <td>2158</td>\n    </tr>\n    <tr>\n      <th>3</th>\n      <td>AAA</td>\n      <td>2013J</td>\n      <td>32885</td>\n      <td>F</td>\n      <td>West Midlands Region</td>\n      <td>Lower Than A Level</td>\n      <td>50-60%</td>\n      <td>0-35</td>\n      <td>0</td>\n      <td>60</td>\n      <td>N</td>\n      <td>Pass</td>\n      <td>-176.0</td>\n      <td>NaN</td>\n      <td>268</td>\n      <td>55.0</td>\n      <td>1034</td>\n    </tr>\n    <tr>\n      <th>4</th>\n      <td>AAA</td>\n      <td>2013J</td>\n      <td>38053</td>\n      <td>M</td>\n      <td>Wales</td>\n      <td>A Level or Equivalent</td>\n      <td>80-90%</td>\n      <td>35-55</td>\n      <td>0</td>\n      <td>60</td>\n      <td>N</td>\n      <td>Pass</td>\n      <td>-110.0</td>\n      <td>NaN</td>\n      <td>268</td>\n      <td>66.9</td>\n      <td>2445</td>\n    </tr>\n  </tbody>\n</table>\n</div>",
      "text/plain": "  code_module code_presentation  id_student gender                region  \\\n0         AAA             2013J       11391      M   East Anglian Region   \n1         AAA             2013J       28400      F              Scotland   \n2         AAA             2013J       31604      F     South East Region   \n3         AAA             2013J       32885      F  West Midlands Region   \n4         AAA             2013J       38053      M                 Wales   \n\n       highest_education imd_band age_band  num_of_prev_attempts  \\\n0       HE Qualification  90-100%     55<=                     0   \n1       HE Qualification   20-30%    35-55                     0   \n2  A Level or Equivalent   50-60%    35-55                     0   \n3     Lower Than A Level   50-60%     0-35                     0   \n4  A Level or Equivalent   80-90%    35-55                     0   \n\n   studied_credits disability final_result  date_registration  \\\n0              240          N         Pass             -159.0   \n1               60          N         Pass              -53.0   \n2               60          N         Pass              -52.0   \n3               60          N         Pass             -176.0   \n4               60          N         Pass             -110.0   \n\n   date_unregistration  module_presentation_length  average_score  sum_clicks  \n0                  NaN                         268           82.4         934  \n1                  NaN                         268           65.4        1435  \n2                  NaN                         268           76.3        2158  \n3                  NaN                         268           55.0        1034  \n4                  NaN                         268           66.9        2445  "
     },
     "execution_count": 105,
     "metadata": {},
     "output_type": "execute_result"
    }
   ],
   "source": [
    "import pandas\n",
    "\n",
    "data_extension_output = pandas.read_pickle('../data/data-extension-output.pickle')\n",
    "data_extension_output.head()"
   ]
  },
  {
   "cell_type": "code",
   "execution_count": 106,
   "metadata": {},
   "outputs": [],
   "source": [
    "data_extension_output_cleaned =  data_extension_output.drop(['id_student', 'date_unregistration'], axis=1)"
   ]
  },
  {
   "cell_type": "code",
   "execution_count": 107,
   "metadata": {},
   "outputs": [
    {
     "data": {
      "text/plain": "num_of_prev_attempts                              0.000000\nstudied_credits                                   0.350000\ndate_registration                                 0.349425\nmodule_presentation_length                        0.971429\naverage_score                                     0.824000\nsum_clicks                                        0.038653\ncode_presentation__2013B                          0.000000\ncode_presentation__2013J                          1.000000\ncode_presentation__2014B                          0.000000\ncode_presentation__2014J                          0.000000\ncode_module__AAA                                  1.000000\ncode_module__BBB                                  0.000000\ncode_module__CCC                                  0.000000\ncode_module__DDD                                  0.000000\ncode_module__EEE                                  0.000000\ncode_module__FFF                                  0.000000\ncode_module__GGG                                  0.000000\ngender__F                                         0.000000\ngender__M                                         1.000000\nregion__East Anglian Region                       1.000000\nregion__East Midlands Region                      0.000000\nregion__Ireland                                   0.000000\nregion__London Region                             0.000000\nregion__North Region                              0.000000\nregion__North Western Region                      0.000000\nregion__Scotland                                  0.000000\nregion__South East Region                         0.000000\nregion__South Region                              0.000000\nregion__South West Region                         0.000000\nregion__Wales                                     0.000000\nregion__West Midlands Region                      0.000000\nregion__Yorkshire Region                          0.000000\nhighest_education__A Level or Equivalent          0.000000\nhighest_education__HE Qualification               1.000000\nhighest_education__Lower Than A Level             0.000000\nhighest_education__No Formal quals                0.000000\nhighest_education__Post Graduate Qualification    0.000000\nimd_band__0-10%                                   0.000000\nimd_band__10-20                                   0.000000\nimd_band__20-30%                                  0.000000\nimd_band__30-40%                                  0.000000\nimd_band__40-50%                                  0.000000\nimd_band__50-60%                                  0.000000\nimd_band__60-70%                                  0.000000\nimd_band__70-80%                                  0.000000\nimd_band__80-90%                                  0.000000\nimd_band__90-100%                                 1.000000\nimd_band__nan                                     0.000000\nage_band__0-35                                    0.000000\nage_band__35-55                                   0.000000\nage_band__55<=                                    1.000000\ndisability__N                                     1.000000\ndisability__Y                                     0.000000\nfinal_result__Distinction                         0.000000\nfinal_result__Fail                                0.000000\nfinal_result__Pass                                1.000000\nfinal_result__Withdrawn                           0.000000\nName: 0, dtype: float64"
     },
     "execution_count": 107,
     "metadata": {},
     "output_type": "execute_result"
    }
   ],
   "source": [
    "from sklearn.preprocessing import MinMaxScaler, OneHotEncoder, OrdinalEncoder\n",
    "\n",
    "\n",
    "min_max_scaler = MinMaxScaler()\n",
    "\n",
    "def normalize_number_column(data_frame: pandas.DataFrame, column_name: str) -> pandas.DataFrame:\n",
    "    data_column_normalized = min_max_scaler.fit_transform(data_frame[column_name].values.reshape(-1, 1))\n",
    "    data_frame[column_name] = data_column_normalized\n",
    "    return data_frame\n",
    "\n",
    "data_extension_normalized = normalize_number_column(data_extension_output_cleaned, 'average_score')\n",
    "data_extension_normalized = normalize_number_column(data_extension_normalized, 'sum_clicks')\n",
    "data_extension_normalized = normalize_number_column(data_extension_normalized, 'module_presentation_length')\n",
    "data_extension_normalized = normalize_number_column(data_extension_normalized, 'date_registration')\n",
    "data_extension_normalized = normalize_number_column(data_extension_normalized, 'studied_credits')\n",
    "data_extension_normalized = normalize_number_column(data_extension_normalized, 'num_of_prev_attempts')\n",
    "\n",
    "\n",
    "one_hot_encoder = OneHotEncoder(handle_unknown='ignore')\n",
    "\n",
    "def normalize_categorical_column(data_frame: pandas.DataFrame, column_name: str) -> pandas.DataFrame:\n",
    "    one_hot_encoder_trained = one_hot_encoder.fit(data_frame[column_name].values.reshape(-1, 1))\n",
    "    data_column_normalized = one_hot_encoder_trained.transform(data_frame[column_name].values.reshape(-1, 1))\n",
    "    categories = [f'{column_name}__{category}' for category in one_hot_encoder_trained.categories_[0]]\n",
    "    # print(categories)\n",
    "    # print(len(one_hot_encoder_trained.categories_))\n",
    "    # print(len(data_column_normalized.toarray()[0]))\n",
    "    data_frame[categories] = data_column_normalized.toarray()\n",
    "    data_frame = data_frame.drop(column_name, axis=1)\n",
    "    return data_frame\n",
    "\n",
    "data_extension_normalized = normalize_categorical_column(data_extension_normalized, 'code_presentation')\n",
    "data_extension_normalized = normalize_categorical_column(data_extension_normalized, 'code_module')\n",
    "data_extension_normalized = normalize_categorical_column(data_extension_normalized, 'gender')\n",
    "data_extension_normalized = normalize_categorical_column(data_extension_normalized, 'region')\n",
    "data_extension_normalized = normalize_categorical_column(data_extension_normalized, 'highest_education')\n",
    "data_extension_normalized = normalize_categorical_column(data_extension_normalized, 'imd_band')\n",
    "data_extension_normalized = normalize_categorical_column(data_extension_normalized, 'age_band')\n",
    "data_extension_normalized = normalize_categorical_column(data_extension_normalized, 'disability')\n",
    "data_extension_normalized = normalize_categorical_column(data_extension_normalized, 'final_result')\n",
    "\n",
    "data_extension_normalized.loc[0]\n"
   ]
  },
  {
   "cell_type": "code",
   "execution_count": 108,
   "metadata": {},
   "outputs": [],
   "source": [
    "data_extension_normalized.to_pickle(\"../data/data-normalization-output.pickle\")"
   ]
  },
  {
   "cell_type": "code",
   "execution_count": null,
   "metadata": {},
   "outputs": [],
   "source": []
  }
 ],
 "metadata": {
  "kernelspec": {
   "display_name": "Python 3.8.2 64-bit ('early-warning-system-nnLHG7cG': pipenv)",
   "name": "python382jvsc74a57bd0cff5a8f6dd3ed775c315eb40de64e3bf8a1f3cba953295923790192aa7678752"
  },
  "language_info": {
   "codemirror_mode": {
    "name": "ipython",
    "version": 3
   },
   "file_extension": ".py",
   "mimetype": "text/x-python",
   "name": "python",
   "nbconvert_exporter": "python",
   "pygments_lexer": "ipython3",
   "version": "3.8.2"
  },
  "orig_nbformat": 2
 },
 "nbformat": 4,
 "nbformat_minor": 2
}