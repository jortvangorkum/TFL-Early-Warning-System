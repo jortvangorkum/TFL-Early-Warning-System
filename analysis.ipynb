{
 "cells": [
  {
   "cell_type": "code",
   "execution_count": 12,
   "source": [
    "import pandas\n",
    "\n",
    "def read_data(file_name):\n",
    "    csv_file = pandas.read_csv(f'./data/{file_name}.csv')\n",
    "    print('Head')\n",
    "    print(csv_file.head())\n",
    "    print()\n",
    "    print('Statistics')\n",
    "    print(csv_file.describe())\n",
    "    return csv_file"
   ],
   "outputs": [],
   "metadata": {}
  },
  {
   "cell_type": "markdown",
   "source": [
    "# Data Model\n",
    "todo: show image of data model\n",
    "<!-- ![title](attachment:images/data_model.png) -->\n",
    "<!-- <img src=\"images/data_model.png\"> -->"
   ],
   "metadata": {}
  },
  {
   "cell_type": "markdown",
   "source": [
    "\\pagebreak\n",
    "## Student registrations\n",
    "* code_module – an identification code for a module.\n",
    "* code_presentation - the identification code of the presentation.\n",
    "* id_student – a unique identification number for the student.\n",
    "* date_registration – the date of student’s registration on the module presentation, this is the number of days measured relative to the start of the module-presentation (e.g. the negative value -30 means that the student registered to module presentation 30 days before it started).\n",
    "* date_unregistration – date of student unregistration from the module presentation, this is the number of days measured relative to the start of the module-presentation. Students, who completed the course have this field empty. Students who unregistered have Withdrawal as the value of the final_result column in the studentInfo.csv file."
   ],
   "metadata": {}
  },
  {
   "cell_type": "code",
   "execution_count": 13,
   "source": [
    "studentRegistration = read_data(\"studentRegistration\")"
   ],
   "outputs": [
    {
     "output_type": "stream",
     "name": "stdout",
     "text": [
      "Head\n",
      "  code_module code_presentation  id_student  date_registration  \\\n",
      "0         AAA             2013J       11391             -159.0   \n",
      "1         AAA             2013J       28400              -53.0   \n",
      "2         AAA             2013J       30268              -92.0   \n",
      "3         AAA             2013J       31604              -52.0   \n",
      "4         AAA             2013J       32885             -176.0   \n",
      "\n",
      "   date_unregistration  \n",
      "0                  NaN  \n",
      "1                  NaN  \n",
      "2                 12.0  \n",
      "3                  NaN  \n",
      "4                  NaN  \n",
      "\n",
      "Statistics\n",
      "         id_student  date_registration  date_unregistration\n",
      "count  3.259300e+04       32548.000000         10072.000000\n",
      "mean   7.066877e+05         -69.411300            49.757645\n",
      "std    5.491673e+05          49.260522            82.460890\n",
      "min    3.733000e+03        -322.000000          -365.000000\n",
      "25%    5.085730e+05        -100.000000            -2.000000\n",
      "50%    5.903100e+05         -57.000000            27.000000\n",
      "75%    6.444530e+05         -29.000000           109.000000\n",
      "max    2.716795e+06         167.000000           444.000000\n"
     ]
    }
   ],
   "metadata": {}
  },
  {
   "cell_type": "markdown",
   "source": [
    "\\pagebreak\n",
    "## Assessments\n",
    "\n",
    "* code_module – identification code of the module, to which the assessment belongs.\n",
    "* code_presentation - identification code of the presentation, to which the assessment belongs.\n",
    "* id_assessment – identification number of the assessment.\n",
    "* assessment_type – type of assessment. Three types of assessments exist: Tutor Marked Assessment (TMA), Computer Marked Assessment (CMA) and Final Exam (Exam).\n",
    "* date – information about the final submission date of the assessment calculated as the number of days since the start of the module-presentation. The starting date of the presentation has number 0 (zero).\n",
    "* weight - weight of the assessment in %. Typically, Exams are treated separately and have the weight 100%; the sum of all other assessments is 100%.\n"
   ],
   "metadata": {}
  },
  {
   "cell_type": "code",
   "execution_count": 14,
   "source": [
    "assessments = read_data(\"assessments\")\n"
   ],
   "outputs": [
    {
     "output_type": "stream",
     "name": "stdout",
     "text": [
      "Head\n",
      "  code_module code_presentation  id_assessment assessment_type   date  weight\n",
      "0         AAA             2013J           1752             TMA   19.0    10.0\n",
      "1         AAA             2013J           1753             TMA   54.0    20.0\n",
      "2         AAA             2013J           1754             TMA  117.0    20.0\n",
      "3         AAA             2013J           1755             TMA  166.0    20.0\n",
      "4         AAA             2013J           1756             TMA  215.0    30.0\n",
      "\n",
      "Statistics\n",
      "       id_assessment        date      weight\n",
      "count     206.000000  195.000000  206.000000\n",
      "mean    26473.975728  145.005128   20.873786\n",
      "std     10098.625521   76.001119   30.384224\n",
      "min      1752.000000   12.000000    0.000000\n",
      "25%     15023.250000   71.000000    0.000000\n",
      "50%     25364.500000  152.000000   12.500000\n",
      "75%     34891.750000  222.000000   24.250000\n",
      "max     40088.000000  261.000000  100.000000\n"
     ]
    }
   ],
   "metadata": {}
  },
  {
   "cell_type": "markdown",
   "source": [
    "\\pagebreak\n",
    "## Courses\n",
    "\n",
    "* code_module – code name of the module, which serves as the identifier.\n",
    "* code_presentation – code name of the presentation. It consists of the year and “B” for the presentation starting in February and “J” for the presentation starting in October.\n",
    "* length - length of the module-presentation in days."
   ],
   "metadata": {}
  },
  {
   "cell_type": "code",
   "execution_count": 15,
   "source": [
    "courses = read_data(\"courses\")"
   ],
   "outputs": [
    {
     "output_type": "stream",
     "name": "stdout",
     "text": [
      "Head\n",
      "  code_module code_presentation  module_presentation_length\n",
      "0         AAA             2013J                         268\n",
      "1         AAA             2014J                         269\n",
      "2         BBB             2013J                         268\n",
      "3         BBB             2014J                         262\n",
      "4         BBB             2013B                         240\n",
      "\n",
      "Statistics\n",
      "       module_presentation_length\n",
      "count                   22.000000\n",
      "mean                   255.545455\n",
      "std                     13.654677\n",
      "min                    234.000000\n",
      "25%                    241.000000\n",
      "50%                    261.500000\n",
      "75%                    268.000000\n",
      "max                    269.000000\n"
     ]
    }
   ],
   "metadata": {}
  },
  {
   "cell_type": "markdown",
   "source": [
    "\\pagebreak\n",
    "## Virtual learning environments\n",
    "\n",
    "* id_site – an identification number of the material.\n",
    "* code_module – an identification code for module.\n",
    "* code_presentation - the identification code of presentation.\n",
    "* activity_type – the role associated with the module material.\n",
    "* week_from – the week from which the material is planned to be used.\n",
    "* week_to – week until which the material is planned to be used."
   ],
   "metadata": {}
  },
  {
   "cell_type": "code",
   "execution_count": 16,
   "source": [
    "vles = read_data(\"vle\")"
   ],
   "outputs": [
    {
     "output_type": "stream",
     "name": "stdout",
     "text": [
      "Head\n",
      "   id_site code_module code_presentation activity_type  week_from  week_to\n",
      "0   546943         AAA             2013J      resource        NaN      NaN\n",
      "1   546712         AAA             2013J     oucontent        NaN      NaN\n",
      "2   546998         AAA             2013J      resource        NaN      NaN\n",
      "3   546888         AAA             2013J           url        NaN      NaN\n",
      "4   547035         AAA             2013J      resource        NaN      NaN\n",
      "\n",
      "Statistics\n",
      "            id_site    week_from      week_to\n",
      "count  6.364000e+03  1121.000000  1121.000000\n",
      "mean   7.260991e+05    15.204282    15.214987\n",
      "std    1.283151e+05     8.792865     8.779806\n",
      "min    5.267210e+05     0.000000     0.000000\n",
      "25%    6.615928e+05     8.000000     8.000000\n",
      "50%    7.300965e+05    15.000000    15.000000\n",
      "75%    8.140162e+05    22.000000    22.000000\n",
      "max    1.077905e+06    29.000000    29.000000\n"
     ]
    }
   ],
   "metadata": {}
  },
  {
   "cell_type": "markdown",
   "source": [
    "\\pagebreak\n",
    "## Student virtual learning environments\n",
    "* code_module – an identification code for a module.\n",
    "* code_presentation - the identification code of the module presentation.\n",
    "* id_student – a unique identification number for the student.\n",
    "* id_site - an identification number for the VLE material.\n",
    "* date – the date of student’s interaction with the material measured as the number of days since the start of the module-presentation.\n",
    "* sum_click – the number of times a student interacts with the material in that day."
   ],
   "metadata": {}
  },
  {
   "cell_type": "code",
   "execution_count": 17,
   "source": [
    "studentVles = read_data(\"studentVle\")"
   ],
   "outputs": [
    {
     "output_type": "stream",
     "name": "stdout",
     "text": [
      "Head\n",
      "  code_module code_presentation  id_student  id_site  date  sum_click\n",
      "0         AAA             2013J       28400   546652   -10          4\n",
      "1         AAA             2013J       28400   546652   -10          1\n",
      "2         AAA             2013J       28400   546652   -10          1\n",
      "3         AAA             2013J       28400   546614   -10         11\n",
      "4         AAA             2013J       28400   546714   -10          1\n",
      "\n",
      "Statistics\n",
      "         id_student       id_site          date     sum_click\n",
      "count  1.065528e+07  1.065528e+07  1.065528e+07  1.065528e+07\n",
      "mean   7.333336e+05  7.383234e+05  9.517400e+01  3.716946e+00\n",
      "std    5.827060e+05  1.312196e+05  7.607130e+01  8.849047e+00\n",
      "min    6.516000e+03  5.267210e+05 -2.500000e+01  1.000000e+00\n",
      "25%    5.077430e+05  6.735190e+05  2.500000e+01  1.000000e+00\n",
      "50%    5.882360e+05  7.300690e+05  8.600000e+01  2.000000e+00\n",
      "75%    6.464840e+05  8.770300e+05  1.560000e+02  3.000000e+00\n",
      "max    2.698588e+06  1.049562e+06  2.690000e+02  6.977000e+03\n"
     ]
    }
   ],
   "metadata": {}
  },
  {
   "cell_type": "markdown",
   "source": [
    "\\pagebreak\n",
    "## Student information\n",
    "\n",
    "* code_module – an identification code for a module on which the student is registered.\n",
    "* code_presentation - the identification code of the presentation during which the student is registered on the module.\n",
    "* id_student – a unique identification number for the student.\n",
    "* gender – the student’s gender.\n",
    "* region – identifies the geographic region, where the student lived while taking the module-presentation.\n",
    "* highest_education – highest student education level on entry to the module presentation.\n",
    "* imd_band – specifies the Index of Multiple Depravation band of the place where the student lived during the module-presentation.\n",
    "* age_band – band of the student’s age.\n",
    "* num_of_prev_attempts – the number times the student has attempted this module.\n",
    "* studied_credits – the total number of credits for the modules the student is currently studying.\n",
    "* disability – indicates whether the student has declared a disability.\n",
    "* final_result – student’s final result in the module-presentation."
   ],
   "metadata": {}
  },
  {
   "cell_type": "code",
   "execution_count": 18,
   "source": [
    "studentInfo = read_data(\"studentInfo\")"
   ],
   "outputs": [
    {
     "output_type": "stream",
     "name": "stdout",
     "text": [
      "Head\n",
      "  code_module code_presentation  id_student gender                region  \\\n",
      "0         AAA             2013J       11391      M   East Anglian Region   \n",
      "1         AAA             2013J       28400      F              Scotland   \n",
      "2         AAA             2013J       30268      F  North Western Region   \n",
      "3         AAA             2013J       31604      F     South East Region   \n",
      "4         AAA             2013J       32885      F  West Midlands Region   \n",
      "\n",
      "       highest_education imd_band age_band  num_of_prev_attempts  \\\n",
      "0       HE Qualification  90-100%     55<=                     0   \n",
      "1       HE Qualification   20-30%    35-55                     0   \n",
      "2  A Level or Equivalent   30-40%    35-55                     0   \n",
      "3  A Level or Equivalent   50-60%    35-55                     0   \n",
      "4     Lower Than A Level   50-60%     0-35                     0   \n",
      "\n",
      "   studied_credits disability final_result  \n",
      "0              240          N         Pass  \n",
      "1               60          N         Pass  \n",
      "2               60          Y    Withdrawn  \n",
      "3               60          N         Pass  \n",
      "4               60          N         Pass  \n",
      "\n",
      "Statistics\n",
      "         id_student  num_of_prev_attempts  studied_credits\n",
      "count  3.259300e+04          32593.000000     32593.000000\n",
      "mean   7.066877e+05              0.163225        79.758691\n",
      "std    5.491673e+05              0.479758        41.071900\n",
      "min    3.733000e+03              0.000000        30.000000\n",
      "25%    5.085730e+05              0.000000        60.000000\n",
      "50%    5.903100e+05              0.000000        60.000000\n",
      "75%    6.444530e+05              0.000000       120.000000\n",
      "max    2.716795e+06              6.000000       655.000000\n"
     ]
    }
   ],
   "metadata": {}
  },
  {
   "cell_type": "markdown",
   "source": [
    "\\pagebreak\n",
    "## Student assessments\n",
    "\n",
    "* id_assessment – the identification number of the assessment.\n",
    "* id_student – a unique identification number for the student.\n",
    "* date_submitted – the date of student submission, measured as the number of days since the start of the module presentation.\n",
    "* is_banked – a status flag indicating that the assessment result has been transferred from a previous presentation.\n",
    "* score – the student’s score in this assessment. The range is from 0 to 100. The score lower than 40 is interpreted as Fail. The marks are in the range from 0 to 100.\n"
   ],
   "metadata": {}
  },
  {
   "cell_type": "code",
   "execution_count": 19,
   "source": [
    "studentAssessments = read_data(\"studentAssessment\")"
   ],
   "outputs": [
    {
     "output_type": "stream",
     "name": "stdout",
     "text": [
      "Head\n",
      "   id_assessment  id_student  date_submitted  is_banked  score\n",
      "0           1752       11391              18          0   78.0\n",
      "1           1752       28400              22          0   70.0\n",
      "2           1752       31604              17          0   72.0\n",
      "3           1752       32885              26          0   69.0\n",
      "4           1752       38053              19          0   79.0\n",
      "\n",
      "Statistics\n",
      "       id_assessment    id_student  date_submitted      is_banked  \\\n",
      "count  173912.000000  1.739120e+05   173912.000000  173912.000000   \n",
      "mean    26553.803556  7.051507e+05      116.032942       0.010977   \n",
      "std      8829.784254  5.523952e+05       71.484148       0.104194   \n",
      "min      1752.000000  6.516000e+03      -11.000000       0.000000   \n",
      "25%     15022.000000  5.044290e+05       51.000000       0.000000   \n",
      "50%     25359.000000  5.852080e+05      116.000000       0.000000   \n",
      "75%     34883.000000  6.344980e+05      173.000000       0.000000   \n",
      "max     37443.000000  2.698588e+06      608.000000       1.000000   \n",
      "\n",
      "               score  \n",
      "count  173739.000000  \n",
      "mean       75.799573  \n",
      "std        18.798107  \n",
      "min         0.000000  \n",
      "25%        65.000000  \n",
      "50%        80.000000  \n",
      "75%        90.000000  \n",
      "max       100.000000  \n"
     ]
    }
   ],
   "metadata": {}
  }
 ],
 "metadata": {
  "orig_nbformat": 4,
  "language_info": {
   "name": "python",
   "version": "3.8.10",
   "mimetype": "text/x-python",
   "codemirror_mode": {
    "name": "ipython",
    "version": 3
   },
   "pygments_lexer": "ipython3",
   "nbconvert_exporter": "python",
   "file_extension": ".py"
  },
  "kernelspec": {
   "name": "python3",
   "display_name": "Python 3.8.10 64-bit ('TFL-Early-Warning-System-Dk1ikBfz': pipenv)"
  },
  "interpreter": {
   "hash": "e475ca911d037dd20b3a468ef59286c04ab37dedf18160dcce0c9f36ca56fa54"
  }
 },
 "nbformat": 4,
 "nbformat_minor": 2
}